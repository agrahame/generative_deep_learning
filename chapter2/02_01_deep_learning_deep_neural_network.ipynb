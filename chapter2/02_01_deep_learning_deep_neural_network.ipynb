{
 "cells": [
  {
   "cell_type": "code",
   "execution_count": 1,
   "id": "varied-frank",
   "metadata": {},
   "outputs": [],
   "source": [
    "from fastai.vision.all import *"
   ]
  },
  {
   "cell_type": "markdown",
   "id": "grateful-lingerie",
   "metadata": {},
   "source": [
    "#### Getting the data into `DataLoaders`"
   ]
  },
  {
   "cell_type": "code",
   "execution_count": 2,
   "id": "authorized-magic",
   "metadata": {},
   "outputs": [],
   "source": [
    "path = untar_data(URLs.CIFAR, dest='data')"
   ]
  },
  {
   "cell_type": "code",
   "execution_count": 3,
   "id": "usual-oasis",
   "metadata": {},
   "outputs": [
    {
     "data": {
      "text/plain": [
       "(#3) [Path('data/cifar10/train'),Path('data/cifar10/labels.txt'),Path('data/cifar10/test')]"
      ]
     },
     "execution_count": 3,
     "metadata": {},
     "output_type": "execute_result"
    }
   ],
   "source": [
    "path.ls()"
   ]
  },
  {
   "cell_type": "code",
   "execution_count": 4,
   "id": "accompanied-fundamentals",
   "metadata": {},
   "outputs": [],
   "source": [
    "Path.PATH_BASE = path/'data'/'cifar10'"
   ]
  },
  {
   "cell_type": "code",
   "execution_count": 5,
   "id": "private-saturday",
   "metadata": {},
   "outputs": [
    {
     "data": {
      "text/plain": [
       "(#10) [Path('data/cifar10/train/horse'),Path('data/cifar10/train/dog'),Path('data/cifar10/train/ship'),Path('data/cifar10/train/frog'),Path('data/cifar10/train/truck'),Path('data/cifar10/train/deer'),Path('data/cifar10/train/airplane'),Path('data/cifar10/train/automobile'),Path('data/cifar10/train/cat'),Path('data/cifar10/train/bird')]"
      ]
     },
     "execution_count": 5,
     "metadata": {},
     "output_type": "execute_result"
    }
   ],
   "source": [
    "(path/'train').ls()"
   ]
  },
  {
   "cell_type": "code",
   "execution_count": 6,
   "id": "governing-south",
   "metadata": {},
   "outputs": [
    {
     "data": {
      "text/plain": [
       "(#5000) [Path('data/cifar10/train/horse/956_horse.png'),Path('data/cifar10/train/horse/3854_horse.png'),Path('data/cifar10/train/horse/14910_horse.png'),Path('data/cifar10/train/horse/44166_horse.png'),Path('data/cifar10/train/horse/28759_horse.png'),Path('data/cifar10/train/horse/13200_horse.png'),Path('data/cifar10/train/horse/5168_horse.png'),Path('data/cifar10/train/horse/34335_horse.png'),Path('data/cifar10/train/horse/39513_horse.png'),Path('data/cifar10/train/horse/20699_horse.png')...]"
      ]
     },
     "execution_count": 6,
     "metadata": {},
     "output_type": "execute_result"
    }
   ],
   "source": [
    "(path/'train'/'horse').ls()"
   ]
  },
  {
   "cell_type": "code",
   "execution_count": 7,
   "id": "fancy-speaking",
   "metadata": {},
   "outputs": [],
   "source": [
    "horses = get_image_files(path/'train'/'horse')"
   ]
  },
  {
   "cell_type": "code",
   "execution_count": 8,
   "id": "duplicate-history",
   "metadata": {},
   "outputs": [
    {
     "data": {
      "text/plain": [
       "(#5000) [Path('data/cifar10/train/horse/956_horse.png'),Path('data/cifar10/train/horse/3854_horse.png'),Path('data/cifar10/train/horse/14910_horse.png'),Path('data/cifar10/train/horse/44166_horse.png'),Path('data/cifar10/train/horse/28759_horse.png'),Path('data/cifar10/train/horse/13200_horse.png'),Path('data/cifar10/train/horse/5168_horse.png'),Path('data/cifar10/train/horse/34335_horse.png'),Path('data/cifar10/train/horse/39513_horse.png'),Path('data/cifar10/train/horse/20699_horse.png')...]"
      ]
     },
     "execution_count": 8,
     "metadata": {},
     "output_type": "execute_result"
    }
   ],
   "source": [
    "horses"
   ]
  },
  {
   "cell_type": "code",
   "execution_count": 9,
   "id": "retained-feeling",
   "metadata": {},
   "outputs": [
    {
     "data": {
      "image/png": "[encoded data removed]",
      "text/plain": [
       "<PIL.PngImagePlugin.PngImageFile image mode=RGB size=32x32 at 0x7F47EE4DD760>"
      ]
     },
     "execution_count": 9,
     "metadata": {},
     "output_type": "execute_result"
    }
   ],
   "source": [
    "Image.open(horses[0])"
   ]
  },
  {
   "cell_type": "code",
   "execution_count": 10,
   "id": "operational-savage",
   "metadata": {},
   "outputs": [],
   "source": [
    "data_block = DataBlock(\n",
    "    # Tell the DataBlock the types of our (independent, dependent) variables.\n",
    "    # In this instance our independent variables are images so we use the ImageBlock.\n",
    "    # Our independent variables are categories hence CategoryBlock\n",
    "    blocks=(ImageBlock, CategoryBlock),\n",
    "    # Pass a function that retrieves all the data itmes from the source that we'll\n",
    "    # provide. This get_image_files function recursively retrieves paths to all the\n",
    "    # image files in some directory\n",
    "    get_items=get_image_files,\n",
    "    # Pass a function that will be applied to each data item that'll tell us how\n",
    "    # to get the label/independent variable of that item. Since we have paths, we\n",
    "    # use parent_label to get the name of the directory the file is in\n",
    "    get_y=parent_label,\n",
    "    # Indicate how to separate the data into training and validation sets. By default\n",
    "    # RandomSplitter will take 20% of the indices of the data items list at random and\n",
    "    # use those as the validation set. We can specify if we want to use a larger percentage.\n",
    "    # Setting the seed argument ensures that we get the same split each time.\n",
    "    splitter=RandomSplitter(seed=42)\n",
    ")"
   ]
  },
  {
   "cell_type": "code",
   "execution_count": 11,
   "id": "undefined-dover",
   "metadata": {},
   "outputs": [],
   "source": [
    "dataloaders = data_block.dataloaders(path/'train')"
   ]
  },
  {
   "cell_type": "code",
   "execution_count": 12,
   "id": "dramatic-officer",
   "metadata": {},
   "outputs": [
    {
     "data": {
      "image/png": "[encoded data removed]",
      "text/plain": [
       "<Figure size 144x144 with 4 Axes>"
      ]
     },
     "metadata": {
      "needs_background": "light"
     },
     "output_type": "display_data"
    }
   ],
   "source": [
    "dataloaders.show_batch(max_n=4, figsize=(2, 2))"
   ]
  },
  {
   "cell_type": "markdown",
   "id": "anonymous-asset",
   "metadata": {},
   "source": [
    "We can use the `summary` method to see the steps taken when creating the data block. We can use this to ensure that everything is behaving as expected"
   ]
  },
  {
   "cell_type": "code",
   "execution_count": 13,
   "id": "mexican-lloyd",
   "metadata": {},
   "outputs": [
    {
     "name": "stdout",
     "output_type": "stream",
     "text": [
      "Setting-up type transforms pipelines\n",
      "Collecting items from data/cifar10/train\n",
      "Found 50000 items\n",
      "2 datasets of sizes 40000,10000\n",
      "Setting up Pipeline: PILBase.create\n",
      "Setting up Pipeline: parent_label -> Categorize -- {'vocab': None, 'sort': True, 'add_na': False}\n",
      "\n",
      "Building one sample\n",
      "  Pipeline: PILBase.create\n",
      "    starting from\n",
      "      data/cifar10/train/truck/3702_truck.png\n",
      "    applying PILBase.create gives\n",
      "      PILImage mode=RGB size=32x32\n",
      "  Pipeline: parent_label -> Categorize -- {'vocab': None, 'sort': True, 'add_na': False}\n",
      "    starting from\n",
      "      data/cifar10/train/truck/3702_truck.png\n",
      "    applying parent_label gives\n",
      "      truck\n",
      "    applying Categorize -- {'vocab': None, 'sort': True, 'add_na': False} gives\n",
      "      TensorCategory(9)\n",
      "\n",
      "Final sample: (PILImage mode=RGB size=32x32, TensorCategory(9))\n",
      "\n",
      "\n",
      "Collecting items from data/cifar10/train\n",
      "Found 50000 items\n",
      "2 datasets of sizes 40000,10000\n",
      "Setting up Pipeline: PILBase.create\n",
      "Setting up Pipeline: parent_label -> Categorize -- {'vocab': None, 'sort': True, 'add_na': False}\n",
      "Setting up after_item: Pipeline: ToTensor\n",
      "Setting up before_batch: Pipeline: \n",
      "Setting up after_batch: Pipeline: IntToFloatTensor -- {'div': 255.0, 'div_mask': 1}\n",
      "\n",
      "Building one batch\n",
      "Applying item_tfms to the first sample:\n",
      "  Pipeline: ToTensor\n",
      "    starting from\n",
      "      (PILImage mode=RGB size=32x32, TensorCategory(9))\n",
      "    applying ToTensor gives\n",
      "      (TensorImage of size 3x32x32, TensorCategory(9))\n",
      "\n",
      "Adding the next 3 samples\n",
      "\n",
      "No before_batch transform to apply\n",
      "\n",
      "Collating items in a batch\n",
      "\n",
      "Applying batch_tfms to the batch built\n",
      "  Pipeline: IntToFloatTensor -- {'div': 255.0, 'div_mask': 1}\n",
      "    starting from\n",
      "      (TensorImage of size 4x3x32x32, TensorCategory([9, 7, 9, 0], device='cuda:0'))\n",
      "    applying IntToFloatTensor -- {'div': 255.0, 'div_mask': 1} gives\n",
      "      (TensorImage of size 4x3x32x32, TensorCategory([9, 7, 9, 0], device='cuda:0'))\n"
     ]
    }
   ],
   "source": [
    "data_block.summary(path/'train')"
   ]
  },
  {
   "cell_type": "markdown",
   "id": "comparative-breed",
   "metadata": {},
   "source": [
    "#### Training a model"
   ]
  },
  {
   "cell_type": "markdown",
   "id": "plastic-newfoundland",
   "metadata": {},
   "source": [
    "We use fastai's builtin convolutional neural net with the resnet architecture"
   ]
  },
  {
   "cell_type": "code",
   "execution_count": 14,
   "id": "understanding-genetics",
   "metadata": {},
   "outputs": [],
   "source": [
    "learner = cnn_learner(dataloaders, resnet18, metrics=error_rate)"
   ]
  },
  {
   "cell_type": "markdown",
   "id": "neutral-capability",
   "metadata": {},
   "source": [
    "Use fastai's learning rate finder to choose a learning rate for fine tuning"
   ]
  },
  {
   "cell_type": "code",
   "execution_count": 15,
   "id": "vital-verification",
   "metadata": {},
   "outputs": [
    {
     "data": {
      "text/html": [],
      "text/plain": [
       "<IPython.core.display.HTML object>"
      ]
     },
     "metadata": {},
     "output_type": "display_data"
    },
    {
     "data": {
      "text/plain": [
       "SuggestedLRs(valley=0.0008317637839354575)"
      ]
     },
     "execution_count": 15,
     "metadata": {},
     "output_type": "execute_result"
    },
    {
     "data": {
      "image/png": "[encoded data removed]",
      "text/plain": [
       "<Figure size 432x288 with 1 Axes>"
      ]
     },
     "metadata": {
      "needs_background": "light"
     },
     "output_type": "display_data"
    }
   ],
   "source": [
    "learner.lr_find()"
   ]
  },
  {
   "cell_type": "code",
   "execution_count": 16,
   "id": "dynamic-laser",
   "metadata": {},
   "outputs": [
    {
     "data": {
      "text/html": [
       "<table border=\"1\" class=\"dataframe\">\n",
       "  <thead>\n",
       "    <tr style=\"text-align: left;\">\n",
       "      <th>epoch</th>\n",
       "      <th>train_loss</th>\n",
       "      <th>valid_loss</th>\n",
       "      <th>error_rate</th>\n",
       "      <th>time</th>\n",
       "    </tr>\n",
       "  </thead>\n",
       "  <tbody>\n",
       "    <tr>\n",
       "      <td>0</td>\n",
       "      <td>1.710963</td>\n",
       "      <td>1.554631</td>\n",
       "      <td>0.544400</td>\n",
       "      <td>00:25</td>\n",
       "    </tr>\n",
       "  </tbody>\n",
       "</table>"
      ],
      "text/plain": [
       "<IPython.core.display.HTML object>"
      ]
     },
     "metadata": {},
     "output_type": "display_data"
    },
    {
     "data": {
      "text/html": [
       "<table border=\"1\" class=\"dataframe\">\n",
       "  <thead>\n",
       "    <tr style=\"text-align: left;\">\n",
       "      <th>epoch</th>\n",
       "      <th>train_loss</th>\n",
       "      <th>valid_loss</th>\n",
       "      <th>error_rate</th>\n",
       "      <th>time</th>\n",
       "    </tr>\n",
       "  </thead>\n",
       "  <tbody>\n",
       "    <tr>\n",
       "      <td>0</td>\n",
       "      <td>1.016620</td>\n",
       "      <td>0.915868</td>\n",
       "      <td>0.316700</td>\n",
       "      <td>00:25</td>\n",
       "    </tr>\n",
       "    <tr>\n",
       "      <td>1</td>\n",
       "      <td>0.778349</td>\n",
       "      <td>0.722285</td>\n",
       "      <td>0.244600</td>\n",
       "      <td>00:24</td>\n",
       "    </tr>\n",
       "    <tr>\n",
       "      <td>2</td>\n",
       "      <td>0.593184</td>\n",
       "      <td>0.660751</td>\n",
       "      <td>0.224700</td>\n",
       "      <td>00:25</td>\n",
       "    </tr>\n",
       "    <tr>\n",
       "      <td>3</td>\n",
       "      <td>0.348768</td>\n",
       "      <td>0.674468</td>\n",
       "      <td>0.213000</td>\n",
       "      <td>00:25</td>\n",
       "    </tr>\n",
       "    <tr>\n",
       "      <td>4</td>\n",
       "      <td>0.219619</td>\n",
       "      <td>0.706846</td>\n",
       "      <td>0.210600</td>\n",
       "      <td>00:25</td>\n",
       "    </tr>\n",
       "  </tbody>\n",
       "</table>"
      ],
      "text/plain": [
       "<IPython.core.display.HTML object>"
      ]
     },
     "metadata": {},
     "output_type": "display_data"
    }
   ],
   "source": [
    "learner.fine_tune(5, 3e-3)"
   ]
  },
  {
   "cell_type": "code",
   "execution_count": 17,
   "id": "unauthorized-estate",
   "metadata": {},
   "outputs": [
    {
     "data": {
      "image/png": "[encoded data removed]",
      "text/plain": [
       "<PIL.PngImagePlugin.PngImageFile image mode=RGB size=32x32 at 0x7F47CD96D370>"
      ]
     },
     "execution_count": 17,
     "metadata": {},
     "output_type": "execute_result"
    }
   ],
   "source": [
    "horse_img = Image.open(horses[0]); horse_img"
   ]
  },
  {
   "cell_type": "markdown",
   "id": "spoken-integer",
   "metadata": {},
   "source": [
    "Viewing this image as a PyTorch tensor"
   ]
  },
  {
   "cell_type": "code",
   "execution_count": 18,
   "id": "closed-federal",
   "metadata": {},
   "outputs": [],
   "source": [
    "tensor_img = tensor(horse_img)"
   ]
  },
  {
   "cell_type": "code",
   "execution_count": 19,
   "id": "overhead-lithuania",
   "metadata": {},
   "outputs": [
    {
     "data": {
      "text/plain": [
       "torch.Size([32, 32, 3])"
      ]
     },
     "execution_count": 19,
     "metadata": {},
     "output_type": "execute_result"
    }
   ],
   "source": [
    "tensor_img.shape"
   ]
  },
  {
   "cell_type": "markdown",
   "id": "strange-ukraine",
   "metadata": {},
   "source": [
    "Use permute to swap the order of the axes so that the channels is the first axis"
   ]
  },
  {
   "cell_type": "code",
   "execution_count": 20,
   "id": "electoral-ceremony",
   "metadata": {},
   "outputs": [],
   "source": [
    "tensor_img = tensor_img.permute(2, 0, 1)"
   ]
  },
  {
   "cell_type": "code",
   "execution_count": 21,
   "id": "blind-beast",
   "metadata": {},
   "outputs": [
    {
     "data": {
      "text/plain": [
       "torch.Size([3, 32, 32])"
      ]
     },
     "execution_count": 21,
     "metadata": {},
     "output_type": "execute_result"
    }
   ],
   "source": [
    "tensor_img.shape"
   ]
  },
  {
   "cell_type": "markdown",
   "id": "primary-sally",
   "metadata": {},
   "source": [
    "View rows 4 to 9 and columns 4 to 9 of all 3 channels"
   ]
  },
  {
   "cell_type": "code",
   "execution_count": 22,
   "id": "quantitative-negative",
   "metadata": {},
   "outputs": [
    {
     "data": {
      "text/plain": [
       "tensor([[[ 95, 128,  74, 116, 170, 160],\n",
       "         [173, 145,  95, 133, 180, 173],\n",
       "         [157, 133, 136, 126, 126, 143],\n",
       "         [109, 132, 108,  64,  64,  88],\n",
       "         [113,  87,  87,  75,  47,  31],\n",
       "         [126, 116, 101,  64,  41,  34]],\n",
       "\n",
       "        [[ 91, 131,  73, 127, 189, 177],\n",
       "         [176, 139,  91, 132, 183, 175],\n",
       "         [147, 125, 132, 123, 126, 144],\n",
       "         [ 96, 128, 104,  53,  53,  80],\n",
       "         [107,  83,  82,  64,  31,  14],\n",
       "         [120, 112, 101,  55,  20,  14]],\n",
       "\n",
       "        [[ 81, 122,  68, 104, 158, 154],\n",
       "         [154, 144,  95, 135, 187, 183],\n",
       "         [143, 128, 137, 130, 135, 150],\n",
       "         [101, 133, 110,  62,  65,  91],\n",
       "         [116,  92,  90,  75,  44,  28],\n",
       "         [131, 121, 109,  66,  36,  28]]], dtype=torch.uint8)"
      ]
     },
     "execution_count": 22,
     "metadata": {},
     "output_type": "execute_result"
    }
   ],
   "source": [
    "tensor_img[:, 4:10, 4:10]"
   ]
  },
  {
   "cell_type": "markdown",
   "id": "naughty-respect",
   "metadata": {},
   "source": [
    "When our image is in the form of a tensor we can use fastai's `show_image` function to view it"
   ]
  },
  {
   "cell_type": "code",
   "execution_count": 23,
   "id": "killing-giving",
   "metadata": {},
   "outputs": [
    {
     "data": {
      "text/plain": [
       "<AxesSubplot:>"
      ]
     },
     "execution_count": 23,
     "metadata": {},
     "output_type": "execute_result"
    },
    {
     "data": {
      "image/png": "[encoded data removed]",
      "text/plain": [
       "<Figure size 72x72 with 1 Axes>"
      ]
     },
     "metadata": {
      "needs_background": "light"
     },
     "output_type": "display_data"
    }
   ],
   "source": [
    "show_image(tensor_img)"
   ]
  },
  {
   "cell_type": "code",
   "execution_count": null,
   "id": "floral-teacher",
   "metadata": {},
   "outputs": [],
   "source": []
  }
 ],
 "metadata": {
  "kernelspec": {
   "display_name": "Python 3",
   "language": "python",
   "name": "python3"
  },
  "language_info": {
   "codemirror_mode": {
    "name": "ipython",
    "version": 3
   },
   "file_extension": ".py",
   "mimetype": "text/x-python",
   "name": "python",
   "nbconvert_exporter": "python",
   "pygments_lexer": "ipython3",
   "version": "3.8.5"
  }
 },
 "nbformat": 4,
 "nbformat_minor": 5
}
