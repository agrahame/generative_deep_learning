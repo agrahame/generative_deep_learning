{
 "cells": [
  {
   "cell_type": "code",
   "execution_count": null,
   "id": "intermediate-literacy",
   "metadata": {},
   "outputs": [],
   "source": [
    "from fastai.vision.all import *\n",
    "from models.GAN import Generator, Critic, GANLearner\n",
    "from fastai.vision.gan import generate_noise\n",
    "from torchsummary import summary\n",
    "from util.util import GANImageBlock"
   ]
  },
  {
   "cell_type": "code",
   "execution_count": null,
   "id": "turkish-nickname",
   "metadata": {},
   "outputs": [],
   "source": [
    "path = Path('data/celebA/img_align_celeba/img_align_celeba')"
   ]
  },
  {
   "cell_type": "code",
   "execution_count": null,
   "id": "complicated-beijing",
   "metadata": {},
   "outputs": [],
   "source": [
    "Path.BASE_PATH = path"
   ]
  },
  {
   "cell_type": "code",
   "execution_count": null,
   "id": "ceramic-disco",
   "metadata": {},
   "outputs": [],
   "source": [
    "datablock = DataBlock(blocks=(TransformBlock, GANImageBlock),\n",
    "                      get_items=get_image_files,\n",
    "                      get_x=generate_noise,\n",
    "                      splitter=RandomSplitter(seed=42),\n",
    "                      item_tfms=Resize(64)\n",
    "                     )"
   ]
  },
  {
   "cell_type": "code",
   "execution_count": null,
   "id": "affecting-entertainment",
   "metadata": {},
   "outputs": [],
   "source": [
    "dataloaders = datablock.dataloaders(path, bs=64)"
   ]
  },
  {
   "cell_type": "code",
   "execution_count": null,
   "id": "mature-injection",
   "metadata": {},
   "outputs": [],
   "source": [
    "dataloaders.show_batch(max_n=9)"
   ]
  },
  {
   "cell_type": "code",
   "execution_count": null,
   "id": "specialized-anxiety",
   "metadata": {},
   "outputs": [],
   "source": [
    "generator = Generator(z_dim=100,\n",
    "                      unflattened_shape=[512, 4, 4],\n",
    "                      upsample_scale=[2, 2, 2, 2],\n",
    "                      filters=[256, 128, 64, 3],\n",
    "                      kernels=[5, 5, 5, 5],\n",
    "                      strides=[1, 1, 1, 1],\n",
    "                      batch_norm_mom=0.9,\n",
    "                      dropout_prob=None\n",
    "                     )"
   ]
  },
  {
   "cell_type": "code",
   "execution_count": null,
   "id": "selected-martial",
   "metadata": {},
   "outputs": [],
   "source": [
    "summary(generator, (100,))"
   ]
  },
  {
   "cell_type": "code",
   "execution_count": null,
   "id": "caring-malta",
   "metadata": {},
   "outputs": [],
   "source": [
    "critic = Critic(input_shape=[3, 64, 64],\n",
    "                filters=[64, 128, 256, 512],\n",
    "                kernels=[5, 5, 5, 5],\n",
    "                strides=[2, 2, 2, 2],\n",
    "                batch_norm_mom=None,\n",
    "                dropout_prob=None\n",
    "               )"
   ]
  },
  {
   "cell_type": "code",
   "execution_count": null,
   "id": "broad-electronics",
   "metadata": {},
   "outputs": [],
   "source": [
    "summary(critic, (3, 64, 64))"
   ]
  },
  {
   "cell_type": "code",
   "execution_count": null,
   "id": "third-routine",
   "metadata": {},
   "outputs": [],
   "source": [
    "learner = GANLearner.wgangp(dataloaders=dataloaders,\n",
    "                            generator=generator,\n",
    "                            critic=critic,\n",
    "                            opt_func=Adam\n",
    "                           )\n",
    "\n",
    "learner.recorder.train_metrics=True\n",
    "learner.recorder.valid_metrics=False"
   ]
  },
  {
   "cell_type": "code",
   "execution_count": null,
   "id": "planned-arena",
   "metadata": {},
   "outputs": [],
   "source": [
    "learner.lr_find()"
   ]
  },
  {
   "cell_type": "code",
   "execution_count": null,
   "id": "banned-procedure",
   "metadata": {},
   "outputs": [],
   "source": [
    "learner.fit(10, 8e-4)"
   ]
  },
  {
   "cell_type": "code",
   "execution_count": null,
   "id": "flush-tooth",
   "metadata": {},
   "outputs": [],
   "source": []
  }
 ],
 "metadata": {
  "kernelspec": {
   "display_name": "Python 3",
   "language": "python",
   "name": "python3"
  },
  "language_info": {
   "codemirror_mode": {
    "name": "ipython",
    "version": 3
   },
   "file_extension": ".py",
   "mimetype": "text/x-python",
   "name": "python",
   "nbconvert_exporter": "python",
   "pygments_lexer": "ipython3",
   "version": "3.8.5"
  }
 },
 "nbformat": 4,
 "nbformat_minor": 5
}
