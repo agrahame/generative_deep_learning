{
 "cells": [
  {
   "cell_type": "code",
   "execution_count": 1,
   "id": "outer-requirement",
   "metadata": {},
   "outputs": [],
   "source": [
    "from fastai.vision.all import *\n",
    "from models.GAN import Generator, Critic, GANLearner\n",
    "from fastai.vision.gan import generate_noise\n",
    "from torchsummary import summary\n",
    "from util.util import GANImageBlock"
   ]
  },
  {
   "cell_type": "code",
   "execution_count": 2,
   "id": "judicial-posting",
   "metadata": {},
   "outputs": [],
   "source": [
    "path = untar_data(URLs.CIFAR)"
   ]
  },
  {
   "cell_type": "code",
   "execution_count": 3,
   "id": "underlying-pressing",
   "metadata": {},
   "outputs": [],
   "source": [
    "Path.BASE_PATH = path"
   ]
  },
  {
   "cell_type": "code",
   "execution_count": 4,
   "id": "registered-sugar",
   "metadata": {},
   "outputs": [
    {
     "data": {
      "text/plain": [
       "(#3) [Path('train'),Path('test'),Path('labels.txt')]"
      ]
     },
     "execution_count": 4,
     "metadata": {},
     "output_type": "execute_result"
    }
   ],
   "source": [
    "path.ls()"
   ]
  },
  {
   "cell_type": "code",
   "execution_count": 5,
   "id": "painted-composer",
   "metadata": {},
   "outputs": [],
   "source": [
    "train_path = path/'train'/'horse'"
   ]
  },
  {
   "cell_type": "code",
   "execution_count": 6,
   "id": "emerging-broadcast",
   "metadata": {},
   "outputs": [],
   "source": [
    "train_data = get_image_files(train_path)"
   ]
  },
  {
   "cell_type": "code",
   "execution_count": 7,
   "id": "portuguese-nation",
   "metadata": {},
   "outputs": [
    {
     "data": {
      "image/png": "[encoded data removed]",
      "text/plain": [
       "<PIL.PngImagePlugin.PngImageFile image mode=RGB size=32x32 at 0x7F35120C8C70>"
      ]
     },
     "execution_count": 7,
     "metadata": {},
     "output_type": "execute_result"
    }
   ],
   "source": [
    "Image.open(train_data[0])"
   ]
  },
  {
   "cell_type": "code",
   "execution_count": 8,
   "id": "federal-warren",
   "metadata": {},
   "outputs": [],
   "source": [
    "generator = Generator(z_dim=100,\n",
    "                      unflattened_shape=[128, 4, 4],\n",
    "                      upsample_scale=[2, 2, 2, 1],\n",
    "                      filters=[128, 64, 32, 3],\n",
    "                      kernels=[5, 5, 5, 5],\n",
    "                      strides=[1, 1, 1, 1],\n",
    "                      batch_norm_mom=0.8,\n",
    "                      dropout_prob=None\n",
    "                     )"
   ]
  },
  {
   "cell_type": "code",
   "execution_count": 9,
   "id": "rough-difficulty",
   "metadata": {
    "collapsed": true,
    "jupyter": {
     "outputs_hidden": true
    }
   },
   "outputs": [
    {
     "name": "stdout",
     "output_type": "stream",
     "text": [
      "==========================================================================================\n",
      "Layer (type:depth-idx)                   Output Shape              Param #\n",
      "==========================================================================================\n",
      "├─Sequential: 1-1                        [-1, 3, 32, 32]           --\n",
      "|    └─Linear: 2-1                       [-1, 2048]                206,848\n",
      "|    └─BatchNorm1d: 2-2                  [-1, 2048]                4,096\n",
      "|    └─LeakyReLU: 2-3                    [-1, 2048]                --\n",
      "|    └─Unflatten: 2-4                    [-1, 128, 4, 4]           --\n",
      "|    └─Upsample: 2-5                     [-1, 128, 8, 8]           --\n",
      "|    └─Conv2d: 2-6                       [-1, 128, 8, 8]           409,728\n",
      "|    └─BatchNorm2d: 2-7                  [-1, 128, 8, 8]           256\n",
      "|    └─LeakyReLU: 2-8                    [-1, 128, 8, 8]           --\n",
      "|    └─Upsample: 2-9                     [-1, 128, 16, 16]         --\n",
      "|    └─Conv2d: 2-10                      [-1, 64, 16, 16]          204,864\n",
      "|    └─BatchNorm2d: 2-11                 [-1, 64, 16, 16]          128\n",
      "|    └─LeakyReLU: 2-12                   [-1, 64, 16, 16]          --\n",
      "|    └─Upsample: 2-13                    [-1, 64, 32, 32]          --\n",
      "|    └─Conv2d: 2-14                      [-1, 32, 32, 32]          51,232\n",
      "|    └─BatchNorm2d: 2-15                 [-1, 32, 32, 32]          64\n",
      "|    └─LeakyReLU: 2-16                   [-1, 32, 32, 32]          --\n",
      "|    └─Upsample: 2-17                    [-1, 32, 32, 32]          --\n",
      "|    └─Conv2d: 2-18                      [-1, 3, 32, 32]           2,403\n",
      "|    └─Tanh: 2-19                        [-1, 3, 32, 32]           --\n",
      "==========================================================================================\n",
      "Total params: 879,619\n",
      "Trainable params: 879,619\n",
      "Non-trainable params: 0\n",
      "Total mult-adds (M): 134.61\n",
      "==========================================================================================\n",
      "Input size (MB): 0.00\n",
      "Forward/backward pass size (MB): 0.93\n",
      "Params size (MB): 3.36\n",
      "Estimated Total Size (MB): 4.29\n",
      "==========================================================================================\n"
     ]
    },
    {
     "data": {
      "text/plain": [
       "==========================================================================================\n",
       "Layer (type:depth-idx)                   Output Shape              Param #\n",
       "==========================================================================================\n",
       "├─Sequential: 1-1                        [-1, 3, 32, 32]           --\n",
       "|    └─Linear: 2-1                       [-1, 2048]                206,848\n",
       "|    └─BatchNorm1d: 2-2                  [-1, 2048]                4,096\n",
       "|    └─LeakyReLU: 2-3                    [-1, 2048]                --\n",
       "|    └─Unflatten: 2-4                    [-1, 128, 4, 4]           --\n",
       "|    └─Upsample: 2-5                     [-1, 128, 8, 8]           --\n",
       "|    └─Conv2d: 2-6                       [-1, 128, 8, 8]           409,728\n",
       "|    └─BatchNorm2d: 2-7                  [-1, 128, 8, 8]           256\n",
       "|    └─LeakyReLU: 2-8                    [-1, 128, 8, 8]           --\n",
       "|    └─Upsample: 2-9                     [-1, 128, 16, 16]         --\n",
       "|    └─Conv2d: 2-10                      [-1, 64, 16, 16]          204,864\n",
       "|    └─BatchNorm2d: 2-11                 [-1, 64, 16, 16]          128\n",
       "|    └─LeakyReLU: 2-12                   [-1, 64, 16, 16]          --\n",
       "|    └─Upsample: 2-13                    [-1, 64, 32, 32]          --\n",
       "|    └─Conv2d: 2-14                      [-1, 32, 32, 32]          51,232\n",
       "|    └─BatchNorm2d: 2-15                 [-1, 32, 32, 32]          64\n",
       "|    └─LeakyReLU: 2-16                   [-1, 32, 32, 32]          --\n",
       "|    └─Upsample: 2-17                    [-1, 32, 32, 32]          --\n",
       "|    └─Conv2d: 2-18                      [-1, 3, 32, 32]           2,403\n",
       "|    └─Tanh: 2-19                        [-1, 3, 32, 32]           --\n",
       "==========================================================================================\n",
       "Total params: 879,619\n",
       "Trainable params: 879,619\n",
       "Non-trainable params: 0\n",
       "Total mult-adds (M): 134.61\n",
       "==========================================================================================\n",
       "Input size (MB): 0.00\n",
       "Forward/backward pass size (MB): 0.93\n",
       "Params size (MB): 3.36\n",
       "Estimated Total Size (MB): 4.29\n",
       "=========================================================================================="
      ]
     },
     "execution_count": 9,
     "metadata": {},
     "output_type": "execute_result"
    }
   ],
   "source": [
    "summary(generator, (100,))"
   ]
  },
  {
   "cell_type": "code",
   "execution_count": 10,
   "id": "governing-lottery",
   "metadata": {},
   "outputs": [],
   "source": [
    "critic = Critic(input_shape=[3, 32, 32],\n",
    "                filters=[32, 64, 128, 128],\n",
    "                kernels=[5, 5, 5, 5],\n",
    "                strides=[2, 2, 2, 1],\n",
    "                batch_norm_mom=None,\n",
    "                dropout_prob=None\n",
    "               )"
   ]
  },
  {
   "cell_type": "code",
   "execution_count": 11,
   "id": "earlier-option",
   "metadata": {
    "collapsed": true,
    "jupyter": {
     "outputs_hidden": true
    }
   },
   "outputs": [
    {
     "name": "stdout",
     "output_type": "stream",
     "text": [
      "==========================================================================================\n",
      "Layer (type:depth-idx)                   Output Shape              Param #\n",
      "==========================================================================================\n",
      "├─Sequential: 1-1                        [-1, 1]                   --\n",
      "|    └─Conv2d: 2-1                       [-1, 32, 16, 16]          2,432\n",
      "|    └─LeakyReLU: 2-2                    [-1, 32, 16, 16]          --\n",
      "|    └─Conv2d: 2-3                       [-1, 64, 8, 8]            51,264\n",
      "|    └─LeakyReLU: 2-4                    [-1, 64, 8, 8]            --\n",
      "|    └─Conv2d: 2-5                       [-1, 128, 4, 4]           204,928\n",
      "|    └─LeakyReLU: 2-6                    [-1, 128, 4, 4]           --\n",
      "|    └─Conv2d: 2-7                       [-1, 128, 4, 4]           409,728\n",
      "|    └─LeakyReLU: 2-8                    [-1, 128, 4, 4]           --\n",
      "|    └─Flatten: 2-9                      [-1, 2048]                --\n",
      "|    └─Linear: 2-10                      [-1, 1]                   2,049\n",
      "==========================================================================================\n",
      "Total params: 670,401\n",
      "Trainable params: 670,401\n",
      "Non-trainable params: 0\n",
      "Total mult-adds (M): 14.39\n",
      "==========================================================================================\n",
      "Input size (MB): 0.01\n",
      "Forward/backward pass size (MB): 0.13\n",
      "Params size (MB): 2.56\n",
      "Estimated Total Size (MB): 2.69\n",
      "==========================================================================================\n"
     ]
    },
    {
     "data": {
      "text/plain": [
       "==========================================================================================\n",
       "Layer (type:depth-idx)                   Output Shape              Param #\n",
       "==========================================================================================\n",
       "├─Sequential: 1-1                        [-1, 1]                   --\n",
       "|    └─Conv2d: 2-1                       [-1, 32, 16, 16]          2,432\n",
       "|    └─LeakyReLU: 2-2                    [-1, 32, 16, 16]          --\n",
       "|    └─Conv2d: 2-3                       [-1, 64, 8, 8]            51,264\n",
       "|    └─LeakyReLU: 2-4                    [-1, 64, 8, 8]            --\n",
       "|    └─Conv2d: 2-5                       [-1, 128, 4, 4]           204,928\n",
       "|    └─LeakyReLU: 2-6                    [-1, 128, 4, 4]           --\n",
       "|    └─Conv2d: 2-7                       [-1, 128, 4, 4]           409,728\n",
       "|    └─LeakyReLU: 2-8                    [-1, 128, 4, 4]           --\n",
       "|    └─Flatten: 2-9                      [-1, 2048]                --\n",
       "|    └─Linear: 2-10                      [-1, 1]                   2,049\n",
       "==========================================================================================\n",
       "Total params: 670,401\n",
       "Trainable params: 670,401\n",
       "Non-trainable params: 0\n",
       "Total mult-adds (M): 14.39\n",
       "==========================================================================================\n",
       "Input size (MB): 0.01\n",
       "Forward/backward pass size (MB): 0.13\n",
       "Params size (MB): 2.56\n",
       "Estimated Total Size (MB): 2.69\n",
       "=========================================================================================="
      ]
     },
     "execution_count": 11,
     "metadata": {},
     "output_type": "execute_result"
    }
   ],
   "source": [
    "summary(critic, (3, 32, 32))"
   ]
  },
  {
   "cell_type": "code",
   "execution_count": 13,
   "id": "played-selling",
   "metadata": {},
   "outputs": [],
   "source": [
    "datablock = DataBlock(blocks=(TransformBlock, GANImageBlock),\n",
    "                      get_items=get_image_files,\n",
    "                      get_x=generate_noise,\n",
    "                      splitter = RandomSplitter(seed=42)\n",
    "                     )"
   ]
  },
  {
   "cell_type": "code",
   "execution_count": 14,
   "id": "incorporated-segment",
   "metadata": {},
   "outputs": [],
   "source": [
    "dataloaders = datablock.dataloaders(train_path)"
   ]
  },
  {
   "cell_type": "code",
   "execution_count": 15,
   "id": "treated-brazil",
   "metadata": {},
   "outputs": [
    {
     "data": {
      "image/png": "[encoded data removed]",
      "text/plain": [
       "<Figure size 144x144 with 9 Axes>"
      ]
     },
     "metadata": {
      "needs_background": "light"
     },
     "output_type": "display_data"
    }
   ],
   "source": [
    "dataloaders.show_batch(max_n=9, figsize=(2, 2))"
   ]
  },
  {
   "cell_type": "code",
   "execution_count": 16,
   "id": "olympic-bowling",
   "metadata": {},
   "outputs": [],
   "source": [
    "learner = GANLearner.wgan(dataloaders=dataloaders,\n",
    "                          generator=generator,\n",
    "                          critic=critic,\n",
    "                          opt_func=RMSProp\n",
    "                         )\n",
    "\n",
    "# Since the validation loss is the same as the generator loss, don't display it\n",
    "learner.recorder.train_metrics = True\n",
    "learner.recorder.valid_metrics = False"
   ]
  },
  {
   "cell_type": "code",
   "execution_count": null,
   "id": "logical-collectible",
   "metadata": {},
   "outputs": [],
   "source": [
    "learner.fit(1000, 5e-5)"
   ]
  },
  {
   "cell_type": "code",
   "execution_count": 18,
   "id": "choice-savage",
   "metadata": {},
   "outputs": [
    {
     "data": {
      "text/html": [],
      "text/plain": [
       "<IPython.core.display.HTML object>"
      ]
     },
     "metadata": {},
     "output_type": "display_data"
    },
    {
     "data": {
      "image/png": "[encoded data removed]",
      "text/plain": [
       "<Figure size 144x144 with 4 Axes>"
      ]
     },
     "metadata": {
      "needs_background": "light"
     },
     "output_type": "display_data"
    }
   ],
   "source": [
    "# Results after running learner.fit. I cleared the output from that cell for space reasons. Likely need to run for\n",
    "# many more epochs for generated images that look more like horses.\n",
    "\n",
    "learner.show_results(max_n=4, ds_idx=0, figsize=(2, 2))"
   ]
  },
  {
   "cell_type": "code",
   "execution_count": null,
   "id": "pharmaceutical-silly",
   "metadata": {},
   "outputs": [],
   "source": []
  }
 ],
 "metadata": {
  "kernelspec": {
   "display_name": "Python 3",
   "language": "python",
   "name": "python3"
  },
  "language_info": {
   "codemirror_mode": {
    "name": "ipython",
    "version": 3
   },
   "file_extension": ".py",
   "mimetype": "text/x-python",
   "name": "python",
   "nbconvert_exporter": "python",
   "pygments_lexer": "ipython3",
   "version": "3.8.5"
  }
 },
 "nbformat": 4,
 "nbformat_minor": 5
}
