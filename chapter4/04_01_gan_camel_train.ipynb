{
 "cells": [
  {
   "cell_type": "code",
   "execution_count": 1,
   "id": "moderate-showcase",
   "metadata": {},
   "outputs": [],
   "source": [
    "import fastai\n",
    "from fastai.vision.all import *\n",
    "from fastdownload import FastDownload\n",
    "import matplotlib.pyplot as plt\n",
    "from models.GAN import GAN\n",
    "from torchsummary import summary"
   ]
  },
  {
   "cell_type": "code",
   "execution_count": 7,
   "id": "twenty-father",
   "metadata": {},
   "outputs": [],
   "source": [
    "path = Path('./data')"
   ]
  },
  {
   "cell_type": "code",
   "execution_count": 8,
   "id": "detailed-representation",
   "metadata": {},
   "outputs": [],
   "source": [
    "Path.BASE_PATH = path"
   ]
  },
  {
   "cell_type": "code",
   "execution_count": 9,
   "id": "moderate-serve",
   "metadata": {},
   "outputs": [],
   "source": [
    "if not (path/'archive').exists():\n",
    "    loader = FastDownload(base=path.name, module=fastai.data)\n",
    "    loader.update('https://storage.googleapis.com/quickdraw_dataset/full/numpy_bitmap/camel.npy')\n",
    "    loader.download('https://storage.googleapis.com/quickdraw_dataset/full/numpy_bitmap/camel.npy')"
   ]
  },
  {
   "cell_type": "code",
   "execution_count": 10,
   "id": "economic-personality",
   "metadata": {},
   "outputs": [],
   "source": [
    "def get_quickdraw_tensors(path):\n",
    "    files = get_files(path, extensions=['.npy'])\n",
    "    \n",
    "    label = 0\n",
    "    for f in files:\n",
    "        subject = torch.from_numpy(np.load(f))\n",
    "        subject = subject.view(subject.shape[0], 1, 28, 28)\n",
    "        labels = torch.tensor([label] * len(subject))\n",
    "        \n",
    "        if label == 0:\n",
    "            x = subject\n",
    "            y = labels\n",
    "        else:\n",
    "            x = torch.cat((x, subject))\n",
    "            y = torch.cat((y, labels))\n",
    "        \n",
    "        label += 1\n",
    "    \n",
    "    return x, y"
   ]
  },
  {
   "cell_type": "code",
   "execution_count": 11,
   "id": "choice-seminar",
   "metadata": {},
   "outputs": [],
   "source": [
    "camels, labels = get_quickdraw_tensors(path)"
   ]
  },
  {
   "cell_type": "code",
   "execution_count": 12,
   "id": "wrapped-arnold",
   "metadata": {},
   "outputs": [
    {
     "data": {
      "text/plain": [
       "torch.Size([121399, 1, 28, 28])"
      ]
     },
     "execution_count": 12,
     "metadata": {},
     "output_type": "execute_result"
    }
   ],
   "source": [
    "camels.shape"
   ]
  },
  {
   "cell_type": "code",
   "execution_count": null,
   "id": "charitable-trance",
   "metadata": {},
   "outputs": [],
   "source": [
    "plt.imshow(camels[0].permute(1, 2, 0))"
   ]
  },
  {
   "cell_type": "code",
   "execution_count": null,
   "id": "initial-tractor",
   "metadata": {},
   "outputs": [],
   "source": [
    "plt.imshow(camels[10].permute(1, 2, 0))"
   ]
  },
  {
   "cell_type": "code",
   "execution_count": 4,
   "id": "alpine-beverage",
   "metadata": {},
   "outputs": [],
   "source": [
    "gan = GAN(input_shape=[1, 28, 28],\n",
    "          disc_conv_filters=[64, 64, 128, 128],\n",
    "          disc_conv_kernels=[5, 5, 5, 5],\n",
    "          disc_conv_strides=[2, 2, 2, 1],\n",
    "          disc_batch_norm_mom=None,\n",
    "          disc_dropout_prob=0.4,\n",
    "          gen_unflattened_shape=[64, 7, 7],\n",
    "          gen_upsample_scale=[2, 2, 1, 1],\n",
    "          gen_conv_filters=[128, 64, 64, 1],\n",
    "          gen_conv_kernels=[5, 5, 5, 5],\n",
    "          gen_conv_strides=[1, 1, 1, 1],\n",
    "          gen_batch_norm_mom=0.9,\n",
    "          gen_dropout_prob=None,\n",
    "          z_dim=100\n",
    "         )"
   ]
  },
  {
   "cell_type": "code",
   "execution_count": 6,
   "id": "little-prague",
   "metadata": {},
   "outputs": [
    {
     "name": "stdout",
     "output_type": "stream",
     "text": [
      "==========================================================================================\n",
      "Layer (type:depth-idx)                   Output Shape              Param #\n",
      "==========================================================================================\n",
      "├─Sequential: 1-1                        [-1, 1]                   --\n",
      "|    └─Conv2d: 2-1                       [-1, 64, 14, 14]          1,664\n",
      "|    └─ReLU: 2-2                         [-1, 64, 14, 14]          --\n",
      "|    └─Dropout2d: 2-3                    [-1, 64, 14, 14]          --\n",
      "|    └─Conv2d: 2-4                       [-1, 64, 7, 7]            102,464\n",
      "|    └─ReLU: 2-5                         [-1, 64, 7, 7]            --\n",
      "|    └─Dropout2d: 2-6                    [-1, 64, 7, 7]            --\n",
      "|    └─Conv2d: 2-7                       [-1, 128, 4, 4]           204,928\n",
      "|    └─ReLU: 2-8                         [-1, 128, 4, 4]           --\n",
      "|    └─Dropout2d: 2-9                    [-1, 128, 4, 4]           --\n",
      "|    └─Conv2d: 2-10                      [-1, 128, 4, 4]           409,728\n",
      "|    └─ReLU: 2-11                        [-1, 128, 4, 4]           --\n",
      "|    └─Dropout2d: 2-12                   [-1, 128, 4, 4]           --\n",
      "|    └─Flatten: 2-13                     [-1, 2048]                --\n",
      "|    └─Linear: 2-14                      [-1, 1]                   2,049\n",
      "|    └─Sigmoid: 2-15                     [-1, 1]                   --\n",
      "==========================================================================================\n",
      "Total params: 720,833\n",
      "Trainable params: 720,833\n",
      "Non-trainable params: 0\n",
      "Total mult-adds (M): 15.88\n",
      "==========================================================================================\n",
      "Input size (MB): 0.00\n",
      "Forward/backward pass size (MB): 0.15\n",
      "Params size (MB): 2.75\n",
      "Estimated Total Size (MB): 2.90\n",
      "==========================================================================================\n"
     ]
    },
    {
     "data": {
      "text/plain": [
       "==========================================================================================\n",
       "Layer (type:depth-idx)                   Output Shape              Param #\n",
       "==========================================================================================\n",
       "├─Sequential: 1-1                        [-1, 1]                   --\n",
       "|    └─Conv2d: 2-1                       [-1, 64, 14, 14]          1,664\n",
       "|    └─ReLU: 2-2                         [-1, 64, 14, 14]          --\n",
       "|    └─Dropout2d: 2-3                    [-1, 64, 14, 14]          --\n",
       "|    └─Conv2d: 2-4                       [-1, 64, 7, 7]            102,464\n",
       "|    └─ReLU: 2-5                         [-1, 64, 7, 7]            --\n",
       "|    └─Dropout2d: 2-6                    [-1, 64, 7, 7]            --\n",
       "|    └─Conv2d: 2-7                       [-1, 128, 4, 4]           204,928\n",
       "|    └─ReLU: 2-8                         [-1, 128, 4, 4]           --\n",
       "|    └─Dropout2d: 2-9                    [-1, 128, 4, 4]           --\n",
       "|    └─Conv2d: 2-10                      [-1, 128, 4, 4]           409,728\n",
       "|    └─ReLU: 2-11                        [-1, 128, 4, 4]           --\n",
       "|    └─Dropout2d: 2-12                   [-1, 128, 4, 4]           --\n",
       "|    └─Flatten: 2-13                     [-1, 2048]                --\n",
       "|    └─Linear: 2-14                      [-1, 1]                   2,049\n",
       "|    └─Sigmoid: 2-15                     [-1, 1]                   --\n",
       "==========================================================================================\n",
       "Total params: 720,833\n",
       "Trainable params: 720,833\n",
       "Non-trainable params: 0\n",
       "Total mult-adds (M): 15.88\n",
       "==========================================================================================\n",
       "Input size (MB): 0.00\n",
       "Forward/backward pass size (MB): 0.15\n",
       "Params size (MB): 2.75\n",
       "Estimated Total Size (MB): 2.90\n",
       "=========================================================================================="
      ]
     },
     "execution_count": 6,
     "metadata": {},
     "output_type": "execute_result"
    }
   ],
   "source": [
    "summary(gan.discriminator, (1, 28, 28))"
   ]
  },
  {
   "cell_type": "code",
   "execution_count": 5,
   "id": "photographic-flight",
   "metadata": {},
   "outputs": [
    {
     "name": "stdout",
     "output_type": "stream",
     "text": [
      "==========================================================================================\n",
      "Layer (type:depth-idx)                   Output Shape              Param #\n",
      "==========================================================================================\n",
      "├─Sequential: 1-1                        [-1, 1, 28, 28]           --\n",
      "|    └─Linear: 2-1                       [-1, 3136]                316,736\n",
      "|    └─BatchNorm1d: 2-2                  [-1, 3136]                6,272\n",
      "|    └─ReLU: 2-3                         [-1, 3136]                --\n",
      "|    └─Unflatten: 2-4                    [-1, 64, 7, 7]            --\n",
      "|    └─Upsample: 2-5                     [-1, 64, 14, 14]          --\n",
      "|    └─Conv2d: 2-6                       [-1, 128, 14, 14]         204,928\n",
      "|    └─BatchNorm2d: 2-7                  [-1, 128, 14, 14]         256\n",
      "|    └─ReLU: 2-8                         [-1, 128, 14, 14]         --\n",
      "|    └─Upsample: 2-9                     [-1, 128, 28, 28]         --\n",
      "|    └─Conv2d: 2-10                      [-1, 64, 28, 28]          204,864\n",
      "|    └─BatchNorm2d: 2-11                 [-1, 64, 28, 28]          128\n",
      "|    └─ReLU: 2-12                        [-1, 64, 28, 28]          --\n",
      "|    └─Upsample: 2-13                    [-1, 64, 28, 28]          --\n",
      "|    └─Conv2d: 2-14                      [-1, 64, 28, 28]          102,464\n",
      "|    └─BatchNorm2d: 2-15                 [-1, 64, 28, 28]          128\n",
      "|    └─ReLU: 2-16                        [-1, 64, 28, 28]          --\n",
      "|    └─Upsample: 2-17                    [-1, 64, 28, 28]          --\n",
      "|    └─Conv2d: 2-18                      [-1, 1, 28, 28]           1,601\n",
      "|    └─Tanh: 2-19                        [-1, 1, 28, 28]           --\n",
      "==========================================================================================\n",
      "Total params: 837,377\n",
      "Trainable params: 837,377\n",
      "Non-trainable params: 0\n",
      "Total mult-adds (M): 283.39\n",
      "==========================================================================================\n",
      "Input size (MB): 0.00\n",
      "Forward/backward pass size (MB): 1.97\n",
      "Params size (MB): 3.19\n",
      "Estimated Total Size (MB): 5.16\n",
      "==========================================================================================\n"
     ]
    },
    {
     "data": {
      "text/plain": [
       "==========================================================================================\n",
       "Layer (type:depth-idx)                   Output Shape              Param #\n",
       "==========================================================================================\n",
       "├─Sequential: 1-1                        [-1, 1, 28, 28]           --\n",
       "|    └─Linear: 2-1                       [-1, 3136]                316,736\n",
       "|    └─BatchNorm1d: 2-2                  [-1, 3136]                6,272\n",
       "|    └─ReLU: 2-3                         [-1, 3136]                --\n",
       "|    └─Unflatten: 2-4                    [-1, 64, 7, 7]            --\n",
       "|    └─Upsample: 2-5                     [-1, 64, 14, 14]          --\n",
       "|    └─Conv2d: 2-6                       [-1, 128, 14, 14]         204,928\n",
       "|    └─BatchNorm2d: 2-7                  [-1, 128, 14, 14]         256\n",
       "|    └─ReLU: 2-8                         [-1, 128, 14, 14]         --\n",
       "|    └─Upsample: 2-9                     [-1, 128, 28, 28]         --\n",
       "|    └─Conv2d: 2-10                      [-1, 64, 28, 28]          204,864\n",
       "|    └─BatchNorm2d: 2-11                 [-1, 64, 28, 28]          128\n",
       "|    └─ReLU: 2-12                        [-1, 64, 28, 28]          --\n",
       "|    └─Upsample: 2-13                    [-1, 64, 28, 28]          --\n",
       "|    └─Conv2d: 2-14                      [-1, 64, 28, 28]          102,464\n",
       "|    └─BatchNorm2d: 2-15                 [-1, 64, 28, 28]          128\n",
       "|    └─ReLU: 2-16                        [-1, 64, 28, 28]          --\n",
       "|    └─Upsample: 2-17                    [-1, 64, 28, 28]          --\n",
       "|    └─Conv2d: 2-18                      [-1, 1, 28, 28]           1,601\n",
       "|    └─Tanh: 2-19                        [-1, 1, 28, 28]           --\n",
       "==========================================================================================\n",
       "Total params: 837,377\n",
       "Trainable params: 837,377\n",
       "Non-trainable params: 0\n",
       "Total mult-adds (M): 283.39\n",
       "==========================================================================================\n",
       "Input size (MB): 0.00\n",
       "Forward/backward pass size (MB): 1.97\n",
       "Params size (MB): 3.19\n",
       "Estimated Total Size (MB): 5.16\n",
       "=========================================================================================="
      ]
     },
     "execution_count": 5,
     "metadata": {},
     "output_type": "execute_result"
    }
   ],
   "source": [
    "summary(gan.generator, (100,))"
   ]
  },
  {
   "cell_type": "code",
   "execution_count": 46,
   "id": "lightweight-thought",
   "metadata": {},
   "outputs": [],
   "source": [
    "generated_imgs = torch.tensor([]).to('cuda')\n",
    "for i in range(125):\n",
    "    noise = torch.normal(0, 1, (64, 100)).to('cuda')\n",
    "    generated_imgs = torch.cat((generated_imgs, gan.generator(noise)))"
   ]
  },
  {
   "cell_type": "code",
   "execution_count": 47,
   "id": "automatic-found",
   "metadata": {},
   "outputs": [
    {
     "data": {
      "text/plain": [
       "torch.Size([8000, 1, 28, 28])"
      ]
     },
     "execution_count": 47,
     "metadata": {},
     "output_type": "execute_result"
    }
   ],
   "source": [
    "generated_imgs.shape"
   ]
  },
  {
   "cell_type": "code",
   "execution_count": 43,
   "id": "biblical-development",
   "metadata": {},
   "outputs": [
    {
     "data": {
      "text/plain": [
       "<matplotlib.image.AxesImage at 0x7fca8e8e9b20>"
      ]
     },
     "execution_count": 43,
     "metadata": {},
     "output_type": "execute_result"
    },
    {
     "data": {
      "image/png": "[encoded data removed]",
      "text/plain": [
       "<Figure size 432x288 with 1 Axes>"
      ]
     },
     "metadata": {
      "needs_background": "light"
     },
     "output_type": "display_data"
    }
   ],
   "source": [
    "plt.imshow(generated_imgs[0].detach().cpu().permute(1, 2, 0))"
   ]
  },
  {
   "cell_type": "code",
   "execution_count": 44,
   "id": "removed-peter",
   "metadata": {},
   "outputs": [
    {
     "data": {
      "text/plain": [
       "<matplotlib.image.AxesImage at 0x7fca8e84a9d0>"
      ]
     },
     "execution_count": 44,
     "metadata": {},
     "output_type": "execute_result"
    },
    {
     "data": {
      "image/png": "[encoded data removed]",
      "text/plain": [
       "<Figure size 432x288 with 1 Axes>"
      ]
     },
     "metadata": {
      "needs_background": "light"
     },
     "output_type": "display_data"
    }
   ],
   "source": [
    "plt.imshow(generated_imgs[1].detach().cpu().permute(1, 2, 0))"
   ]
  },
  {
   "cell_type": "code",
   "execution_count": null,
   "id": "about-citizen",
   "metadata": {},
   "outputs": [],
   "source": []
  }
 ],
 "metadata": {
  "kernelspec": {
   "display_name": "Python 3",
   "language": "python",
   "name": "python3"
  },
  "language_info": {
   "codemirror_mode": {
    "name": "ipython",
    "version": 3
   },
   "file_extension": ".py",
   "mimetype": "text/x-python",
   "name": "python",
   "nbconvert_exporter": "python",
   "pygments_lexer": "ipython3",
   "version": "3.8.5"
  }
 },
 "nbformat": 4,
 "nbformat_minor": 5
}
