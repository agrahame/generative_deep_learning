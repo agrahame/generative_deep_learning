{
 "cells": [
  {
   "cell_type": "code",
   "execution_count": 3,
   "id": "dietary-dancing",
   "metadata": {},
   "outputs": [],
   "source": [
    "import fastai\n",
    "from fastai.vision.all import *\n",
    "from fastdownload import FastDownload\n",
    "import matplotlib.pyplot as plt\n",
    "from models.GAN import GANModule\n",
    "from torchsummary import summary"
   ]
  },
  {
   "cell_type": "code",
   "execution_count": null,
   "id": "neutral-chapter",
   "metadata": {},
   "outputs": [],
   "source": [
    "path = Path('./data')"
   ]
  },
  {
   "cell_type": "code",
   "execution_count": null,
   "id": "registered-harvest",
   "metadata": {},
   "outputs": [],
   "source": [
    "Path.BASE_PATH = path"
   ]
  },
  {
   "cell_type": "code",
   "execution_count": null,
   "id": "defensive-remains",
   "metadata": {},
   "outputs": [],
   "source": [
    "if not (path/'archive').exists():\n",
    "    loader = FastDownload(base=path.name, module=fastai.data)\n",
    "    loader.update('https://storage.googleapis.com/quickdraw_dataset/full/numpy_bitmap/camel.npy')\n",
    "    loader.download('https://storage.googleapis.com/quickdraw_dataset/full/numpy_bitmap/camel.npy')"
   ]
  },
  {
   "cell_type": "code",
   "execution_count": null,
   "id": "allied-stream",
   "metadata": {},
   "outputs": [],
   "source": [
    "def get_quickdraw_tensors(path):\n",
    "    files = get_files(path, extensions=['.npy'])\n",
    "    \n",
    "    label = 0\n",
    "    for f in files:\n",
    "        subject = torch.from_numpy(np.load(f))\n",
    "        subject = subject.view(subject.shape[0], 1, 28, 28)\n",
    "        labels = torch.tensor([label] * len(subject))\n",
    "        \n",
    "        if label == 0:\n",
    "            x = subject\n",
    "            y = labels\n",
    "        else:\n",
    "            x = torch.cat((x, subject))\n",
    "            y = torch.cat((y, labels))\n",
    "        \n",
    "        label += 1\n",
    "    \n",
    "    return x, y"
   ]
  },
  {
   "cell_type": "code",
   "execution_count": null,
   "id": "guided-spray",
   "metadata": {},
   "outputs": [],
   "source": [
    "camels, labels = get_quickdraw_tensors(path)"
   ]
  },
  {
   "cell_type": "code",
   "execution_count": null,
   "id": "acoustic-district",
   "metadata": {},
   "outputs": [],
   "source": [
    "camels.shape"
   ]
  },
  {
   "cell_type": "code",
   "execution_count": null,
   "id": "round-beast",
   "metadata": {},
   "outputs": [],
   "source": [
    "plt.imshow(camels[0].permute(1, 2, 0))"
   ]
  },
  {
   "cell_type": "code",
   "execution_count": null,
   "id": "industrial-gentleman",
   "metadata": {},
   "outputs": [],
   "source": [
    "plt.imshow(camels[10].permute(1, 2, 0))"
   ]
  },
  {
   "cell_type": "code",
   "execution_count": null,
   "id": "committed-suspect",
   "metadata": {},
   "outputs": [],
   "source": [
    "gan = GAN(input_shape=[1, 28, 28],\n",
    "          disc_conv_filters=[64, 64, 128, 128],\n",
    "          disc_conv_kernels=[5, 5, 5, 5],\n",
    "          disc_conv_strides=[2, 2, 2, 1],\n",
    "          disc_batch_norm_mom=None,\n",
    "          disc_dropout_prob=0.4,\n",
    "          gen_unflattened_shape=[64, 7, 7],\n",
    "          gen_upsample_scale=[2, 2, 1, 1],\n",
    "          gen_conv_filters=[128, 64, 64, 1],\n",
    "          gen_conv_kernels=[5, 5, 5, 5],\n",
    "          gen_conv_strides=[1, 1, 1, 1],\n",
    "          gen_batch_norm_mom=0.9,\n",
    "          gen_dropout_prob=None,\n",
    "          z_dim=100\n",
    "         )"
   ]
  },
  {
   "cell_type": "code",
   "execution_count": null,
   "id": "handled-scout",
   "metadata": {},
   "outputs": [],
   "source": [
    "summary(gan.discriminator, (1, 28, 28))"
   ]
  },
  {
   "cell_type": "code",
   "execution_count": null,
   "id": "dramatic-roads",
   "metadata": {},
   "outputs": [],
   "source": [
    "summary(gan.generator, (100,))"
   ]
  },
  {
   "cell_type": "code",
   "execution_count": null,
   "id": "initial-pacific",
   "metadata": {},
   "outputs": [],
   "source": [
    "generated_imgs = torch.tensor([]).to('cuda')\n",
    "for i in range(125):\n",
    "    noise = torch.normal(0, 1, (64, 100)).to('cuda')\n",
    "    generated_imgs = torch.cat((generated_imgs, gan.generator(noise)))"
   ]
  },
  {
   "cell_type": "code",
   "execution_count": null,
   "id": "fresh-china",
   "metadata": {},
   "outputs": [],
   "source": [
    "generated_imgs.shape"
   ]
  },
  {
   "cell_type": "code",
   "execution_count": null,
   "id": "prostate-dragon",
   "metadata": {},
   "outputs": [],
   "source": [
    "plt.imshow(generated_imgs[0].detach().cpu().permute(1, 2, 0))"
   ]
  },
  {
   "cell_type": "code",
   "execution_count": null,
   "id": "useful-cooler",
   "metadata": {},
   "outputs": [],
   "source": [
    "plt.imshow(generated_imgs[1].detach().cpu().permute(1, 2, 0))"
   ]
  }
 ],
 "metadata": {
  "kernelspec": {
   "display_name": "Python 3",
   "language": "python",
   "name": "python3"
  },
  "language_info": {
   "codemirror_mode": {
    "name": "ipython",
    "version": 3
   },
   "file_extension": ".py",
   "mimetype": "text/x-python",
   "name": "python",
   "nbconvert_exporter": "python",
   "pygments_lexer": "ipython3",
   "version": "3.8.5"
  }
 },
 "nbformat": 4,
 "nbformat_minor": 5
}
