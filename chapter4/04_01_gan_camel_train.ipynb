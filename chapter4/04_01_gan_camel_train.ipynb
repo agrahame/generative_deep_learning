{
 "cells": [
  {
   "cell_type": "code",
   "execution_count": 1,
   "id": "selective-platinum",
   "metadata": {},
   "outputs": [],
   "source": [
    "import fastai\n",
    "from fastai.vision.all import *\n",
    "from fastai.vision.gan import generate_noise\n",
    "from fastdownload import FastDownload\n",
    "import matplotlib.pyplot as plt\n",
    "from models.GAN import Generator, Discriminator, GANLearner\n",
    "from torchsummary import summary"
   ]
  },
  {
   "cell_type": "code",
   "execution_count": 2,
   "id": "angry-angel",
   "metadata": {},
   "outputs": [],
   "source": [
    "path = Path('./data')"
   ]
  },
  {
   "cell_type": "code",
   "execution_count": 3,
   "id": "polish-thanks",
   "metadata": {},
   "outputs": [],
   "source": [
    "Path.BASE_PATH = path"
   ]
  },
  {
   "cell_type": "code",
   "execution_count": 4,
   "id": "satellite-yemen",
   "metadata": {},
   "outputs": [],
   "source": [
    "if not (path/'archive').exists():\n",
    "    loader = FastDownload(base=path.name, module=fastai.data)\n",
    "    loader.update('https://storage.googleapis.com/quickdraw_dataset/full/numpy_bitmap/camel.npy')\n",
    "    loader.download('https://storage.googleapis.com/quickdraw_dataset/full/numpy_bitmap/camel.npy')"
   ]
  },
  {
   "cell_type": "code",
   "execution_count": 19,
   "id": "electronic-supplement",
   "metadata": {},
   "outputs": [],
   "source": [
    "def get_quickdraw_tensors(path):\n",
    "    files = get_files(path, extensions=['.npy'])\n",
    "    i = 0\n",
    "    \n",
    "    for f in files:\n",
    "        subject = torch.from_numpy(np.load(f))\n",
    "        subject = subject.view(subject.shape[0], 1, 28, 28)\n",
    "        \n",
    "        if i == 0:\n",
    "            x = subject\n",
    "        else:\n",
    "            x = torch.cat((x, subject))\n",
    "        \n",
    "        i += 1\n",
    "    \n",
    "    return x"
   ]
  },
  {
   "cell_type": "code",
   "execution_count": 9,
   "id": "theoretical-intranet",
   "metadata": {},
   "outputs": [],
   "source": [
    "generator = Generator(z_dim=100,\n",
    "                      unflattened_shape=[64, 7, 7],\n",
    "                      upsample_scale=[2, 2, 1, 1],\n",
    "                      filters=[128, 64, 64, 1],\n",
    "                      kernels=[5, 5, 5, 5],\n",
    "                      strides=[1, 1, 1, 1],\n",
    "                      batch_norm_mom=0.9,\n",
    "                      dropout_prob=None\n",
    "                     )\n",
    "\n",
    "discriminator = Discriminator(input_shape=[1, 28, 28],\n",
    "                              filters=[64, 64, 128, 128],\n",
    "                              kernels=[5, 5, 5, 5],\n",
    "                              strides=[2, 2, 2, 1],\n",
    "                              batch_norm_mom=None,\n",
    "                              dropout_prob=0.4\n",
    "                             )"
   ]
  },
  {
   "cell_type": "code",
   "execution_count": null,
   "id": "corrected-slave",
   "metadata": {},
   "outputs": [],
   "source": [
    "summary(discriminator, (1, 28, 28))"
   ]
  },
  {
   "cell_type": "code",
   "execution_count": null,
   "id": "blond-investing",
   "metadata": {},
   "outputs": [],
   "source": [
    "summary(generator, (100,))"
   ]
  },
  {
   "cell_type": "code",
   "execution_count": 10,
   "id": "sonic-edgar",
   "metadata": {},
   "outputs": [],
   "source": [
    "def gen_loss_func(disc_pred):\n",
    "    loss = nn.BCELoss()\n",
    "    target = torch.ones_like(disc_pred).to(default_device())\n",
    "    \n",
    "    return loss(disc_pred, target)"
   ]
  },
  {
   "cell_type": "code",
   "execution_count": 11,
   "id": "collect-millennium",
   "metadata": {},
   "outputs": [],
   "source": [
    "def disc_loss_func(fake_pred, real_pred):\n",
    "    loss = nn.BCELoss()\n",
    "    device = default_device()\n",
    "    fake_target = torch.zeros_like(fake_pred).to(device)\n",
    "    real_target = torch.ones_like(real_pred).to(device)\n",
    "    \n",
    "    return loss(fake_pred, fake_target) + loss(real_pred, real_target)"
   ]
  },
  {
   "cell_type": "code",
   "execution_count": 28,
   "id": "frank-runner",
   "metadata": {},
   "outputs": [],
   "source": [
    "def create_tensor_image(tensor):\n",
    "    return TensorImage(tensor)"
   ]
  },
  {
   "cell_type": "code",
   "execution_count": 30,
   "id": "material-cement",
   "metadata": {},
   "outputs": [],
   "source": [
    "datablock = DataBlock(blocks=(TransformBlock, TransformBlock(type_tfms=create_tensor_image)),\n",
    "                      get_items=get_quickdraw_tensors,\n",
    "                      get_x=generate_noise,\n",
    "                      splitter = IndexSplitter([]),\n",
    "                      batch_tfms = L(IntToFloatTensor,\n",
    "                                     Normalize.from_stats(torch.tensor([0.5,0.5,0.5]), torch.tensor([0.5,0.5,0.5]))\n",
    "                                    )\n",
    "                     )"
   ]
  },
  {
   "cell_type": "code",
   "execution_count": 32,
   "id": "wanted-monster",
   "metadata": {},
   "outputs": [],
   "source": [
    "dataloaders = datablock.dataloaders(path, bs=128)"
   ]
  },
  {
   "cell_type": "code",
   "execution_count": 33,
   "id": "phantom-bedroom",
   "metadata": {},
   "outputs": [
    {
     "data": {
      "image/png": "[encoded data removed]",
      "text/plain": [
       "<Figure size 432x432 with 4 Axes>"
      ]
     },
     "metadata": {
      "needs_background": "light"
     },
     "output_type": "display_data"
    }
   ],
   "source": [
    "dataloaders.show_batch(max_n=4)"
   ]
  },
  {
   "cell_type": "code",
   "execution_count": null,
   "id": "restricted-stewart",
   "metadata": {},
   "outputs": [],
   "source": []
  }
 ],
 "metadata": {
  "kernelspec": {
   "display_name": "Python 3",
   "language": "python",
   "name": "python3"
  },
  "language_info": {
   "codemirror_mode": {
    "name": "ipython",
    "version": 3
   },
   "file_extension": ".py",
   "mimetype": "text/x-python",
   "name": "python",
   "nbconvert_exporter": "python",
   "pygments_lexer": "ipython3",
   "version": "3.8.5"
  }
 },
 "nbformat": 4,
 "nbformat_minor": 5
}
