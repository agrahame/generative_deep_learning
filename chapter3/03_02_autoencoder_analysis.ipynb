{
 "cells": [
  {
   "cell_type": "code",
   "execution_count": 1,
   "id": "crazy-columbia",
   "metadata": {},
   "outputs": [],
   "source": [
    "from fastai.vision.all import *\n",
    "import numpy as np\n",
    "import matplotlib.pyplot as plt"
   ]
  },
  {
   "cell_type": "markdown",
   "id": "ethical-galaxy",
   "metadata": {},
   "source": [
    "### Get the test data"
   ]
  },
  {
   "cell_type": "code",
   "execution_count": 2,
   "id": "supported-release",
   "metadata": {},
   "outputs": [],
   "source": [
    "path = Path('.')\n",
    "Path.BASE_PATH = path"
   ]
  },
  {
   "cell_type": "code",
   "execution_count": 3,
   "id": "sealed-cancellation",
   "metadata": {},
   "outputs": [],
   "source": [
    "test_data = L(get_image_files(path/'data/mnist_png/testing'))"
   ]
  },
  {
   "cell_type": "code",
   "execution_count": 4,
   "id": "expanded-craft",
   "metadata": {},
   "outputs": [
    {
     "data": {
      "text/plain": [
       "(#10000) [Path('data/mnist_png/testing/8/1389.png'),Path('data/mnist_png/testing/8/3012.png'),Path('data/mnist_png/testing/8/3389.png'),Path('data/mnist_png/testing/8/2142.png'),Path('data/mnist_png/testing/8/290.png'),Path('data/mnist_png/testing/8/5011.png'),Path('data/mnist_png/testing/8/4380.png'),Path('data/mnist_png/testing/8/4497.png'),Path('data/mnist_png/testing/8/465.png'),Path('data/mnist_png/testing/8/7378.png')...]"
      ]
     },
     "execution_count": 4,
     "metadata": {},
     "output_type": "execute_result"
    }
   ],
   "source": [
    "test_data"
   ]
  },
  {
   "cell_type": "code",
   "execution_count": 5,
   "id": "dressed-embassy",
   "metadata": {},
   "outputs": [
    {
     "data": {
      "image/png": "[encoded data removed]",
      "text/plain": [
       "<PIL.PngImagePlugin.PngImageFile image mode=L size=28x28 at 0x7F94702D00D0>"
      ]
     },
     "execution_count": 5,
     "metadata": {},
     "output_type": "execute_result"
    }
   ],
   "source": [
    "Image.open(test_data[0])"
   ]
  },
  {
   "cell_type": "markdown",
   "id": "indie-jungle",
   "metadata": {},
   "source": [
    "### Load the learner"
   ]
  },
  {
   "cell_type": "code",
   "execution_count": 6,
   "id": "ahead-arrest",
   "metadata": {},
   "outputs": [],
   "source": [
    "# Have to define this here as well for load_learner to work\n",
    "def rmse_loss(inp, targ, **kwargs):\n",
    "    return torch.sqrt(F.mse_loss(inp, targ, **kwargs))"
   ]
  },
  {
   "cell_type": "code",
   "execution_count": 7,
   "id": "wanted-preservation",
   "metadata": {},
   "outputs": [],
   "source": [
    "inf_learner = load_learner(path/'export.pkl')"
   ]
  },
  {
   "cell_type": "markdown",
   "id": "polyphonic-spectrum",
   "metadata": {},
   "source": [
    "### Get predictions on test data"
   ]
  },
  {
   "cell_type": "code",
   "execution_count": 8,
   "id": "irish-lying",
   "metadata": {},
   "outputs": [],
   "source": [
    "test_dataloaders = inf_learner.dls.test_dl(test_data)"
   ]
  },
  {
   "cell_type": "code",
   "execution_count": 9,
   "id": "digital-barbados",
   "metadata": {},
   "outputs": [
    {
     "data": {
      "text/html": [],
      "text/plain": [
       "<IPython.core.display.HTML object>"
      ]
     },
     "metadata": {},
     "output_type": "display_data"
    }
   ],
   "source": [
    "preds, _ = inf_learner.get_preds(dl=test_dataloaders)"
   ]
  },
  {
   "cell_type": "code",
   "execution_count": 10,
   "id": "sonic-brighton",
   "metadata": {},
   "outputs": [
    {
     "data": {
      "text/plain": [
       "torch.Size([10000, 1, 28, 28])"
      ]
     },
     "execution_count": 10,
     "metadata": {},
     "output_type": "execute_result"
    }
   ],
   "source": [
    "preds.shape"
   ]
  },
  {
   "cell_type": "code",
   "execution_count": 11,
   "id": "intended-collapse",
   "metadata": {},
   "outputs": [
    {
     "data": {
      "text/plain": [
       "<AxesSubplot:>"
      ]
     },
     "execution_count": 11,
     "metadata": {},
     "output_type": "execute_result"
    },
    {
     "data": {
      "image/png": "[encoded data removed]",
      "text/plain": [
       "<Figure size 72x72 with 1 Axes>"
      ]
     },
     "metadata": {
      "needs_background": "light"
     },
     "output_type": "display_data"
    }
   ],
   "source": [
    "show_image(preds[0])"
   ]
  },
  {
   "cell_type": "code",
   "execution_count": 12,
   "id": "important-completion",
   "metadata": {},
   "outputs": [
    {
     "data": {
      "text/plain": [
       "AutoEncoder(\n",
       "  (encoder): Sequential(\n",
       "    (0): Conv2d(1, 32, kernel_size=(3, 3), stride=(1, 1), padding=(1, 1))\n",
       "    (1): LeakyReLU(negative_slope=0.01)\n",
       "    (2): Conv2d(32, 64, kernel_size=(3, 3), stride=(2, 2), padding=(1, 1))\n",
       "    (3): LeakyReLU(negative_slope=0.01)\n",
       "    (4): Conv2d(64, 64, kernel_size=(3, 3), stride=(2, 2), padding=(1, 1))\n",
       "    (5): LeakyReLU(negative_slope=0.01)\n",
       "    (6): Conv2d(64, 64, kernel_size=(3, 3), stride=(1, 1), padding=(1, 1))\n",
       "    (7): LeakyReLU(negative_slope=0.01)\n",
       "    (8): Flatten(start_dim=1, end_dim=-1)\n",
       "    (9): Linear(in_features=3136, out_features=2, bias=True)\n",
       "  )\n",
       "  (decoder): Sequential(\n",
       "    (0): Linear(in_features=2, out_features=3136, bias=True)\n",
       "    (1): Unflatten(dim=1, unflattened_size=torch.Size([64, 7, 7]))\n",
       "    (2): ConvTranspose2d(64, 64, kernel_size=(3, 3), stride=(1, 1), padding=(1, 1))\n",
       "    (3): LeakyReLU(negative_slope=0.01)\n",
       "    (4): ConvTranspose2d(64, 64, kernel_size=(3, 3), stride=(2, 2), padding=(1, 1), output_padding=(1, 1))\n",
       "    (5): LeakyReLU(negative_slope=0.01)\n",
       "    (6): ConvTranspose2d(64, 32, kernel_size=(3, 3), stride=(2, 2), padding=(1, 1), output_padding=(1, 1))\n",
       "    (7): LeakyReLU(negative_slope=0.01)\n",
       "    (8): ConvTranspose2d(32, 1, kernel_size=(3, 3), stride=(1, 1), padding=(1, 1))\n",
       "    (9): Sigmoid()\n",
       "  )\n",
       ")"
      ]
     },
     "execution_count": 12,
     "metadata": {},
     "output_type": "execute_result"
    }
   ],
   "source": [
    "inf_learner.model"
   ]
  },
  {
   "cell_type": "code",
   "execution_count": null,
   "id": "biological-lemon",
   "metadata": {},
   "outputs": [],
   "source": []
  }
 ],
 "metadata": {
  "kernelspec": {
   "display_name": "Python 3",
   "language": "python",
   "name": "python3"
  },
  "language_info": {
   "codemirror_mode": {
    "name": "ipython",
    "version": 3
   },
   "file_extension": ".py",
   "mimetype": "text/x-python",
   "name": "python",
   "nbconvert_exporter": "python",
   "pygments_lexer": "ipython3",
   "version": "3.8.5"
  }
 },
 "nbformat": 4,
 "nbformat_minor": 5
}
