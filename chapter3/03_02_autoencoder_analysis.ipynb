{
 "cells": [
  {
   "cell_type": "code",
   "execution_count": null,
   "id": "upper-graduate",
   "metadata": {},
   "outputs": [],
   "source": [
    "from fastai.vision.all import *\n",
    "import numpy as np\n",
    "import matplotlib.pyplot as plt\n",
    "from util.utils import rmse_loss"
   ]
  },
  {
   "cell_type": "markdown",
   "id": "particular-african",
   "metadata": {},
   "source": [
    "### Get the test data"
   ]
  },
  {
   "cell_type": "code",
   "execution_count": null,
   "id": "aquatic-portland",
   "metadata": {},
   "outputs": [],
   "source": [
    "path = Path('.')\n",
    "Path.BASE_PATH = path"
   ]
  },
  {
   "cell_type": "code",
   "execution_count": null,
   "id": "greek-administrator",
   "metadata": {},
   "outputs": [],
   "source": [
    "test_data = L(get_image_files(path/'data/mnist_png/testing'))"
   ]
  },
  {
   "cell_type": "code",
   "execution_count": null,
   "id": "muslim-shield",
   "metadata": {},
   "outputs": [],
   "source": [
    "test_data"
   ]
  },
  {
   "cell_type": "code",
   "execution_count": null,
   "id": "parallel-inspiration",
   "metadata": {},
   "outputs": [],
   "source": [
    "Image.open(test_data[0])"
   ]
  },
  {
   "cell_type": "markdown",
   "id": "ignored-ecology",
   "metadata": {},
   "source": [
    "### Load the learner"
   ]
  },
  {
   "cell_type": "code",
   "execution_count": null,
   "id": "furnished-titanium",
   "metadata": {},
   "outputs": [],
   "source": [
    "inf_learner = load_learner(path/'export.pkl')"
   ]
  },
  {
   "cell_type": "markdown",
   "id": "composed-brisbane",
   "metadata": {},
   "source": [
    "### Get predictions on test data"
   ]
  },
  {
   "cell_type": "code",
   "execution_count": null,
   "id": "floppy-moisture",
   "metadata": {},
   "outputs": [],
   "source": [
    "test_dataloaders = inf_learner.dls.test_dl(test_data)"
   ]
  },
  {
   "cell_type": "code",
   "execution_count": null,
   "id": "flying-abraham",
   "metadata": {},
   "outputs": [],
   "source": [
    "preds, _ = inf_learner.get_preds(dl=test_dataloaders)"
   ]
  },
  {
   "cell_type": "code",
   "execution_count": null,
   "id": "hollywood-mineral",
   "metadata": {},
   "outputs": [],
   "source": [
    "preds.shape"
   ]
  },
  {
   "cell_type": "code",
   "execution_count": null,
   "id": "personal-sudan",
   "metadata": {},
   "outputs": [],
   "source": [
    "show_image(preds[0])"
   ]
  },
  {
   "cell_type": "markdown",
   "id": "expensive-examination",
   "metadata": {},
   "source": [
    "### Reconstrcuting Images"
   ]
  },
  {
   "cell_type": "code",
   "execution_count": null,
   "id": "mechanical-poison",
   "metadata": {},
   "outputs": [],
   "source": [
    "n_to_show = 10\n",
    "batch = test_dataloaders.one_batch()[0]\n",
    "z_points = inf_learner.model.encoder(batch[:n_to_show])\n",
    "reconstructed = inf_learner.model.decoder(z_points)\n",
    "\n",
    "fig = plt.figure(figsize=(15, 3))\n",
    "fig.subplots_adjust(hspace=0.4, wspace=0.4)\n",
    "\n",
    "with torch.no_grad():\n",
    "    for i in range(n_to_show):\n",
    "        img = batch[i].squeeze()\n",
    "        ax = fig.add_subplot(2, n_to_show, i+1)\n",
    "        ax.axis('off')\n",
    "        ax.text(0.5, -0.35, str(np.round(tuple(z_points[i]),1)), fontsize=10, ha='center', transform=ax.transAxes)   \n",
    "        ax.imshow(img, cmap='gray_r')\n",
    "\n",
    "    for i in range(n_to_show):\n",
    "        img = reconstructed[i].squeeze()\n",
    "        ax = fig.add_subplot(2, n_to_show, i+n_to_show+1)\n",
    "        ax.axis('off')\n",
    "        ax.imshow(img, cmap='gray_r')"
   ]
  }
 ],
 "metadata": {
  "kernelspec": {
   "display_name": "Python 3",
   "language": "python",
   "name": "python3"
  },
  "language_info": {
   "codemirror_mode": {
    "name": "ipython",
    "version": 3
   },
   "file_extension": ".py",
   "mimetype": "text/x-python",
   "name": "python",
   "nbconvert_exporter": "python",
   "pygments_lexer": "ipython3",
   "version": "3.8.5"
  }
 },
 "nbformat": 4,
 "nbformat_minor": 5
}
