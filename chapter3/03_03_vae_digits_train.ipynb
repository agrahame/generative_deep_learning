{
 "cells": [
  {
   "cell_type": "code",
   "execution_count": 1,
   "id": "catholic-camping",
   "metadata": {},
   "outputs": [],
   "source": [
    "from fastai.vision.all import *\n",
    "from models.VAE import VariationalAutoEncoder\n",
    "from torchsummary import summary"
   ]
  },
  {
   "cell_type": "code",
   "execution_count": 2,
   "id": "vocal-union",
   "metadata": {},
   "outputs": [],
   "source": [
    "model = VariationalAutoEncoder(\n",
    "    input_dim=[1, 28, 28],\n",
    "    conv_filters=[32, 64, 64, 64],\n",
    "    conv_t_filters=[64, 64, 32, 1],\n",
    "    kernel_sizes=[3, 3, 3, 3],\n",
    "    strides=[1, 2, 2, 1],\n",
    "    z_dim=2\n",
    ")"
   ]
  },
  {
   "cell_type": "code",
   "execution_count": 3,
   "id": "fallen-impossible",
   "metadata": {},
   "outputs": [
    {
     "name": "stdout",
     "output_type": "stream",
     "text": [
      "==========================================================================================\n",
      "Layer (type:depth-idx)                   Output Shape              Param #\n",
      "==========================================================================================\n",
      "├─Conv2d: 1-1                            [-1, 32, 28, 28]          320\n",
      "├─LeakyReLU: 1-2                         [-1, 32, 28, 28]          --\n",
      "├─Conv2d: 1-3                            [-1, 64, 14, 14]          18,496\n",
      "├─LeakyReLU: 1-4                         [-1, 64, 14, 14]          --\n",
      "├─Conv2d: 1-5                            [-1, 64, 7, 7]            36,928\n",
      "├─LeakyReLU: 1-6                         [-1, 64, 7, 7]            --\n",
      "├─Conv2d: 1-7                            [-1, 64, 7, 7]            36,928\n",
      "├─LeakyReLU: 1-8                         [-1, 64, 7, 7]            --\n",
      "├─Flatten: 1-9                           [-1, 3136]                --\n",
      "├─VAELayer: 1-10                         [-1, 2]                   --\n",
      "|    └─VAELinear: 2-1                    [-1, 2]                   --\n",
      "|    |    └─Linear: 3-1                  [-1, 2]                   6,274\n",
      "|    |    └─Linear: 3-2                  [-1, 2]                   6,274\n",
      "|    └─Sampler: 2-2                      [-1, 2]                   --\n",
      "==========================================================================================\n",
      "Total params: 105,220\n",
      "Trainable params: 105,220\n",
      "Non-trainable params: 0\n",
      "Total mult-adds (M): 7.49\n",
      "==========================================================================================\n",
      "Input size (MB): 0.00\n",
      "Forward/backward pass size (MB): 0.33\n",
      "Params size (MB): 0.40\n",
      "Estimated Total Size (MB): 0.74\n",
      "==========================================================================================\n"
     ]
    },
    {
     "data": {
      "text/plain": [
       "==========================================================================================\n",
       "Layer (type:depth-idx)                   Output Shape              Param #\n",
       "==========================================================================================\n",
       "├─Conv2d: 1-1                            [-1, 32, 28, 28]          320\n",
       "├─LeakyReLU: 1-2                         [-1, 32, 28, 28]          --\n",
       "├─Conv2d: 1-3                            [-1, 64, 14, 14]          18,496\n",
       "├─LeakyReLU: 1-4                         [-1, 64, 14, 14]          --\n",
       "├─Conv2d: 1-5                            [-1, 64, 7, 7]            36,928\n",
       "├─LeakyReLU: 1-6                         [-1, 64, 7, 7]            --\n",
       "├─Conv2d: 1-7                            [-1, 64, 7, 7]            36,928\n",
       "├─LeakyReLU: 1-8                         [-1, 64, 7, 7]            --\n",
       "├─Flatten: 1-9                           [-1, 3136]                --\n",
       "├─VAELayer: 1-10                         [-1, 2]                   --\n",
       "|    └─VAELinear: 2-1                    [-1, 2]                   --\n",
       "|    |    └─Linear: 3-1                  [-1, 2]                   6,274\n",
       "|    |    └─Linear: 3-2                  [-1, 2]                   6,274\n",
       "|    └─Sampler: 2-2                      [-1, 2]                   --\n",
       "==========================================================================================\n",
       "Total params: 105,220\n",
       "Trainable params: 105,220\n",
       "Non-trainable params: 0\n",
       "Total mult-adds (M): 7.49\n",
       "==========================================================================================\n",
       "Input size (MB): 0.00\n",
       "Forward/backward pass size (MB): 0.33\n",
       "Params size (MB): 0.40\n",
       "Estimated Total Size (MB): 0.74\n",
       "=========================================================================================="
      ]
     },
     "execution_count": 3,
     "metadata": {},
     "output_type": "execute_result"
    }
   ],
   "source": [
    "summary(model.encoder, (1, 28, 28))"
   ]
  },
  {
   "cell_type": "code",
   "execution_count": 4,
   "id": "collaborative-twins",
   "metadata": {},
   "outputs": [
    {
     "name": "stdout",
     "output_type": "stream",
     "text": [
      "==========================================================================================\n",
      "Layer (type:depth-idx)                   Output Shape              Param #\n",
      "==========================================================================================\n",
      "├─Linear: 1-1                            [-1, 3136]                9,408\n",
      "├─Unflatten: 1-2                         [-1, 64, 7, 7]            --\n",
      "├─ConvTranspose2d: 1-3                   [-1, 64, 7, 7]            36,928\n",
      "├─LeakyReLU: 1-4                         [-1, 64, 7, 7]            --\n",
      "├─ConvTranspose2d: 1-5                   [-1, 64, 14, 14]          36,928\n",
      "├─LeakyReLU: 1-6                         [-1, 64, 14, 14]          --\n",
      "├─ConvTranspose2d: 1-7                   [-1, 32, 28, 28]          18,464\n",
      "├─LeakyReLU: 1-8                         [-1, 32, 28, 28]          --\n",
      "├─ConvTranspose2d: 1-9                   [-1, 1, 28, 28]           289\n",
      "├─Sigmoid: 1-10                          [-1, 1, 28, 28]           --\n",
      "==========================================================================================\n",
      "Total params: 102,017\n",
      "Trainable params: 102,017\n",
      "Non-trainable params: 0\n",
      "Total mult-adds (M): 23.71\n",
      "==========================================================================================\n",
      "Input size (MB): 0.00\n",
      "Forward/backward pass size (MB): 0.34\n",
      "Params size (MB): 0.39\n",
      "Estimated Total Size (MB): 0.73\n",
      "==========================================================================================\n"
     ]
    },
    {
     "data": {
      "text/plain": [
       "==========================================================================================\n",
       "Layer (type:depth-idx)                   Output Shape              Param #\n",
       "==========================================================================================\n",
       "├─Linear: 1-1                            [-1, 3136]                9,408\n",
       "├─Unflatten: 1-2                         [-1, 64, 7, 7]            --\n",
       "├─ConvTranspose2d: 1-3                   [-1, 64, 7, 7]            36,928\n",
       "├─LeakyReLU: 1-4                         [-1, 64, 7, 7]            --\n",
       "├─ConvTranspose2d: 1-5                   [-1, 64, 14, 14]          36,928\n",
       "├─LeakyReLU: 1-6                         [-1, 64, 14, 14]          --\n",
       "├─ConvTranspose2d: 1-7                   [-1, 32, 28, 28]          18,464\n",
       "├─LeakyReLU: 1-8                         [-1, 32, 28, 28]          --\n",
       "├─ConvTranspose2d: 1-9                   [-1, 1, 28, 28]           289\n",
       "├─Sigmoid: 1-10                          [-1, 1, 28, 28]           --\n",
       "==========================================================================================\n",
       "Total params: 102,017\n",
       "Trainable params: 102,017\n",
       "Non-trainable params: 0\n",
       "Total mult-adds (M): 23.71\n",
       "==========================================================================================\n",
       "Input size (MB): 0.00\n",
       "Forward/backward pass size (MB): 0.34\n",
       "Params size (MB): 0.39\n",
       "Estimated Total Size (MB): 0.73\n",
       "=========================================================================================="
      ]
     },
     "execution_count": 4,
     "metadata": {},
     "output_type": "execute_result"
    }
   ],
   "source": [
    "summary(model.decoder, (2,))"
   ]
  },
  {
   "cell_type": "code",
   "execution_count": null,
   "id": "identical-audio",
   "metadata": {},
   "outputs": [],
   "source": []
  }
 ],
 "metadata": {
  "kernelspec": {
   "display_name": "Python 3",
   "language": "python",
   "name": "python3"
  },
  "language_info": {
   "codemirror_mode": {
    "name": "ipython",
    "version": 3
   },
   "file_extension": ".py",
   "mimetype": "text/x-python",
   "name": "python",
   "nbconvert_exporter": "python",
   "pygments_lexer": "ipython3",
   "version": "3.8.5"
  }
 },
 "nbformat": 4,
 "nbformat_minor": 5
}
