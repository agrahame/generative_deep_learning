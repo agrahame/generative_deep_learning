{
 "cells": [
  {
   "cell_type": "code",
   "execution_count": 1,
   "id": "upper-democracy",
   "metadata": {},
   "outputs": [],
   "source": [
    "from fastai.vision.all import *\n",
    "from models.VAE import VariationalAutoEncoder\n",
    "from torchsummary import summary\n",
    "from functools import partial\n",
    "from util.utils import rmse_loss, vae_loss"
   ]
  },
  {
   "cell_type": "code",
   "execution_count": 2,
   "id": "happy-meeting",
   "metadata": {},
   "outputs": [],
   "source": [
    "path = Path('data/mnist_png')\n",
    "if not path.exists():\n",
    "    path = untar_data(URLs.MNIST, dest='data')"
   ]
  },
  {
   "cell_type": "code",
   "execution_count": 3,
   "id": "electronic-secondary",
   "metadata": {},
   "outputs": [],
   "source": [
    "Path.BASE_PATH = path"
   ]
  },
  {
   "cell_type": "code",
   "execution_count": null,
   "id": "robust-behalf",
   "metadata": {},
   "outputs": [],
   "source": [
    "path.ls()"
   ]
  },
  {
   "cell_type": "code",
   "execution_count": 4,
   "id": "disturbed-soccer",
   "metadata": {},
   "outputs": [],
   "source": [
    "datablock = DataBlock(\n",
    "    blocks=(ImageBlock(cls=PILImageBW), ImageBlock(cls=PILImageBW)),\n",
    "    get_items=get_image_files,\n",
    "    splitter=RandomSplitter(seed=42)\n",
    ")"
   ]
  },
  {
   "cell_type": "code",
   "execution_count": 5,
   "id": "senior-plain",
   "metadata": {},
   "outputs": [],
   "source": [
    "dataloaders = datablock.dataloaders(path)"
   ]
  },
  {
   "cell_type": "code",
   "execution_count": 6,
   "id": "opponent-discovery",
   "metadata": {},
   "outputs": [],
   "source": [
    "model = VariationalAutoEncoder(\n",
    "    input_dim=[1, 28, 28],\n",
    "    conv_filters=[32, 64, 64, 64],\n",
    "    conv_t_filters=[64, 64, 32, 1],\n",
    "    kernel_sizes=[3, 3, 3, 3],\n",
    "    strides=[1, 2, 2, 1],\n",
    "    z_dim=2\n",
    ").to(device='cuda')"
   ]
  },
  {
   "cell_type": "code",
   "execution_count": null,
   "id": "parental-garage",
   "metadata": {},
   "outputs": [],
   "source": [
    "summary(model.encoder, (1, 28, 28))"
   ]
  },
  {
   "cell_type": "code",
   "execution_count": 7,
   "id": "proud-height",
   "metadata": {},
   "outputs": [],
   "source": [
    "learner = Learner(\n",
    "    dls=dataloaders,\n",
    "    model=model,\n",
    "    loss_func=partial(vae_loss, model=model)\n",
    ")"
   ]
  },
  {
   "cell_type": "code",
   "execution_count": 8,
   "id": "three-rogers",
   "metadata": {},
   "outputs": [
    {
     "data": {
      "text/html": [
       "<table border=\"1\" class=\"dataframe\">\n",
       "  <thead>\n",
       "    <tr style=\"text-align: left;\">\n",
       "      <th>epoch</th>\n",
       "      <th>train_loss</th>\n",
       "      <th>valid_loss</th>\n",
       "      <th>time</th>\n",
       "    </tr>\n",
       "  </thead>\n",
       "  <tbody>\n",
       "    <tr>\n",
       "      <td>0</td>\n",
       "      <td>444.416748</td>\n",
       "      <td>441.750397</td>\n",
       "      <td>00:39</td>\n",
       "    </tr>\n",
       "    <tr>\n",
       "      <td>1</td>\n",
       "      <td>392.554047</td>\n",
       "      <td>389.473328</td>\n",
       "      <td>00:33</td>\n",
       "    </tr>\n",
       "    <tr>\n",
       "      <td>2</td>\n",
       "      <td>340.942047</td>\n",
       "      <td>338.529236</td>\n",
       "      <td>00:33</td>\n",
       "    </tr>\n",
       "    <tr>\n",
       "      <td>3</td>\n",
       "      <td>310.618805</td>\n",
       "      <td>309.493103</td>\n",
       "      <td>00:33</td>\n",
       "    </tr>\n",
       "    <tr>\n",
       "      <td>4</td>\n",
       "      <td>293.771912</td>\n",
       "      <td>292.356537</td>\n",
       "      <td>00:33</td>\n",
       "    </tr>\n",
       "    <tr>\n",
       "      <td>5</td>\n",
       "      <td>280.839813</td>\n",
       "      <td>279.580200</td>\n",
       "      <td>00:33</td>\n",
       "    </tr>\n",
       "    <tr>\n",
       "      <td>6</td>\n",
       "      <td>272.602936</td>\n",
       "      <td>271.201752</td>\n",
       "      <td>00:34</td>\n",
       "    </tr>\n",
       "    <tr>\n",
       "      <td>7</td>\n",
       "      <td>268.004608</td>\n",
       "      <td>266.324402</td>\n",
       "      <td>00:35</td>\n",
       "    </tr>\n",
       "    <tr>\n",
       "      <td>8</td>\n",
       "      <td>264.888855</td>\n",
       "      <td>263.712128</td>\n",
       "      <td>00:36</td>\n",
       "    </tr>\n",
       "    <tr>\n",
       "      <td>9</td>\n",
       "      <td>262.911469</td>\n",
       "      <td>262.513397</td>\n",
       "      <td>00:34</td>\n",
       "    </tr>\n",
       "  </tbody>\n",
       "</table>"
      ],
      "text/plain": [
       "<IPython.core.display.HTML object>"
      ]
     },
     "metadata": {},
     "output_type": "display_data"
    }
   ],
   "source": [
    "learner.fit(10, 2e-6)"
   ]
  },
  {
   "cell_type": "code",
   "execution_count": null,
   "id": "desperate-sensitivity",
   "metadata": {},
   "outputs": [],
   "source": []
  }
 ],
 "metadata": {
  "kernelspec": {
   "display_name": "Python 3",
   "language": "python",
   "name": "python3"
  },
  "language_info": {
   "codemirror_mode": {
    "name": "ipython",
    "version": 3
   },
   "file_extension": ".py",
   "mimetype": "text/x-python",
   "name": "python",
   "nbconvert_exporter": "python",
   "pygments_lexer": "ipython3",
   "version": "3.8.5"
  }
 },
 "nbformat": 4,
 "nbformat_minor": 5
}
