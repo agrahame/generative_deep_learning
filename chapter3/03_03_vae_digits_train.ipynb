{
 "cells": [
  {
   "cell_type": "code",
   "execution_count": 1,
   "id": "broad-abuse",
   "metadata": {},
   "outputs": [],
   "source": [
    "from fastai.vision.all import *\n",
    "from models.VAE import VariationalAutoEncoder\n",
    "from torchsummary import summary\n",
    "from functools import partial\n",
    "from util.utils import rmse_loss, vae_loss"
   ]
  },
  {
   "cell_type": "code",
   "execution_count": 2,
   "id": "unauthorized-improvement",
   "metadata": {},
   "outputs": [],
   "source": [
    "path = Path('data/mnist_png')\n",
    "if not path.exists():\n",
    "    path = untar_data(URLs.MNIST, dest='data')"
   ]
  },
  {
   "cell_type": "code",
   "execution_count": 3,
   "id": "amber-lounge",
   "metadata": {},
   "outputs": [],
   "source": [
    "Path.BASE_PATH = path"
   ]
  },
  {
   "cell_type": "code",
   "execution_count": 4,
   "id": "together-moscow",
   "metadata": {},
   "outputs": [
    {
     "data": {
      "text/plain": [
       "(#2) [Path('training'),Path('testing')]"
      ]
     },
     "execution_count": 4,
     "metadata": {},
     "output_type": "execute_result"
    }
   ],
   "source": [
    "path.ls()"
   ]
  },
  {
   "cell_type": "code",
   "execution_count": 5,
   "id": "ranging-intelligence",
   "metadata": {},
   "outputs": [],
   "source": [
    "datablock = DataBlock(\n",
    "    blocks=(ImageBlock(cls=PILImageBW), ImageBlock(cls=PILImageBW)),\n",
    "    get_items=get_image_files,\n",
    "    splitter=RandomSplitter(seed=42)\n",
    ")"
   ]
  },
  {
   "cell_type": "code",
   "execution_count": 6,
   "id": "british-fifteen",
   "metadata": {},
   "outputs": [],
   "source": [
    "dataloaders = datablock.dataloaders(path)"
   ]
  },
  {
   "cell_type": "code",
   "execution_count": 18,
   "id": "coupled-floor",
   "metadata": {},
   "outputs": [],
   "source": [
    "model = VariationalAutoEncoder(\n",
    "    input_dim=[1, 28, 28],\n",
    "    conv_filters=[32, 64, 64, 64],\n",
    "    conv_t_filters=[64, 64, 32, 1],\n",
    "    kernel_sizes=[3, 3, 3, 3],\n",
    "    strides=[1, 2, 2, 1],\n",
    "    z_dim=2\n",
    ").to(device='cuda')"
   ]
  },
  {
   "cell_type": "code",
   "execution_count": 8,
   "id": "binding-estonia",
   "metadata": {},
   "outputs": [
    {
     "name": "stdout",
     "output_type": "stream",
     "text": [
      "==========================================================================================\n",
      "Layer (type:depth-idx)                   Output Shape              Param #\n",
      "==========================================================================================\n",
      "├─Conv2d: 1-1                            [-1, 32, 28, 28]          320\n",
      "├─LeakyReLU: 1-2                         [-1, 32, 28, 28]          --\n",
      "├─Conv2d: 1-3                            [-1, 64, 14, 14]          18,496\n",
      "├─LeakyReLU: 1-4                         [-1, 64, 14, 14]          --\n",
      "├─Conv2d: 1-5                            [-1, 64, 7, 7]            36,928\n",
      "├─LeakyReLU: 1-6                         [-1, 64, 7, 7]            --\n",
      "├─Conv2d: 1-7                            [-1, 64, 7, 7]            36,928\n",
      "├─LeakyReLU: 1-8                         [-1, 64, 7, 7]            --\n",
      "├─Flatten: 1-9                           [-1, 3136]                --\n",
      "├─VAELayer: 1-10                         [-1, 2]                   --\n",
      "|    └─VAELinear: 2-1                    [-1, 2]                   --\n",
      "|    |    └─Linear: 3-1                  [-1, 2]                   6,274\n",
      "|    |    └─Linear: 3-2                  [-1, 2]                   6,274\n",
      "|    └─Sampler: 2-2                      [-1, 2]                   --\n",
      "==========================================================================================\n",
      "Total params: 105,220\n",
      "Trainable params: 105,220\n",
      "Non-trainable params: 0\n",
      "Total mult-adds (M): 7.49\n",
      "==========================================================================================\n",
      "Input size (MB): 0.00\n",
      "Forward/backward pass size (MB): 0.33\n",
      "Params size (MB): 0.40\n",
      "Estimated Total Size (MB): 0.74\n",
      "==========================================================================================\n"
     ]
    },
    {
     "data": {
      "text/plain": [
       "==========================================================================================\n",
       "Layer (type:depth-idx)                   Output Shape              Param #\n",
       "==========================================================================================\n",
       "├─Conv2d: 1-1                            [-1, 32, 28, 28]          320\n",
       "├─LeakyReLU: 1-2                         [-1, 32, 28, 28]          --\n",
       "├─Conv2d: 1-3                            [-1, 64, 14, 14]          18,496\n",
       "├─LeakyReLU: 1-4                         [-1, 64, 14, 14]          --\n",
       "├─Conv2d: 1-5                            [-1, 64, 7, 7]            36,928\n",
       "├─LeakyReLU: 1-6                         [-1, 64, 7, 7]            --\n",
       "├─Conv2d: 1-7                            [-1, 64, 7, 7]            36,928\n",
       "├─LeakyReLU: 1-8                         [-1, 64, 7, 7]            --\n",
       "├─Flatten: 1-9                           [-1, 3136]                --\n",
       "├─VAELayer: 1-10                         [-1, 2]                   --\n",
       "|    └─VAELinear: 2-1                    [-1, 2]                   --\n",
       "|    |    └─Linear: 3-1                  [-1, 2]                   6,274\n",
       "|    |    └─Linear: 3-2                  [-1, 2]                   6,274\n",
       "|    └─Sampler: 2-2                      [-1, 2]                   --\n",
       "==========================================================================================\n",
       "Total params: 105,220\n",
       "Trainable params: 105,220\n",
       "Non-trainable params: 0\n",
       "Total mult-adds (M): 7.49\n",
       "==========================================================================================\n",
       "Input size (MB): 0.00\n",
       "Forward/backward pass size (MB): 0.33\n",
       "Params size (MB): 0.40\n",
       "Estimated Total Size (MB): 0.74\n",
       "=========================================================================================="
      ]
     },
     "execution_count": 8,
     "metadata": {},
     "output_type": "execute_result"
    }
   ],
   "source": [
    "summary(model.encoder, (1, 28, 28))"
   ]
  },
  {
   "cell_type": "code",
   "execution_count": 19,
   "id": "remarkable-measurement",
   "metadata": {},
   "outputs": [],
   "source": [
    "learner = Learner(\n",
    "    dls=dataloaders,\n",
    "    model=model,\n",
    "    loss_func=partial(vae_loss, model=model)\n",
    ")"
   ]
  },
  {
   "cell_type": "code",
   "execution_count": 16,
   "id": "pediatric-strengthening",
   "metadata": {},
   "outputs": [
    {
     "data": {
      "text/html": [],
      "text/plain": [
       "<IPython.core.display.HTML object>"
      ]
     },
     "metadata": {},
     "output_type": "display_data"
    },
    {
     "data": {
      "text/plain": [
       "SuggestedLRs(valley=0.00019054606673307717)"
      ]
     },
     "execution_count": 16,
     "metadata": {},
     "output_type": "execute_result"
    },
    {
     "data": {
      "image/png": "[encoded data removed]",
      "text/plain": [
       "<Figure size 432x288 with 1 Axes>"
      ]
     },
     "metadata": {
      "needs_background": "light"
     },
     "output_type": "display_data"
    }
   ],
   "source": [
    "learner.lr_find()"
   ]
  },
  {
   "cell_type": "code",
   "execution_count": null,
   "id": "declared-italy",
   "metadata": {},
   "outputs": [
    {
     "data": {
      "text/html": [
       "\n",
       "    <div>\n",
       "        <style>\n",
       "            /* Turns off some styling */\n",
       "            progress {\n",
       "                /* gets rid of default border in Firefox and Opera. */\n",
       "                border: none;\n",
       "                /* Needs to be in here for Safari polyfill so background images work as expected. */\n",
       "                background-size: auto;\n",
       "            }\n",
       "            .progress-bar-interrupted, .progress-bar-interrupted::-webkit-progress-bar {\n",
       "                background: #F44336;\n",
       "            }\n",
       "        </style>\n",
       "      <progress value='6' class='' max='7' style='width:300px; height:20px; vertical-align: middle;'></progress>\n",
       "      85.71% [6/7 02:53<00:28]\n",
       "    </div>\n",
       "    \n",
       "<table border=\"1\" class=\"dataframe\">\n",
       "  <thead>\n",
       "    <tr style=\"text-align: left;\">\n",
       "      <th>epoch</th>\n",
       "      <th>train_loss</th>\n",
       "      <th>valid_loss</th>\n",
       "      <th>time</th>\n",
       "    </tr>\n",
       "  </thead>\n",
       "  <tbody>\n",
       "    <tr>\n",
       "      <td>0</td>\n",
       "      <td>259.375122</td>\n",
       "      <td>259.251923</td>\n",
       "      <td>00:28</td>\n",
       "    </tr>\n",
       "    <tr>\n",
       "      <td>1</td>\n",
       "      <td>259.006195</td>\n",
       "      <td>259.260254</td>\n",
       "      <td>00:29</td>\n",
       "    </tr>\n",
       "    <tr>\n",
       "      <td>2</td>\n",
       "      <td>260.622498</td>\n",
       "      <td>259.190735</td>\n",
       "      <td>00:31</td>\n",
       "    </tr>\n",
       "    <tr>\n",
       "      <td>3</td>\n",
       "      <td>259.668671</td>\n",
       "      <td>259.251587</td>\n",
       "      <td>00:28</td>\n",
       "    </tr>\n",
       "    <tr>\n",
       "      <td>4</td>\n",
       "      <td>260.111633</td>\n",
       "      <td>259.057617</td>\n",
       "      <td>00:27</td>\n",
       "    </tr>\n",
       "    <tr>\n",
       "      <td>5</td>\n",
       "      <td>260.214935</td>\n",
       "      <td>259.106781</td>\n",
       "      <td>00:27</td>\n",
       "    </tr>\n",
       "  </tbody>\n",
       "</table><p>\n",
       "\n",
       "    <div>\n",
       "        <style>\n",
       "            /* Turns off some styling */\n",
       "            progress {\n",
       "                /* gets rid of default border in Firefox and Opera. */\n",
       "                border: none;\n",
       "                /* Needs to be in here for Safari polyfill so background images work as expected. */\n",
       "                background-size: auto;\n",
       "            }\n",
       "            .progress-bar-interrupted, .progress-bar-interrupted::-webkit-progress-bar {\n",
       "                background: #F44336;\n",
       "            }\n",
       "        </style>\n",
       "      <progress value='398' class='' max='875' style='width:300px; height:20px; vertical-align: middle;'></progress>\n",
       "      45.49% [398/875 00:10<00:12 258.7171]\n",
       "    </div>\n",
       "    "
      ],
      "text/plain": [
       "<IPython.core.display.HTML object>"
      ]
     },
     "metadata": {},
     "output_type": "display_data"
    }
   ],
   "source": [
    "learner.fit(7, 3e-3)"
   ]
  },
  {
   "cell_type": "code",
   "execution_count": null,
   "id": "attractive-paris",
   "metadata": {},
   "outputs": [],
   "source": []
  }
 ],
 "metadata": {
  "kernelspec": {
   "display_name": "Python 3",
   "language": "python",
   "name": "python3"
  },
  "language_info": {
   "codemirror_mode": {
    "name": "ipython",
    "version": 3
   },
   "file_extension": ".py",
   "mimetype": "text/x-python",
   "name": "python",
   "nbconvert_exporter": "python",
   "pygments_lexer": "ipython3",
   "version": "3.8.5"
  }
 },
 "nbformat": 4,
 "nbformat_minor": 5
}
