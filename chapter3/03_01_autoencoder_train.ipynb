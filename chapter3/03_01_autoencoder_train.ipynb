{
 "cells": [
  {
   "cell_type": "code",
   "execution_count": 1,
   "id": "funky-berry",
   "metadata": {},
   "outputs": [
    {
     "name": "stdout",
     "output_type": "stream",
     "text": [
      "Requirement already satisfied: torch-summary in /opt/conda/lib/python3.8/site-packages (1.4.5)\n"
     ]
    }
   ],
   "source": [
    "!pip install torch-summary"
   ]
  },
  {
   "cell_type": "code",
   "execution_count": 2,
   "id": "suburban-compatibility",
   "metadata": {},
   "outputs": [],
   "source": [
    "from fastai.vision.all import *\n",
    "from models.AE import AutoEncoder\n",
    "from torchsummary import summary"
   ]
  },
  {
   "cell_type": "code",
   "execution_count": 3,
   "id": "strange-decline",
   "metadata": {},
   "outputs": [],
   "source": [
    "path = untar_data(URLs.MNIST, dest='data')"
   ]
  },
  {
   "cell_type": "code",
   "execution_count": 4,
   "id": "burning-earthquake",
   "metadata": {},
   "outputs": [
    {
     "data": {
      "text/plain": [
       "(#2) [Path('data/mnist_png/training'),Path('data/mnist_png/testing')]"
      ]
     },
     "execution_count": 4,
     "metadata": {},
     "output_type": "execute_result"
    }
   ],
   "source": [
    "path.ls()"
   ]
  },
  {
   "cell_type": "code",
   "execution_count": 5,
   "id": "laughing-ebony",
   "metadata": {},
   "outputs": [],
   "source": [
    "Path.BASE_PATH = path"
   ]
  },
  {
   "cell_type": "code",
   "execution_count": 6,
   "id": "incorporated-terror",
   "metadata": {},
   "outputs": [],
   "source": [
    "img3 = get_image_files(path/'training'/'3')[0]"
   ]
  },
  {
   "cell_type": "code",
   "execution_count": 7,
   "id": "heard-vertical",
   "metadata": {},
   "outputs": [
    {
     "data": {
      "image/png": "[encoded data removed]",
      "text/plain": [
       "<PIL.PngImagePlugin.PngImageFile image mode=L size=28x28 at 0x7F9FA86D3F10>"
      ]
     },
     "execution_count": 7,
     "metadata": {},
     "output_type": "execute_result"
    }
   ],
   "source": [
    "Image.open(img3)"
   ]
  },
  {
   "cell_type": "code",
   "execution_count": 8,
   "id": "appreciated-poker",
   "metadata": {},
   "outputs": [],
   "source": [
    "data_block = DataBlock(\n",
    "    blocks=(ImageBlock(cls=PILImageBW), ImageBlock(cls=PILImageBW)),\n",
    "    get_items=get_image_files,\n",
    "    splitter=RandomSplitter(seed=42)\n",
    ")"
   ]
  },
  {
   "cell_type": "code",
   "execution_count": 9,
   "id": "purple-hypothetical",
   "metadata": {},
   "outputs": [],
   "source": [
    "data_sets = data_block.datasets(path)"
   ]
  },
  {
   "cell_type": "code",
   "execution_count": 10,
   "id": "equal-photographer",
   "metadata": {},
   "outputs": [
    {
     "data": {
      "text/plain": [
       "(PILImageBW mode=L size=28x28, PILImageBW mode=L size=28x28)"
      ]
     },
     "execution_count": 10,
     "metadata": {},
     "output_type": "execute_result"
    }
   ],
   "source": [
    "data_sets.train[0]"
   ]
  },
  {
   "cell_type": "code",
   "execution_count": 11,
   "id": "suitable-framework",
   "metadata": {},
   "outputs": [
    {
     "data": {
      "text/plain": [
       "<AxesSubplot:>"
      ]
     },
     "execution_count": 11,
     "metadata": {},
     "output_type": "execute_result"
    },
    {
     "data": {
      "image/png": "[encoded data removed]",
      "text/plain": [
       "<Figure size 72x72 with 1 Axes>"
      ]
     },
     "metadata": {
      "needs_background": "light"
     },
     "output_type": "display_data"
    }
   ],
   "source": [
    "show_image(data_sets.train[0][0])"
   ]
  },
  {
   "cell_type": "code",
   "execution_count": 12,
   "id": "demanding-distributor",
   "metadata": {},
   "outputs": [
    {
     "data": {
      "text/plain": [
       "<AxesSubplot:>"
      ]
     },
     "execution_count": 12,
     "metadata": {},
     "output_type": "execute_result"
    },
    {
     "data": {
      "image/png": "[encoded data removed]",
      "text/plain": [
       "<Figure size 72x72 with 1 Axes>"
      ]
     },
     "metadata": {
      "needs_background": "light"
     },
     "output_type": "display_data"
    }
   ],
   "source": [
    "show_image(data_sets.train[0][1])"
   ]
  },
  {
   "cell_type": "code",
   "execution_count": 13,
   "id": "massive-morocco",
   "metadata": {},
   "outputs": [
    {
     "data": {
      "text/plain": [
       "<AxesSubplot:>"
      ]
     },
     "execution_count": 13,
     "metadata": {},
     "output_type": "execute_result"
    },
    {
     "data": {
      "image/png": "[encoded data removed]",
      "text/plain": [
       "<Figure size 72x72 with 1 Axes>"
      ]
     },
     "metadata": {
      "needs_background": "light"
     },
     "output_type": "display_data"
    }
   ],
   "source": [
    "show_image(data_sets.train[10][0])"
   ]
  },
  {
   "cell_type": "code",
   "execution_count": 14,
   "id": "infectious-investor",
   "metadata": {},
   "outputs": [
    {
     "data": {
      "text/plain": [
       "<AxesSubplot:>"
      ]
     },
     "execution_count": 14,
     "metadata": {},
     "output_type": "execute_result"
    },
    {
     "data": {
      "image/png": "[encoded data removed]",
      "text/plain": [
       "<Figure size 72x72 with 1 Axes>"
      ]
     },
     "metadata": {
      "needs_background": "light"
     },
     "output_type": "display_data"
    }
   ],
   "source": [
    "show_image(data_sets.train[10][1])"
   ]
  },
  {
   "cell_type": "code",
   "execution_count": 15,
   "id": "starting-vampire",
   "metadata": {},
   "outputs": [],
   "source": [
    "data_loaders = data_block.dataloaders(path)"
   ]
  },
  {
   "cell_type": "code",
   "execution_count": 16,
   "id": "studied-error",
   "metadata": {},
   "outputs": [
    {
     "data": {
      "image/png": "[encoded data removed]",
      "text/plain": [
       "<Figure size 288x288 with 18 Axes>"
      ]
     },
     "metadata": {
      "needs_background": "light"
     },
     "output_type": "display_data"
    }
   ],
   "source": [
    "data_loaders.show_batch(max_n=9, figsize=(4,4))"
   ]
  },
  {
   "cell_type": "code",
   "execution_count": 17,
   "id": "lovely-lebanon",
   "metadata": {},
   "outputs": [],
   "source": [
    "model = AutoEncoder(\n",
    "    input_dim=[1, 28, 28],\n",
    "    conv_filters=[32, 64, 64, 64],\n",
    "    conv_t_filters=[64, 64, 32, 1],\n",
    "    kernel_sizes=[3, 3, 3, 3],\n",
    "    strides=[1, 2, 2, 1],\n",
    "    z_dim=2\n",
    ")"
   ]
  },
  {
   "cell_type": "code",
   "execution_count": 18,
   "id": "furnished-diagram",
   "metadata": {},
   "outputs": [
    {
     "name": "stdout",
     "output_type": "stream",
     "text": [
      "==========================================================================================\n",
      "Layer (type:depth-idx)                   Output Shape              Param #\n",
      "==========================================================================================\n",
      "├─Sequential: 1-1                        [-1, 1, 28, 28]           --\n",
      "|    └─Sequential: 2-1                   [-1, 2]                   --\n",
      "|    |    └─Conv2d: 3-1                  [-1, 32, 28, 28]          320\n",
      "|    |    └─LeakyReLU: 3-2               [-1, 32, 28, 28]          --\n",
      "|    |    └─Conv2d: 3-3                  [-1, 64, 14, 14]          18,496\n",
      "|    |    └─LeakyReLU: 3-4               [-1, 64, 14, 14]          --\n",
      "|    |    └─Conv2d: 3-5                  [-1, 64, 7, 7]            36,928\n",
      "|    |    └─LeakyReLU: 3-6               [-1, 64, 7, 7]            --\n",
      "|    |    └─Conv2d: 3-7                  [-1, 64, 7, 7]            36,928\n",
      "|    |    └─LeakyReLU: 3-8               [-1, 64, 7, 7]            --\n",
      "|    |    └─Flatten: 3-9                 [-1, 3136]                --\n",
      "|    |    └─Linear: 3-10                 [-1, 2]                   6,274\n",
      "|    └─Sequential: 2-2                   [-1, 1, 28, 28]           --\n",
      "|    |    └─Linear: 3-11                 [-1, 3136]                9,408\n",
      "|    |    └─Unflatten: 3-12              [-1, 64, 7, 7]            --\n",
      "|    |    └─ConvTranspose2d: 3-13        [-1, 64, 7, 7]            36,928\n",
      "|    |    └─LeakyReLU: 3-14              [-1, 64, 7, 7]            --\n",
      "|    |    └─ConvTranspose2d: 3-15        [-1, 64, 14, 14]          36,928\n",
      "|    |    └─LeakyReLU: 3-16              [-1, 64, 14, 14]          --\n",
      "|    |    └─ConvTranspose2d: 3-17        [-1, 32, 28, 28]          18,464\n",
      "|    |    └─LeakyReLU: 3-18              [-1, 32, 28, 28]          --\n",
      "|    |    └─ConvTranspose2d: 3-19        [-1, 1, 28, 28]           289\n",
      "|    |    └─Sigmoid: 3-20                [-1, 1, 28, 28]           --\n",
      "==========================================================================================\n",
      "Total params: 200,963\n",
      "Trainable params: 200,963\n",
      "Non-trainable params: 0\n",
      "Total mult-adds (M): 31.57\n",
      "==========================================================================================\n",
      "Input size (MB): 0.00\n",
      "Forward/backward pass size (MB): 0.68\n",
      "Params size (MB): 0.77\n",
      "Estimated Total Size (MB): 1.45\n",
      "==========================================================================================\n"
     ]
    },
    {
     "data": {
      "text/plain": [
       "==========================================================================================\n",
       "Layer (type:depth-idx)                   Output Shape              Param #\n",
       "==========================================================================================\n",
       "├─Sequential: 1-1                        [-1, 1, 28, 28]           --\n",
       "|    └─Sequential: 2-1                   [-1, 2]                   --\n",
       "|    |    └─Conv2d: 3-1                  [-1, 32, 28, 28]          320\n",
       "|    |    └─LeakyReLU: 3-2               [-1, 32, 28, 28]          --\n",
       "|    |    └─Conv2d: 3-3                  [-1, 64, 14, 14]          18,496\n",
       "|    |    └─LeakyReLU: 3-4               [-1, 64, 14, 14]          --\n",
       "|    |    └─Conv2d: 3-5                  [-1, 64, 7, 7]            36,928\n",
       "|    |    └─LeakyReLU: 3-6               [-1, 64, 7, 7]            --\n",
       "|    |    └─Conv2d: 3-7                  [-1, 64, 7, 7]            36,928\n",
       "|    |    └─LeakyReLU: 3-8               [-1, 64, 7, 7]            --\n",
       "|    |    └─Flatten: 3-9                 [-1, 3136]                --\n",
       "|    |    └─Linear: 3-10                 [-1, 2]                   6,274\n",
       "|    └─Sequential: 2-2                   [-1, 1, 28, 28]           --\n",
       "|    |    └─Linear: 3-11                 [-1, 3136]                9,408\n",
       "|    |    └─Unflatten: 3-12              [-1, 64, 7, 7]            --\n",
       "|    |    └─ConvTranspose2d: 3-13        [-1, 64, 7, 7]            36,928\n",
       "|    |    └─LeakyReLU: 3-14              [-1, 64, 7, 7]            --\n",
       "|    |    └─ConvTranspose2d: 3-15        [-1, 64, 14, 14]          36,928\n",
       "|    |    └─LeakyReLU: 3-16              [-1, 64, 14, 14]          --\n",
       "|    |    └─ConvTranspose2d: 3-17        [-1, 32, 28, 28]          18,464\n",
       "|    |    └─LeakyReLU: 3-18              [-1, 32, 28, 28]          --\n",
       "|    |    └─ConvTranspose2d: 3-19        [-1, 1, 28, 28]           289\n",
       "|    |    └─Sigmoid: 3-20                [-1, 1, 28, 28]           --\n",
       "==========================================================================================\n",
       "Total params: 200,963\n",
       "Trainable params: 200,963\n",
       "Non-trainable params: 0\n",
       "Total mult-adds (M): 31.57\n",
       "==========================================================================================\n",
       "Input size (MB): 0.00\n",
       "Forward/backward pass size (MB): 0.68\n",
       "Params size (MB): 0.77\n",
       "Estimated Total Size (MB): 1.45\n",
       "=========================================================================================="
      ]
     },
     "execution_count": 18,
     "metadata": {},
     "output_type": "execute_result"
    }
   ],
   "source": [
    "summary(model, (1, 28, 28))"
   ]
  },
  {
   "cell_type": "code",
   "execution_count": 19,
   "id": "continuous-kelly",
   "metadata": {},
   "outputs": [],
   "source": [
    "learner = Learner(\n",
    "    dls=data_loaders,\n",
    "    model=model,\n",
    "    loss_func=F.mse_loss\n",
    ")"
   ]
  },
  {
   "cell_type": "code",
   "execution_count": 20,
   "id": "interstate-submission",
   "metadata": {},
   "outputs": [
    {
     "data": {
      "text/html": [],
      "text/plain": [
       "<IPython.core.display.HTML object>"
      ]
     },
     "metadata": {},
     "output_type": "display_data"
    },
    {
     "data": {
      "text/plain": [
       "SuggestedLRs(valley=0.004365158267319202)"
      ]
     },
     "execution_count": 20,
     "metadata": {},
     "output_type": "execute_result"
    },
    {
     "data": {
      "image/png": "[encoded data removed]",
      "text/plain": [
       "<Figure size 432x288 with 1 Axes>"
      ]
     },
     "metadata": {
      "needs_background": "light"
     },
     "output_type": "display_data"
    }
   ],
   "source": [
    "learner.lr_find()"
   ]
  },
  {
   "cell_type": "code",
   "execution_count": 21,
   "id": "forty-committee",
   "metadata": {},
   "outputs": [
    {
     "data": {
      "text/html": [
       "<table border=\"1\" class=\"dataframe\">\n",
       "  <thead>\n",
       "    <tr style=\"text-align: left;\">\n",
       "      <th>epoch</th>\n",
       "      <th>train_loss</th>\n",
       "      <th>valid_loss</th>\n",
       "      <th>time</th>\n",
       "    </tr>\n",
       "  </thead>\n",
       "  <tbody>\n",
       "    <tr>\n",
       "      <td>0</td>\n",
       "      <td>0.043795</td>\n",
       "      <td>0.044319</td>\n",
       "      <td>00:31</td>\n",
       "    </tr>\n",
       "    <tr>\n",
       "      <td>1</td>\n",
       "      <td>0.041478</td>\n",
       "      <td>0.042058</td>\n",
       "      <td>00:25</td>\n",
       "    </tr>\n",
       "    <tr>\n",
       "      <td>2</td>\n",
       "      <td>0.040628</td>\n",
       "      <td>0.041118</td>\n",
       "      <td>00:25</td>\n",
       "    </tr>\n",
       "  </tbody>\n",
       "</table>"
      ],
      "text/plain": [
       "<IPython.core.display.HTML object>"
      ]
     },
     "metadata": {},
     "output_type": "display_data"
    }
   ],
   "source": [
    "learner.fit(3, 4e-3)"
   ]
  },
  {
   "cell_type": "code",
   "execution_count": null,
   "id": "humanitarian-indication",
   "metadata": {},
   "outputs": [],
   "source": []
  }
 ],
 "metadata": {
  "kernelspec": {
   "display_name": "Python 3",
   "language": "python",
   "name": "python3"
  },
  "language_info": {
   "codemirror_mode": {
    "name": "ipython",
    "version": 3
   },
   "file_extension": ".py",
   "mimetype": "text/x-python",
   "name": "python",
   "nbconvert_exporter": "python",
   "pygments_lexer": "ipython3",
   "version": "3.8.5"
  }
 },
 "nbformat": 4,
 "nbformat_minor": 5
}
