{
 "cells": [
  {
   "cell_type": "code",
   "execution_count": 1,
   "id": "widespread-finnish",
   "metadata": {},
   "outputs": [],
   "source": [
    "from fastai.vision.all import *\n",
    "from models.AE import AutoEncoder\n",
    "from torchsummary import summary"
   ]
  },
  {
   "cell_type": "code",
   "execution_count": 2,
   "id": "several-incidence",
   "metadata": {},
   "outputs": [],
   "source": [
    "path = untar_data(URLs.MNIST, dest='data')"
   ]
  },
  {
   "cell_type": "code",
   "execution_count": 3,
   "id": "still-processing",
   "metadata": {},
   "outputs": [
    {
     "data": {
      "text/plain": [
       "(#2) [Path('data/mnist_png/training'),Path('data/mnist_png/testing')]"
      ]
     },
     "execution_count": 3,
     "metadata": {},
     "output_type": "execute_result"
    }
   ],
   "source": [
    "path.ls()"
   ]
  },
  {
   "cell_type": "code",
   "execution_count": 4,
   "id": "accredited-shoulder",
   "metadata": {},
   "outputs": [],
   "source": [
    "Path.BASE_PATH = path"
   ]
  },
  {
   "cell_type": "code",
   "execution_count": 5,
   "id": "chief-artwork",
   "metadata": {},
   "outputs": [],
   "source": [
    "img3 = get_image_files(path/'training'/'3')[0]"
   ]
  },
  {
   "cell_type": "code",
   "execution_count": 6,
   "id": "based-stone",
   "metadata": {},
   "outputs": [
    {
     "data": {
      "image/png": "[encoded data removed]",
      "text/plain": [
       "<PIL.PngImagePlugin.PngImageFile image mode=L size=28x28 at 0x7FC6416BE820>"
      ]
     },
     "execution_count": 6,
     "metadata": {},
     "output_type": "execute_result"
    }
   ],
   "source": [
    "Image.open(img3)"
   ]
  },
  {
   "cell_type": "code",
   "execution_count": 7,
   "id": "backed-frame",
   "metadata": {},
   "outputs": [],
   "source": [
    "data_block = DataBlock(\n",
    "    blocks=(ImageBlock(cls=PILImageBW), ImageBlock(cls=PILImageBW)),\n",
    "    get_items=get_image_files,\n",
    "    splitter=RandomSplitter(seed=42)\n",
    ")"
   ]
  },
  {
   "cell_type": "code",
   "execution_count": 8,
   "id": "periodic-island",
   "metadata": {},
   "outputs": [],
   "source": [
    "data_sets = data_block.datasets(path)"
   ]
  },
  {
   "cell_type": "code",
   "execution_count": 9,
   "id": "british-bubble",
   "metadata": {},
   "outputs": [
    {
     "data": {
      "text/plain": [
       "(PILImageBW mode=L size=28x28, PILImageBW mode=L size=28x28)"
      ]
     },
     "execution_count": 9,
     "metadata": {},
     "output_type": "execute_result"
    }
   ],
   "source": [
    "data_sets.train[0]"
   ]
  },
  {
   "cell_type": "code",
   "execution_count": 10,
   "id": "finished-qatar",
   "metadata": {},
   "outputs": [
    {
     "data": {
      "text/plain": [
       "<AxesSubplot:>"
      ]
     },
     "execution_count": 10,
     "metadata": {},
     "output_type": "execute_result"
    },
    {
     "data": {
      "image/png": "[encoded data removed]",
      "text/plain": [
       "<Figure size 72x72 with 1 Axes>"
      ]
     },
     "metadata": {
      "needs_background": "light"
     },
     "output_type": "display_data"
    }
   ],
   "source": [
    "show_image(data_sets.train[0][0])"
   ]
  },
  {
   "cell_type": "code",
   "execution_count": 11,
   "id": "designed-poetry",
   "metadata": {},
   "outputs": [
    {
     "data": {
      "text/plain": [
       "<AxesSubplot:>"
      ]
     },
     "execution_count": 11,
     "metadata": {},
     "output_type": "execute_result"
    },
    {
     "data": {
      "image/png": "[encoded data removed]",
      "text/plain": [
       "<Figure size 72x72 with 1 Axes>"
      ]
     },
     "metadata": {
      "needs_background": "light"
     },
     "output_type": "display_data"
    }
   ],
   "source": [
    "show_image(data_sets.train[0][1])"
   ]
  },
  {
   "cell_type": "code",
   "execution_count": 12,
   "id": "yellow-cookie",
   "metadata": {},
   "outputs": [
    {
     "data": {
      "text/plain": [
       "<AxesSubplot:>"
      ]
     },
     "execution_count": 12,
     "metadata": {},
     "output_type": "execute_result"
    },
    {
     "data": {
      "image/png": "[encoded data removed]",
      "text/plain": [
       "<Figure size 72x72 with 1 Axes>"
      ]
     },
     "metadata": {
      "needs_background": "light"
     },
     "output_type": "display_data"
    }
   ],
   "source": [
    "show_image(data_sets.train[10][0])"
   ]
  },
  {
   "cell_type": "code",
   "execution_count": 13,
   "id": "comfortable-notebook",
   "metadata": {},
   "outputs": [
    {
     "data": {
      "text/plain": [
       "<AxesSubplot:>"
      ]
     },
     "execution_count": 13,
     "metadata": {},
     "output_type": "execute_result"
    },
    {
     "data": {
      "image/png": "[encoded data removed]",
      "text/plain": [
       "<Figure size 72x72 with 1 Axes>"
      ]
     },
     "metadata": {
      "needs_background": "light"
     },
     "output_type": "display_data"
    }
   ],
   "source": [
    "show_image(data_sets.train[10][1])"
   ]
  },
  {
   "cell_type": "code",
   "execution_count": 14,
   "id": "considered-valuable",
   "metadata": {},
   "outputs": [],
   "source": [
    "data_loaders = data_block.dataloaders(path)"
   ]
  },
  {
   "cell_type": "code",
   "execution_count": 15,
   "id": "laughing-duncan",
   "metadata": {},
   "outputs": [
    {
     "data": {
      "image/png": "[encoded data removed]",
      "text/plain": [
       "<Figure size 288x288 with 18 Axes>"
      ]
     },
     "metadata": {
      "needs_background": "light"
     },
     "output_type": "display_data"
    }
   ],
   "source": [
    "data_loaders.show_batch(max_n=9, figsize=(4,4))"
   ]
  },
  {
   "cell_type": "code",
   "execution_count": 16,
   "id": "juvenile-pakistan",
   "metadata": {},
   "outputs": [],
   "source": [
    "model = AutoEncoder(\n",
    "    input_dim=[1, 28, 28],\n",
    "    conv_filters=[32, 64, 64, 64],\n",
    "    conv_t_filters=[64, 64, 32, 1],\n",
    "    kernel_sizes=[3, 3, 3, 3],\n",
    "    strides=[1, 2, 2, 1],\n",
    "    z_dim=2\n",
    ")"
   ]
  },
  {
   "cell_type": "code",
   "execution_count": 17,
   "id": "willing-submission",
   "metadata": {},
   "outputs": [
    {
     "name": "stdout",
     "output_type": "stream",
     "text": [
      "==========================================================================================\n",
      "Layer (type:depth-idx)                   Output Shape              Param #\n",
      "==========================================================================================\n",
      "├─Sequential: 1-1                        [-1, 1, 28, 28]           --\n",
      "|    └─Sequential: 2-1                   [-1, 2]                   --\n",
      "|    |    └─Conv2d: 3-1                  [-1, 32, 28, 28]          320\n",
      "|    |    └─LeakyReLU: 3-2               [-1, 32, 28, 28]          --\n",
      "|    |    └─Conv2d: 3-3                  [-1, 64, 14, 14]          18,496\n",
      "|    |    └─LeakyReLU: 3-4               [-1, 64, 14, 14]          --\n",
      "|    |    └─Conv2d: 3-5                  [-1, 64, 7, 7]            36,928\n",
      "|    |    └─LeakyReLU: 3-6               [-1, 64, 7, 7]            --\n",
      "|    |    └─Conv2d: 3-7                  [-1, 64, 7, 7]            36,928\n",
      "|    |    └─LeakyReLU: 3-8               [-1, 64, 7, 7]            --\n",
      "|    |    └─Flatten: 3-9                 [-1, 3136]                --\n",
      "|    |    └─Linear: 3-10                 [-1, 2]                   6,274\n",
      "|    └─Sequential: 2-2                   [-1, 1, 28, 28]           --\n",
      "|    |    └─Linear: 3-11                 [-1, 3136]                9,408\n",
      "|    |    └─Unflatten: 3-12              [-1, 64, 7, 7]            --\n",
      "|    |    └─ConvTranspose2d: 3-13        [-1, 64, 7, 7]            36,928\n",
      "|    |    └─LeakyReLU: 3-14              [-1, 64, 7, 7]            --\n",
      "|    |    └─ConvTranspose2d: 3-15        [-1, 64, 14, 14]          36,928\n",
      "|    |    └─LeakyReLU: 3-16              [-1, 64, 14, 14]          --\n",
      "|    |    └─ConvTranspose2d: 3-17        [-1, 32, 28, 28]          18,464\n",
      "|    |    └─LeakyReLU: 3-18              [-1, 32, 28, 28]          --\n",
      "|    |    └─ConvTranspose2d: 3-19        [-1, 1, 28, 28]           289\n",
      "|    |    └─Sigmoid: 3-20                [-1, 1, 28, 28]           --\n",
      "==========================================================================================\n",
      "Total params: 200,963\n",
      "Trainable params: 200,963\n",
      "Non-trainable params: 0\n",
      "Total mult-adds (M): 31.57\n",
      "==========================================================================================\n",
      "Input size (MB): 0.00\n",
      "Forward/backward pass size (MB): 0.68\n",
      "Params size (MB): 0.77\n",
      "Estimated Total Size (MB): 1.45\n",
      "==========================================================================================\n"
     ]
    },
    {
     "data": {
      "text/plain": [
       "==========================================================================================\n",
       "Layer (type:depth-idx)                   Output Shape              Param #\n",
       "==========================================================================================\n",
       "├─Sequential: 1-1                        [-1, 1, 28, 28]           --\n",
       "|    └─Sequential: 2-1                   [-1, 2]                   --\n",
       "|    |    └─Conv2d: 3-1                  [-1, 32, 28, 28]          320\n",
       "|    |    └─LeakyReLU: 3-2               [-1, 32, 28, 28]          --\n",
       "|    |    └─Conv2d: 3-3                  [-1, 64, 14, 14]          18,496\n",
       "|    |    └─LeakyReLU: 3-4               [-1, 64, 14, 14]          --\n",
       "|    |    └─Conv2d: 3-5                  [-1, 64, 7, 7]            36,928\n",
       "|    |    └─LeakyReLU: 3-6               [-1, 64, 7, 7]            --\n",
       "|    |    └─Conv2d: 3-7                  [-1, 64, 7, 7]            36,928\n",
       "|    |    └─LeakyReLU: 3-8               [-1, 64, 7, 7]            --\n",
       "|    |    └─Flatten: 3-9                 [-1, 3136]                --\n",
       "|    |    └─Linear: 3-10                 [-1, 2]                   6,274\n",
       "|    └─Sequential: 2-2                   [-1, 1, 28, 28]           --\n",
       "|    |    └─Linear: 3-11                 [-1, 3136]                9,408\n",
       "|    |    └─Unflatten: 3-12              [-1, 64, 7, 7]            --\n",
       "|    |    └─ConvTranspose2d: 3-13        [-1, 64, 7, 7]            36,928\n",
       "|    |    └─LeakyReLU: 3-14              [-1, 64, 7, 7]            --\n",
       "|    |    └─ConvTranspose2d: 3-15        [-1, 64, 14, 14]          36,928\n",
       "|    |    └─LeakyReLU: 3-16              [-1, 64, 14, 14]          --\n",
       "|    |    └─ConvTranspose2d: 3-17        [-1, 32, 28, 28]          18,464\n",
       "|    |    └─LeakyReLU: 3-18              [-1, 32, 28, 28]          --\n",
       "|    |    └─ConvTranspose2d: 3-19        [-1, 1, 28, 28]           289\n",
       "|    |    └─Sigmoid: 3-20                [-1, 1, 28, 28]           --\n",
       "==========================================================================================\n",
       "Total params: 200,963\n",
       "Trainable params: 200,963\n",
       "Non-trainable params: 0\n",
       "Total mult-adds (M): 31.57\n",
       "==========================================================================================\n",
       "Input size (MB): 0.00\n",
       "Forward/backward pass size (MB): 0.68\n",
       "Params size (MB): 0.77\n",
       "Estimated Total Size (MB): 1.45\n",
       "=========================================================================================="
      ]
     },
     "execution_count": 17,
     "metadata": {},
     "output_type": "execute_result"
    }
   ],
   "source": [
    "summary(model, (1, 28, 28))"
   ]
  },
  {
   "cell_type": "code",
   "execution_count": 18,
   "id": "american-funds",
   "metadata": {},
   "outputs": [],
   "source": [
    "learner = Learner(\n",
    "    dls=data_loaders,\n",
    "    model=model,\n",
    "    loss_func=F.mse_loss\n",
    ")"
   ]
  },
  {
   "cell_type": "code",
   "execution_count": 19,
   "id": "human-sussex",
   "metadata": {},
   "outputs": [
    {
     "data": {
      "text/html": [],
      "text/plain": [
       "<IPython.core.display.HTML object>"
      ]
     },
     "metadata": {},
     "output_type": "display_data"
    },
    {
     "data": {
      "text/plain": [
       "SuggestedLRs(valley=0.001737800776027143)"
      ]
     },
     "execution_count": 19,
     "metadata": {},
     "output_type": "execute_result"
    },
    {
     "data": {
      "image/png": "[encoded data removed]",
      "text/plain": [
       "<Figure size 432x288 with 1 Axes>"
      ]
     },
     "metadata": {
      "needs_background": "light"
     },
     "output_type": "display_data"
    }
   ],
   "source": [
    "learner.lr_find()"
   ]
  },
  {
   "cell_type": "code",
   "execution_count": null,
   "id": "included-surfing",
   "metadata": {},
   "outputs": [
    {
     "data": {
      "text/html": [
       "\n",
       "    <div>\n",
       "        <style>\n",
       "            /* Turns off some styling */\n",
       "            progress {\n",
       "                /* gets rid of default border in Firefox and Opera. */\n",
       "                border: none;\n",
       "                /* Needs to be in here for Safari polyfill so background images work as expected. */\n",
       "                background-size: auto;\n",
       "            }\n",
       "            .progress-bar-interrupted, .progress-bar-interrupted::-webkit-progress-bar {\n",
       "                background: #F44336;\n",
       "            }\n",
       "        </style>\n",
       "      <progress value='1' class='' max='3' style='width:300px; height:20px; vertical-align: middle;'></progress>\n",
       "      33.33% [1/3 00:23<00:47]\n",
       "    </div>\n",
       "    \n",
       "<table border=\"1\" class=\"dataframe\">\n",
       "  <thead>\n",
       "    <tr style=\"text-align: left;\">\n",
       "      <th>epoch</th>\n",
       "      <th>train_loss</th>\n",
       "      <th>valid_loss</th>\n",
       "      <th>time</th>\n",
       "    </tr>\n",
       "  </thead>\n",
       "  <tbody>\n",
       "    <tr>\n",
       "      <td>0</td>\n",
       "      <td>0.043878</td>\n",
       "      <td>0.043887</td>\n",
       "      <td>00:23</td>\n",
       "    </tr>\n",
       "  </tbody>\n",
       "</table><p>\n",
       "\n",
       "    <div>\n",
       "        <style>\n",
       "            /* Turns off some styling */\n",
       "            progress {\n",
       "                /* gets rid of default border in Firefox and Opera. */\n",
       "                border: none;\n",
       "                /* Needs to be in here for Safari polyfill so background images work as expected. */\n",
       "                background-size: auto;\n",
       "            }\n",
       "            .progress-bar-interrupted, .progress-bar-interrupted::-webkit-progress-bar {\n",
       "                background: #F44336;\n",
       "            }\n",
       "        </style>\n",
       "      <progress value='224' class='' max='875' style='width:300px; height:20px; vertical-align: middle;'></progress>\n",
       "      25.60% [224/875 00:05<00:15 0.0435]\n",
       "    </div>\n",
       "    "
      ],
      "text/plain": [
       "<IPython.core.display.HTML object>"
      ]
     },
     "metadata": {},
     "output_type": "display_data"
    }
   ],
   "source": [
    "learner.fit(3, 4e-3)"
   ]
  }
 ],
 "metadata": {
  "kernelspec": {
   "display_name": "Python 3",
   "language": "python",
   "name": "python3"
  },
  "language_info": {
   "codemirror_mode": {
    "name": "ipython",
    "version": 3
   },
   "file_extension": ".py",
   "mimetype": "text/x-python",
   "name": "python",
   "nbconvert_exporter": "python",
   "pygments_lexer": "ipython3",
   "version": "3.8.5"
  }
 },
 "nbformat": 4,
 "nbformat_minor": 5
}
