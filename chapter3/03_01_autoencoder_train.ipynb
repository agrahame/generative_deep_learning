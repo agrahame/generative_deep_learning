{
 "cells": [
  {
   "cell_type": "code",
   "execution_count": 1,
   "id": "local-madison",
   "metadata": {},
   "outputs": [],
   "source": [
    "from fastai.vision.all import *\n",
    "from models.AE import AutoEncoder\n",
    "from torchsummary import summary"
   ]
  },
  {
   "cell_type": "code",
   "execution_count": 2,
   "id": "gorgeous-alcohol",
   "metadata": {},
   "outputs": [],
   "source": [
    "path = untar_data(URLs.MNIST, dest='data')"
   ]
  },
  {
   "cell_type": "code",
   "execution_count": 3,
   "id": "favorite-liberty",
   "metadata": {},
   "outputs": [
    {
     "data": {
      "text/plain": [
       "(#2) [Path('data/mnist_png/training'),Path('data/mnist_png/testing')]"
      ]
     },
     "execution_count": 3,
     "metadata": {},
     "output_type": "execute_result"
    }
   ],
   "source": [
    "path.ls()"
   ]
  },
  {
   "cell_type": "code",
   "execution_count": 4,
   "id": "reflected-rings",
   "metadata": {},
   "outputs": [],
   "source": [
    "Path.BASE_PATH = path"
   ]
  },
  {
   "cell_type": "code",
   "execution_count": 5,
   "id": "superb-pharmacology",
   "metadata": {},
   "outputs": [],
   "source": [
    "img3 = get_image_files(path/'training'/'3')[0]"
   ]
  },
  {
   "cell_type": "code",
   "execution_count": 6,
   "id": "capable-expression",
   "metadata": {},
   "outputs": [
    {
     "data": {
      "image/png": "[encoded data removed]",
      "text/plain": [
       "<PIL.PngImagePlugin.PngImageFile image mode=L size=28x28 at 0x7F896C0B6BB0>"
      ]
     },
     "execution_count": 6,
     "metadata": {},
     "output_type": "execute_result"
    }
   ],
   "source": [
    "Image.open(img3)"
   ]
  },
  {
   "cell_type": "code",
   "execution_count": 7,
   "id": "impaired-triple",
   "metadata": {},
   "outputs": [],
   "source": [
    "data_block = DataBlock(\n",
    "    blocks=(ImageBlock(cls=PILImageBW), ImageBlock(cls=PILImageBW)),\n",
    "    get_items=get_image_files,\n",
    "    splitter=RandomSplitter(seed=42)\n",
    ")"
   ]
  },
  {
   "cell_type": "code",
   "execution_count": 8,
   "id": "fiscal-genetics",
   "metadata": {},
   "outputs": [],
   "source": [
    "data_sets = data_block.datasets(path)"
   ]
  },
  {
   "cell_type": "code",
   "execution_count": 9,
   "id": "direct-governor",
   "metadata": {},
   "outputs": [
    {
     "data": {
      "text/plain": [
       "(PILImageBW mode=L size=28x28, PILImageBW mode=L size=28x28)"
      ]
     },
     "execution_count": 9,
     "metadata": {},
     "output_type": "execute_result"
    }
   ],
   "source": [
    "data_sets.train[0]"
   ]
  },
  {
   "cell_type": "code",
   "execution_count": 10,
   "id": "elect-domain",
   "metadata": {},
   "outputs": [
    {
     "data": {
      "text/plain": [
       "<AxesSubplot:>"
      ]
     },
     "execution_count": 10,
     "metadata": {},
     "output_type": "execute_result"
    },
    {
     "data": {
      "image/png": "[encoded data removed]",
      "text/plain": [
       "<Figure size 72x72 with 1 Axes>"
      ]
     },
     "metadata": {
      "needs_background": "light"
     },
     "output_type": "display_data"
    }
   ],
   "source": [
    "show_image(data_sets.train[0][0])"
   ]
  },
  {
   "cell_type": "code",
   "execution_count": 11,
   "id": "established-tract",
   "metadata": {},
   "outputs": [
    {
     "data": {
      "text/plain": [
       "<AxesSubplot:>"
      ]
     },
     "execution_count": 11,
     "metadata": {},
     "output_type": "execute_result"
    },
    {
     "data": {
      "image/png": "[encoded data removed]",
      "text/plain": [
       "<Figure size 72x72 with 1 Axes>"
      ]
     },
     "metadata": {
      "needs_background": "light"
     },
     "output_type": "display_data"
    }
   ],
   "source": [
    "show_image(data_sets.train[0][1])"
   ]
  },
  {
   "cell_type": "code",
   "execution_count": 12,
   "id": "smoking-syracuse",
   "metadata": {},
   "outputs": [
    {
     "data": {
      "text/plain": [
       "<AxesSubplot:>"
      ]
     },
     "execution_count": 12,
     "metadata": {},
     "output_type": "execute_result"
    },
    {
     "data": {
      "image/png": "[encoded data removed]",
      "text/plain": [
       "<Figure size 72x72 with 1 Axes>"
      ]
     },
     "metadata": {
      "needs_background": "light"
     },
     "output_type": "display_data"
    }
   ],
   "source": [
    "show_image(data_sets.train[10][0])"
   ]
  },
  {
   "cell_type": "code",
   "execution_count": 13,
   "id": "tested-volume",
   "metadata": {},
   "outputs": [
    {
     "data": {
      "text/plain": [
       "<AxesSubplot:>"
      ]
     },
     "execution_count": 13,
     "metadata": {},
     "output_type": "execute_result"
    },
    {
     "data": {
      "image/png": "[encoded data removed]",
      "text/plain": [
       "<Figure size 72x72 with 1 Axes>"
      ]
     },
     "metadata": {
      "needs_background": "light"
     },
     "output_type": "display_data"
    }
   ],
   "source": [
    "show_image(data_sets.train[10][1])"
   ]
  },
  {
   "cell_type": "code",
   "execution_count": 14,
   "id": "environmental-judges",
   "metadata": {},
   "outputs": [],
   "source": [
    "data_loaders = data_block.dataloaders(path)"
   ]
  },
  {
   "cell_type": "code",
   "execution_count": 15,
   "id": "adaptive-plumbing",
   "metadata": {},
   "outputs": [
    {
     "data": {
      "image/png": "[encoded data removed]",
      "text/plain": [
       "<Figure size 288x288 with 18 Axes>"
      ]
     },
     "metadata": {
      "needs_background": "light"
     },
     "output_type": "display_data"
    }
   ],
   "source": [
    "data_loaders.show_batch(max_n=9, figsize=(4,4))"
   ]
  },
  {
   "cell_type": "code",
   "execution_count": 16,
   "id": "careful-absolute",
   "metadata": {},
   "outputs": [],
   "source": [
    "model = AutoEncoder(\n",
    "    input_dim=[1, 28, 28],\n",
    "    conv_filters=[32, 64, 64, 64],\n",
    "    conv_t_filters=[64, 64, 32, 1],\n",
    "    kernel_sizes=[3, 3, 3, 3],\n",
    "    strides=[1, 2, 2, 1],\n",
    "    z_dim=2\n",
    ")"
   ]
  },
  {
   "cell_type": "code",
   "execution_count": 17,
   "id": "surrounded-personality",
   "metadata": {},
   "outputs": [
    {
     "name": "stdout",
     "output_type": "stream",
     "text": [
      "==========================================================================================\n",
      "Layer (type:depth-idx)                   Output Shape              Param #\n",
      "==========================================================================================\n",
      "├─Conv2d: 1-1                            [-1, 32, 28, 28]          320\n",
      "├─LeakyReLU: 1-2                         [-1, 32, 28, 28]          --\n",
      "├─Conv2d: 1-3                            [-1, 64, 14, 14]          18,496\n",
      "├─LeakyReLU: 1-4                         [-1, 64, 14, 14]          --\n",
      "├─Conv2d: 1-5                            [-1, 64, 7, 7]            36,928\n",
      "├─LeakyReLU: 1-6                         [-1, 64, 7, 7]            --\n",
      "├─Conv2d: 1-7                            [-1, 64, 7, 7]            36,928\n",
      "├─LeakyReLU: 1-8                         [-1, 64, 7, 7]            --\n",
      "├─Flatten: 1-9                           [-1, 3136]                --\n",
      "├─Linear: 1-10                           [-1, 2]                   6,274\n",
      "==========================================================================================\n",
      "Total params: 98,946\n",
      "Trainable params: 98,946\n",
      "Non-trainable params: 0\n",
      "Total mult-adds (M): 7.46\n",
      "==========================================================================================\n",
      "Input size (MB): 0.00\n",
      "Forward/backward pass size (MB): 0.33\n",
      "Params size (MB): 0.38\n",
      "Estimated Total Size (MB): 0.72\n",
      "==========================================================================================\n"
     ]
    },
    {
     "data": {
      "text/plain": [
       "==========================================================================================\n",
       "Layer (type:depth-idx)                   Output Shape              Param #\n",
       "==========================================================================================\n",
       "├─Conv2d: 1-1                            [-1, 32, 28, 28]          320\n",
       "├─LeakyReLU: 1-2                         [-1, 32, 28, 28]          --\n",
       "├─Conv2d: 1-3                            [-1, 64, 14, 14]          18,496\n",
       "├─LeakyReLU: 1-4                         [-1, 64, 14, 14]          --\n",
       "├─Conv2d: 1-5                            [-1, 64, 7, 7]            36,928\n",
       "├─LeakyReLU: 1-6                         [-1, 64, 7, 7]            --\n",
       "├─Conv2d: 1-7                            [-1, 64, 7, 7]            36,928\n",
       "├─LeakyReLU: 1-8                         [-1, 64, 7, 7]            --\n",
       "├─Flatten: 1-9                           [-1, 3136]                --\n",
       "├─Linear: 1-10                           [-1, 2]                   6,274\n",
       "==========================================================================================\n",
       "Total params: 98,946\n",
       "Trainable params: 98,946\n",
       "Non-trainable params: 0\n",
       "Total mult-adds (M): 7.46\n",
       "==========================================================================================\n",
       "Input size (MB): 0.00\n",
       "Forward/backward pass size (MB): 0.33\n",
       "Params size (MB): 0.38\n",
       "Estimated Total Size (MB): 0.72\n",
       "=========================================================================================="
      ]
     },
     "execution_count": 17,
     "metadata": {},
     "output_type": "execute_result"
    }
   ],
   "source": [
    "summary(model.encoder, (1, 28, 28))"
   ]
  },
  {
   "cell_type": "code",
   "execution_count": 18,
   "id": "after-intention",
   "metadata": {},
   "outputs": [
    {
     "name": "stdout",
     "output_type": "stream",
     "text": [
      "==========================================================================================\n",
      "Layer (type:depth-idx)                   Output Shape              Param #\n",
      "==========================================================================================\n",
      "├─Linear: 1-1                            [-1, 3136]                9,408\n",
      "├─Unflatten: 1-2                         [-1, 64, 7, 7]            --\n",
      "├─ConvTranspose2d: 1-3                   [-1, 64, 7, 7]            36,928\n",
      "├─LeakyReLU: 1-4                         [-1, 64, 7, 7]            --\n",
      "├─ConvTranspose2d: 1-5                   [-1, 64, 14, 14]          36,928\n",
      "├─LeakyReLU: 1-6                         [-1, 64, 14, 14]          --\n",
      "├─ConvTranspose2d: 1-7                   [-1, 32, 28, 28]          18,464\n",
      "├─LeakyReLU: 1-8                         [-1, 32, 28, 28]          --\n",
      "├─ConvTranspose2d: 1-9                   [-1, 1, 28, 28]           289\n",
      "├─Sigmoid: 1-10                          [-1, 1, 28, 28]           --\n",
      "==========================================================================================\n",
      "Total params: 102,017\n",
      "Trainable params: 102,017\n",
      "Non-trainable params: 0\n",
      "Total mult-adds (M): 23.71\n",
      "==========================================================================================\n",
      "Input size (MB): 0.00\n",
      "Forward/backward pass size (MB): 0.34\n",
      "Params size (MB): 0.39\n",
      "Estimated Total Size (MB): 0.73\n",
      "==========================================================================================\n"
     ]
    },
    {
     "data": {
      "text/plain": [
       "==========================================================================================\n",
       "Layer (type:depth-idx)                   Output Shape              Param #\n",
       "==========================================================================================\n",
       "├─Linear: 1-1                            [-1, 3136]                9,408\n",
       "├─Unflatten: 1-2                         [-1, 64, 7, 7]            --\n",
       "├─ConvTranspose2d: 1-3                   [-1, 64, 7, 7]            36,928\n",
       "├─LeakyReLU: 1-4                         [-1, 64, 7, 7]            --\n",
       "├─ConvTranspose2d: 1-5                   [-1, 64, 14, 14]          36,928\n",
       "├─LeakyReLU: 1-6                         [-1, 64, 14, 14]          --\n",
       "├─ConvTranspose2d: 1-7                   [-1, 32, 28, 28]          18,464\n",
       "├─LeakyReLU: 1-8                         [-1, 32, 28, 28]          --\n",
       "├─ConvTranspose2d: 1-9                   [-1, 1, 28, 28]           289\n",
       "├─Sigmoid: 1-10                          [-1, 1, 28, 28]           --\n",
       "==========================================================================================\n",
       "Total params: 102,017\n",
       "Trainable params: 102,017\n",
       "Non-trainable params: 0\n",
       "Total mult-adds (M): 23.71\n",
       "==========================================================================================\n",
       "Input size (MB): 0.00\n",
       "Forward/backward pass size (MB): 0.34\n",
       "Params size (MB): 0.39\n",
       "Estimated Total Size (MB): 0.73\n",
       "=========================================================================================="
      ]
     },
     "execution_count": 18,
     "metadata": {},
     "output_type": "execute_result"
    }
   ],
   "source": [
    "summary(model.decoder, (2,))"
   ]
  },
  {
   "cell_type": "code",
   "execution_count": 19,
   "id": "determined-variation",
   "metadata": {},
   "outputs": [],
   "source": [
    "def rmse_loss(inp, targ, **kwargs):\n",
    "    return torch.sqrt(F.mse_loss(inp, targ, **kwargs))"
   ]
  },
  {
   "cell_type": "code",
   "execution_count": 20,
   "id": "afraid-wedding",
   "metadata": {},
   "outputs": [],
   "source": [
    "learner = Learner(\n",
    "    dls=data_loaders,\n",
    "    model=model,\n",
    "    loss_func=rmse_loss\n",
    ")"
   ]
  },
  {
   "cell_type": "code",
   "execution_count": 21,
   "id": "speaking-virus",
   "metadata": {},
   "outputs": [
    {
     "data": {
      "text/html": [],
      "text/plain": [
       "<IPython.core.display.HTML object>"
      ]
     },
     "metadata": {},
     "output_type": "display_data"
    },
    {
     "data": {
      "text/plain": [
       "SuggestedLRs(valley=0.004365158267319202)"
      ]
     },
     "execution_count": 21,
     "metadata": {},
     "output_type": "execute_result"
    },
    {
     "data": {
      "image/png": "[encoded data removed]",
      "text/plain": [
       "<Figure size 432x288 with 1 Axes>"
      ]
     },
     "metadata": {
      "needs_background": "light"
     },
     "output_type": "display_data"
    }
   ],
   "source": [
    "learner.lr_find()"
   ]
  },
  {
   "cell_type": "code",
   "execution_count": 22,
   "id": "ultimate-moisture",
   "metadata": {},
   "outputs": [
    {
     "data": {
      "text/html": [
       "<table border=\"1\" class=\"dataframe\">\n",
       "  <thead>\n",
       "    <tr style=\"text-align: left;\">\n",
       "      <th>epoch</th>\n",
       "      <th>train_loss</th>\n",
       "      <th>valid_loss</th>\n",
       "      <th>time</th>\n",
       "    </tr>\n",
       "  </thead>\n",
       "  <tbody>\n",
       "    <tr>\n",
       "      <td>0</td>\n",
       "      <td>0.209252</td>\n",
       "      <td>0.208900</td>\n",
       "      <td>00:25</td>\n",
       "    </tr>\n",
       "    <tr>\n",
       "      <td>1</td>\n",
       "      <td>0.203962</td>\n",
       "      <td>0.204667</td>\n",
       "      <td>00:20</td>\n",
       "    </tr>\n",
       "    <tr>\n",
       "      <td>2</td>\n",
       "      <td>0.202387</td>\n",
       "      <td>0.202179</td>\n",
       "      <td>00:20</td>\n",
       "    </tr>\n",
       "    <tr>\n",
       "      <td>3</td>\n",
       "      <td>0.200091</td>\n",
       "      <td>0.201616</td>\n",
       "      <td>00:20</td>\n",
       "    </tr>\n",
       "    <tr>\n",
       "      <td>4</td>\n",
       "      <td>0.198268</td>\n",
       "      <td>0.199927</td>\n",
       "      <td>00:21</td>\n",
       "    </tr>\n",
       "    <tr>\n",
       "      <td>5</td>\n",
       "      <td>0.198650</td>\n",
       "      <td>0.199132</td>\n",
       "      <td>00:20</td>\n",
       "    </tr>\n",
       "    <tr>\n",
       "      <td>6</td>\n",
       "      <td>0.197341</td>\n",
       "      <td>0.198798</td>\n",
       "      <td>00:20</td>\n",
       "    </tr>\n",
       "    <tr>\n",
       "      <td>7</td>\n",
       "      <td>0.196962</td>\n",
       "      <td>0.198965</td>\n",
       "      <td>00:20</td>\n",
       "    </tr>\n",
       "    <tr>\n",
       "      <td>8</td>\n",
       "      <td>0.196121</td>\n",
       "      <td>0.197764</td>\n",
       "      <td>00:20</td>\n",
       "    </tr>\n",
       "    <tr>\n",
       "      <td>9</td>\n",
       "      <td>0.195609</td>\n",
       "      <td>0.197703</td>\n",
       "      <td>00:21</td>\n",
       "    </tr>\n",
       "  </tbody>\n",
       "</table>"
      ],
      "text/plain": [
       "<IPython.core.display.HTML object>"
      ]
     },
     "metadata": {},
     "output_type": "display_data"
    }
   ],
   "source": [
    "learner.fit(10, 3e-3)"
   ]
  },
  {
   "cell_type": "code",
   "execution_count": 23,
   "id": "featured-tactics",
   "metadata": {},
   "outputs": [],
   "source": [
    "learner.export()"
   ]
  }
 ],
 "metadata": {
  "kernelspec": {
   "display_name": "Python 3",
   "language": "python",
   "name": "python3"
  },
  "language_info": {
   "codemirror_mode": {
    "name": "ipython",
    "version": 3
   },
   "file_extension": ".py",
   "mimetype": "text/x-python",
   "name": "python",
   "nbconvert_exporter": "python",
   "pygments_lexer": "ipython3",
   "version": "3.8.5"
  }
 },
 "nbformat": 4,
 "nbformat_minor": 5
}
