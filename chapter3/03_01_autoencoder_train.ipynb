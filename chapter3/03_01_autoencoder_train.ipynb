{
 "cells": [
  {
   "cell_type": "code",
   "execution_count": 1,
   "id": "weekly-glasgow",
   "metadata": {},
   "outputs": [],
   "source": [
    "from fastai.vision.all import *\n",
    "from models.AE import AutoEncoder\n",
    "from torchsummary import summary\n",
    "from util.utils import rmse_loss"
   ]
  },
  {
   "cell_type": "code",
   "execution_count": 2,
   "id": "present-pharmaceutical",
   "metadata": {},
   "outputs": [],
   "source": [
    "path = untar_data(URLs.MNIST, dest='data')"
   ]
  },
  {
   "cell_type": "code",
   "execution_count": 3,
   "id": "actual-accommodation",
   "metadata": {},
   "outputs": [
    {
     "data": {
      "text/plain": [
       "(#2) [Path('data/mnist_png/training'),Path('data/mnist_png/testing')]"
      ]
     },
     "execution_count": 3,
     "metadata": {},
     "output_type": "execute_result"
    }
   ],
   "source": [
    "path.ls()"
   ]
  },
  {
   "cell_type": "code",
   "execution_count": 4,
   "id": "enabling-bookmark",
   "metadata": {},
   "outputs": [],
   "source": [
    "Path.BASE_PATH = path"
   ]
  },
  {
   "cell_type": "code",
   "execution_count": 5,
   "id": "exact-catering",
   "metadata": {},
   "outputs": [],
   "source": [
    "img3 = get_image_files(path/'training'/'3')[0]"
   ]
  },
  {
   "cell_type": "code",
   "execution_count": 6,
   "id": "possible-volume",
   "metadata": {},
   "outputs": [
    {
     "data": {
      "image/png": "[encoded data removed]",
      "text/plain": [
       "<PIL.PngImagePlugin.PngImageFile image mode=L size=28x28 at 0x7F7E1C0DC7C0>"
      ]
     },
     "execution_count": 6,
     "metadata": {},
     "output_type": "execute_result"
    }
   ],
   "source": [
    "Image.open(img3)"
   ]
  },
  {
   "cell_type": "code",
   "execution_count": 7,
   "id": "becoming-attention",
   "metadata": {},
   "outputs": [],
   "source": [
    "data_block = DataBlock(\n",
    "    blocks=(ImageBlock(cls=PILImageBW), ImageBlock(cls=PILImageBW)),\n",
    "    get_items=get_image_files,\n",
    "    splitter=RandomSplitter(seed=42)\n",
    ")"
   ]
  },
  {
   "cell_type": "code",
   "execution_count": 8,
   "id": "complete-harassment",
   "metadata": {},
   "outputs": [],
   "source": [
    "data_sets = data_block.datasets(path)"
   ]
  },
  {
   "cell_type": "code",
   "execution_count": 9,
   "id": "pretty-update",
   "metadata": {},
   "outputs": [
    {
     "data": {
      "text/plain": [
       "(PILImageBW mode=L size=28x28, PILImageBW mode=L size=28x28)"
      ]
     },
     "execution_count": 9,
     "metadata": {},
     "output_type": "execute_result"
    }
   ],
   "source": [
    "data_sets.train[0]"
   ]
  },
  {
   "cell_type": "code",
   "execution_count": 10,
   "id": "patent-storm",
   "metadata": {},
   "outputs": [
    {
     "data": {
      "text/plain": [
       "<AxesSubplot:>"
      ]
     },
     "execution_count": 10,
     "metadata": {},
     "output_type": "execute_result"
    },
    {
     "data": {
      "image/png": "[encoded data removed]",
      "text/plain": [
       "<Figure size 72x72 with 1 Axes>"
      ]
     },
     "metadata": {
      "needs_background": "light"
     },
     "output_type": "display_data"
    }
   ],
   "source": [
    "show_image(data_sets.train[0][0])"
   ]
  },
  {
   "cell_type": "code",
   "execution_count": 11,
   "id": "cognitive-hormone",
   "metadata": {},
   "outputs": [
    {
     "data": {
      "text/plain": [
       "<AxesSubplot:>"
      ]
     },
     "execution_count": 11,
     "metadata": {},
     "output_type": "execute_result"
    },
    {
     "data": {
      "image/png": "[encoded data removed]",
      "text/plain": [
       "<Figure size 72x72 with 1 Axes>"
      ]
     },
     "metadata": {
      "needs_background": "light"
     },
     "output_type": "display_data"
    }
   ],
   "source": [
    "show_image(data_sets.train[0][1])"
   ]
  },
  {
   "cell_type": "code",
   "execution_count": 12,
   "id": "accomplished-colorado",
   "metadata": {},
   "outputs": [
    {
     "data": {
      "text/plain": [
       "<AxesSubplot:>"
      ]
     },
     "execution_count": 12,
     "metadata": {},
     "output_type": "execute_result"
    },
    {
     "data": {
      "image/png": "[encoded data removed]",
      "text/plain": [
       "<Figure size 72x72 with 1 Axes>"
      ]
     },
     "metadata": {
      "needs_background": "light"
     },
     "output_type": "display_data"
    }
   ],
   "source": [
    "show_image(data_sets.train[10][0])"
   ]
  },
  {
   "cell_type": "code",
   "execution_count": 13,
   "id": "subtle-concrete",
   "metadata": {},
   "outputs": [
    {
     "data": {
      "text/plain": [
       "<AxesSubplot:>"
      ]
     },
     "execution_count": 13,
     "metadata": {},
     "output_type": "execute_result"
    },
    {
     "data": {
      "image/png": "[encoded data removed]",
      "text/plain": [
       "<Figure size 72x72 with 1 Axes>"
      ]
     },
     "metadata": {
      "needs_background": "light"
     },
     "output_type": "display_data"
    }
   ],
   "source": [
    "show_image(data_sets.train[10][1])"
   ]
  },
  {
   "cell_type": "code",
   "execution_count": 14,
   "id": "olive-scottish",
   "metadata": {},
   "outputs": [],
   "source": [
    "data_loaders = data_block.dataloaders(path)"
   ]
  },
  {
   "cell_type": "code",
   "execution_count": 15,
   "id": "dried-geology",
   "metadata": {},
   "outputs": [
    {
     "data": {
      "image/png": "[encoded data removed]",
      "text/plain": [
       "<Figure size 288x288 with 18 Axes>"
      ]
     },
     "metadata": {
      "needs_background": "light"
     },
     "output_type": "display_data"
    }
   ],
   "source": [
    "data_loaders.show_batch(max_n=9, figsize=(4,4))"
   ]
  },
  {
   "cell_type": "code",
   "execution_count": 16,
   "id": "skilled-alliance",
   "metadata": {},
   "outputs": [],
   "source": [
    "model = AutoEncoder(\n",
    "    input_dim=[1, 28, 28],\n",
    "    conv_filters=[32, 64, 64, 64],\n",
    "    conv_t_filters=[64, 64, 32, 1],\n",
    "    kernel_sizes=[3, 3, 3, 3],\n",
    "    strides=[1, 2, 2, 1],\n",
    "    z_dim=2\n",
    ")"
   ]
  },
  {
   "cell_type": "code",
   "execution_count": 17,
   "id": "based-melissa",
   "metadata": {},
   "outputs": [
    {
     "name": "stdout",
     "output_type": "stream",
     "text": [
      "==========================================================================================\n",
      "Layer (type:depth-idx)                   Output Shape              Param #\n",
      "==========================================================================================\n",
      "├─Conv2d: 1-1                            [-1, 32, 28, 28]          320\n",
      "├─LeakyReLU: 1-2                         [-1, 32, 28, 28]          --\n",
      "├─Conv2d: 1-3                            [-1, 64, 14, 14]          18,496\n",
      "├─LeakyReLU: 1-4                         [-1, 64, 14, 14]          --\n",
      "├─Conv2d: 1-5                            [-1, 64, 7, 7]            36,928\n",
      "├─LeakyReLU: 1-6                         [-1, 64, 7, 7]            --\n",
      "├─Conv2d: 1-7                            [-1, 64, 7, 7]            36,928\n",
      "├─LeakyReLU: 1-8                         [-1, 64, 7, 7]            --\n",
      "├─Flatten: 1-9                           [-1, 3136]                --\n",
      "├─Linear: 1-10                           [-1, 2]                   6,274\n",
      "==========================================================================================\n",
      "Total params: 98,946\n",
      "Trainable params: 98,946\n",
      "Non-trainable params: 0\n",
      "Total mult-adds (M): 7.46\n",
      "==========================================================================================\n",
      "Input size (MB): 0.00\n",
      "Forward/backward pass size (MB): 0.33\n",
      "Params size (MB): 0.38\n",
      "Estimated Total Size (MB): 0.72\n",
      "==========================================================================================\n"
     ]
    },
    {
     "data": {
      "text/plain": [
       "==========================================================================================\n",
       "Layer (type:depth-idx)                   Output Shape              Param #\n",
       "==========================================================================================\n",
       "├─Conv2d: 1-1                            [-1, 32, 28, 28]          320\n",
       "├─LeakyReLU: 1-2                         [-1, 32, 28, 28]          --\n",
       "├─Conv2d: 1-3                            [-1, 64, 14, 14]          18,496\n",
       "├─LeakyReLU: 1-4                         [-1, 64, 14, 14]          --\n",
       "├─Conv2d: 1-5                            [-1, 64, 7, 7]            36,928\n",
       "├─LeakyReLU: 1-6                         [-1, 64, 7, 7]            --\n",
       "├─Conv2d: 1-7                            [-1, 64, 7, 7]            36,928\n",
       "├─LeakyReLU: 1-8                         [-1, 64, 7, 7]            --\n",
       "├─Flatten: 1-9                           [-1, 3136]                --\n",
       "├─Linear: 1-10                           [-1, 2]                   6,274\n",
       "==========================================================================================\n",
       "Total params: 98,946\n",
       "Trainable params: 98,946\n",
       "Non-trainable params: 0\n",
       "Total mult-adds (M): 7.46\n",
       "==========================================================================================\n",
       "Input size (MB): 0.00\n",
       "Forward/backward pass size (MB): 0.33\n",
       "Params size (MB): 0.38\n",
       "Estimated Total Size (MB): 0.72\n",
       "=========================================================================================="
      ]
     },
     "execution_count": 17,
     "metadata": {},
     "output_type": "execute_result"
    }
   ],
   "source": [
    "summary(model.encoder, (1, 28, 28))"
   ]
  },
  {
   "cell_type": "code",
   "execution_count": 18,
   "id": "piano-classroom",
   "metadata": {},
   "outputs": [
    {
     "name": "stdout",
     "output_type": "stream",
     "text": [
      "==========================================================================================\n",
      "Layer (type:depth-idx)                   Output Shape              Param #\n",
      "==========================================================================================\n",
      "├─Linear: 1-1                            [-1, 3136]                9,408\n",
      "├─Unflatten: 1-2                         [-1, 64, 7, 7]            --\n",
      "├─ConvTranspose2d: 1-3                   [-1, 64, 7, 7]            36,928\n",
      "├─LeakyReLU: 1-4                         [-1, 64, 7, 7]            --\n",
      "├─ConvTranspose2d: 1-5                   [-1, 64, 14, 14]          36,928\n",
      "├─LeakyReLU: 1-6                         [-1, 64, 14, 14]          --\n",
      "├─ConvTranspose2d: 1-7                   [-1, 32, 28, 28]          18,464\n",
      "├─LeakyReLU: 1-8                         [-1, 32, 28, 28]          --\n",
      "├─ConvTranspose2d: 1-9                   [-1, 1, 28, 28]           289\n",
      "├─Sigmoid: 1-10                          [-1, 1, 28, 28]           --\n",
      "==========================================================================================\n",
      "Total params: 102,017\n",
      "Trainable params: 102,017\n",
      "Non-trainable params: 0\n",
      "Total mult-adds (M): 23.71\n",
      "==========================================================================================\n",
      "Input size (MB): 0.00\n",
      "Forward/backward pass size (MB): 0.34\n",
      "Params size (MB): 0.39\n",
      "Estimated Total Size (MB): 0.73\n",
      "==========================================================================================\n"
     ]
    },
    {
     "data": {
      "text/plain": [
       "==========================================================================================\n",
       "Layer (type:depth-idx)                   Output Shape              Param #\n",
       "==========================================================================================\n",
       "├─Linear: 1-1                            [-1, 3136]                9,408\n",
       "├─Unflatten: 1-2                         [-1, 64, 7, 7]            --\n",
       "├─ConvTranspose2d: 1-3                   [-1, 64, 7, 7]            36,928\n",
       "├─LeakyReLU: 1-4                         [-1, 64, 7, 7]            --\n",
       "├─ConvTranspose2d: 1-5                   [-1, 64, 14, 14]          36,928\n",
       "├─LeakyReLU: 1-6                         [-1, 64, 14, 14]          --\n",
       "├─ConvTranspose2d: 1-7                   [-1, 32, 28, 28]          18,464\n",
       "├─LeakyReLU: 1-8                         [-1, 32, 28, 28]          --\n",
       "├─ConvTranspose2d: 1-9                   [-1, 1, 28, 28]           289\n",
       "├─Sigmoid: 1-10                          [-1, 1, 28, 28]           --\n",
       "==========================================================================================\n",
       "Total params: 102,017\n",
       "Trainable params: 102,017\n",
       "Non-trainable params: 0\n",
       "Total mult-adds (M): 23.71\n",
       "==========================================================================================\n",
       "Input size (MB): 0.00\n",
       "Forward/backward pass size (MB): 0.34\n",
       "Params size (MB): 0.39\n",
       "Estimated Total Size (MB): 0.73\n",
       "=========================================================================================="
      ]
     },
     "execution_count": 18,
     "metadata": {},
     "output_type": "execute_result"
    }
   ],
   "source": [
    "summary(model.decoder, (2,))"
   ]
  },
  {
   "cell_type": "code",
   "execution_count": 19,
   "id": "involved-discount",
   "metadata": {},
   "outputs": [],
   "source": [
    "learner = Learner(\n",
    "    dls=data_loaders,\n",
    "    model=model,\n",
    "    loss_func=rmse_loss\n",
    ")"
   ]
  },
  {
   "cell_type": "code",
   "execution_count": 20,
   "id": "neural-learning",
   "metadata": {},
   "outputs": [
    {
     "data": {
      "text/html": [],
      "text/plain": [
       "<IPython.core.display.HTML object>"
      ]
     },
     "metadata": {},
     "output_type": "display_data"
    },
    {
     "data": {
      "text/plain": [
       "SuggestedLRs(valley=0.00363078061491251)"
      ]
     },
     "execution_count": 20,
     "metadata": {},
     "output_type": "execute_result"
    },
    {
     "data": {
      "image/png": "[encoded data removed]",
      "text/plain": [
       "<Figure size 432x288 with 1 Axes>"
      ]
     },
     "metadata": {
      "needs_background": "light"
     },
     "output_type": "display_data"
    }
   ],
   "source": [
    "learner.lr_find()"
   ]
  },
  {
   "cell_type": "code",
   "execution_count": 21,
   "id": "increased-semiconductor",
   "metadata": {},
   "outputs": [
    {
     "data": {
      "text/html": [
       "<table border=\"1\" class=\"dataframe\">\n",
       "  <thead>\n",
       "    <tr style=\"text-align: left;\">\n",
       "      <th>epoch</th>\n",
       "      <th>train_loss</th>\n",
       "      <th>valid_loss</th>\n",
       "      <th>time</th>\n",
       "    </tr>\n",
       "  </thead>\n",
       "  <tbody>\n",
       "    <tr>\n",
       "      <td>0</td>\n",
       "      <td>0.209879</td>\n",
       "      <td>0.208899</td>\n",
       "      <td>00:29</td>\n",
       "    </tr>\n",
       "    <tr>\n",
       "      <td>1</td>\n",
       "      <td>0.205167</td>\n",
       "      <td>0.205380</td>\n",
       "      <td>00:22</td>\n",
       "    </tr>\n",
       "    <tr>\n",
       "      <td>2</td>\n",
       "      <td>0.203183</td>\n",
       "      <td>0.202855</td>\n",
       "      <td>00:21</td>\n",
       "    </tr>\n",
       "    <tr>\n",
       "      <td>3</td>\n",
       "      <td>0.201108</td>\n",
       "      <td>0.201460</td>\n",
       "      <td>00:21</td>\n",
       "    </tr>\n",
       "    <tr>\n",
       "      <td>4</td>\n",
       "      <td>0.200766</td>\n",
       "      <td>0.201232</td>\n",
       "      <td>00:21</td>\n",
       "    </tr>\n",
       "    <tr>\n",
       "      <td>5</td>\n",
       "      <td>0.198267</td>\n",
       "      <td>0.200109</td>\n",
       "      <td>00:21</td>\n",
       "    </tr>\n",
       "    <tr>\n",
       "      <td>6</td>\n",
       "      <td>0.198169</td>\n",
       "      <td>0.198477</td>\n",
       "      <td>00:21</td>\n",
       "    </tr>\n",
       "    <tr>\n",
       "      <td>7</td>\n",
       "      <td>0.197354</td>\n",
       "      <td>0.198354</td>\n",
       "      <td>00:21</td>\n",
       "    </tr>\n",
       "    <tr>\n",
       "      <td>8</td>\n",
       "      <td>0.196176</td>\n",
       "      <td>0.197625</td>\n",
       "      <td>00:22</td>\n",
       "    </tr>\n",
       "    <tr>\n",
       "      <td>9</td>\n",
       "      <td>0.197341</td>\n",
       "      <td>0.199288</td>\n",
       "      <td>00:22</td>\n",
       "    </tr>\n",
       "  </tbody>\n",
       "</table>"
      ],
      "text/plain": [
       "<IPython.core.display.HTML object>"
      ]
     },
     "metadata": {},
     "output_type": "display_data"
    }
   ],
   "source": [
    "learner.fit(10, 3e-3)"
   ]
  },
  {
   "cell_type": "code",
   "execution_count": 22,
   "id": "noted-endorsement",
   "metadata": {},
   "outputs": [],
   "source": [
    "learner.export()"
   ]
  }
 ],
 "metadata": {
  "kernelspec": {
   "display_name": "Python 3",
   "language": "python",
   "name": "python3"
  },
  "language_info": {
   "codemirror_mode": {
    "name": "ipython",
    "version": 3
   },
   "file_extension": ".py",
   "mimetype": "text/x-python",
   "name": "python",
   "nbconvert_exporter": "python",
   "pygments_lexer": "ipython3",
   "version": "3.8.5"
  }
 },
 "nbformat": 4,
 "nbformat_minor": 5
}
