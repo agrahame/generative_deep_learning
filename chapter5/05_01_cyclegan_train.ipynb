{
 "cells": [
  {
   "cell_type": "code",
   "execution_count": null,
   "id": "romantic-master",
   "metadata": {},
   "outputs": [],
   "source": [
    "import fastai\n",
    "from fastai.vision.all import *\n",
    "from fastdownload import FastDownload\n",
    "from models.CycleGan import GeneratorUNet\n",
    "from torchsummary import summary"
   ]
  },
  {
   "cell_type": "code",
   "execution_count": null,
   "id": "surprised-politics",
   "metadata": {},
   "outputs": [],
   "source": [
    "path = Path('data')\n",
    "Path.BASE_PATH = path"
   ]
  },
  {
   "cell_type": "code",
   "execution_count": null,
   "id": "coastal-beast",
   "metadata": {},
   "outputs": [],
   "source": [
    "if not (path/'archive').exists():\n",
    "    loader = FastDownload(base=path.name, data='extracted', module=fastai.data)\n",
    "    loader.get(\"https://people.eecs.berkeley.edu/~taesung_park/CycleGAN/datasets/apple2orange.zip\")"
   ]
  },
  {
   "cell_type": "code",
   "execution_count": null,
   "id": "alien-recipient",
   "metadata": {},
   "outputs": [],
   "source": [
    "generator = GeneratorUNet(input_shape=[3, 128, 128],\n",
    "                          filters=[32, 64, 128, 256],\n",
    "                          ds_kernel_size=4,\n",
    "                          us_kernel_size=4,\n",
    "                          ds_stride=2,\n",
    "                          us_stride=1\n",
    "                         )"
   ]
  },
  {
   "cell_type": "code",
   "execution_count": null,
   "id": "editorial-mailing",
   "metadata": {},
   "outputs": [],
   "source": [
    "summary(generator, (3, 128, 128))"
   ]
  },
  {
   "cell_type": "code",
   "execution_count": null,
   "id": "prime-domain",
   "metadata": {},
   "outputs": [],
   "source": []
  }
 ],
 "metadata": {
  "kernelspec": {
   "display_name": "Python 3",
   "language": "python",
   "name": "python3"
  },
  "language_info": {
   "codemirror_mode": {
    "name": "ipython",
    "version": 3
   },
   "file_extension": ".py",
   "mimetype": "text/x-python",
   "name": "python",
   "nbconvert_exporter": "python",
   "pygments_lexer": "ipython3",
   "version": "3.8.5"
  }
 },
 "nbformat": 4,
 "nbformat_minor": 5
}
