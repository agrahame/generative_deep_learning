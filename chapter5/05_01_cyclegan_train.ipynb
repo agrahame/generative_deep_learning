{
 "cells": [
  {
   "cell_type": "code",
   "execution_count": 1,
   "id": "surprised-array",
   "metadata": {},
   "outputs": [],
   "source": [
    "import fastai\n",
    "from fastai.vision.all import *\n",
    "from fastdownload import FastDownload\n",
    "from models.CycleGan import GeneratorUNet, DiscriminatorUNet\n",
    "from torchsummary import summary"
   ]
  },
  {
   "cell_type": "code",
   "execution_count": 2,
   "id": "moved-arnold",
   "metadata": {},
   "outputs": [],
   "source": [
    "path = Path('data')\n",
    "Path.BASE_PATH = path"
   ]
  },
  {
   "cell_type": "code",
   "execution_count": 3,
   "id": "skilled-encoding",
   "metadata": {},
   "outputs": [],
   "source": [
    "if not (path/'archive').exists():\n",
    "    loader = FastDownload(base=path.name, data='extracted', module=fastai.data)\n",
    "    loader.get(\"https://people.eecs.berkeley.edu/~taesung_park/CycleGAN/datasets/apple2orange.zip\")"
   ]
  },
  {
   "cell_type": "code",
   "execution_count": 4,
   "id": "flexible-denver",
   "metadata": {},
   "outputs": [],
   "source": [
    "generator = GeneratorUNet(input_shape=[3, 128, 128],\n",
    "                          filters=[32, 64, 128, 256],\n",
    "                          ds_kernel_size=5,\n",
    "                          us_kernel_size=5,\n",
    "                          ds_stride=2,\n",
    "                          us_stride=1\n",
    "                         )"
   ]
  },
  {
   "cell_type": "code",
   "execution_count": 5,
   "id": "stupid-albert",
   "metadata": {},
   "outputs": [
    {
     "name": "stdout",
     "output_type": "stream",
     "text": [
      "===============================================================================================\n",
      "Layer (type:depth-idx)                        Output Shape              Param #\n",
      "===============================================================================================\n",
      "├─Sequential: 1-1                             [-1, 3, 128, 128]         --\n",
      "|    └─Downsampler: 2-1                       [-1, 32, 64, 64]          --\n",
      "|    |    └─Sequential: 3-1                   [-1, 32, 64, 64]          --\n",
      "|    |    |    └─Conv2d: 4-1                  [-1, 32, 64, 64]          2,432\n",
      "|    |    |    └─InstanceNorm2d: 4-2          [-1, 32, 64, 64]          --\n",
      "|    |    |    └─ReLU: 4-3                    [-1, 32, 64, 64]          --\n",
      "|    └─Downsampler: 2-2                       [-1, 64, 32, 32]          --\n",
      "|    |    └─Sequential: 3-2                   [-1, 64, 32, 32]          --\n",
      "|    |    |    └─Conv2d: 4-4                  [-1, 64, 32, 32]          51,264\n",
      "|    |    |    └─InstanceNorm2d: 4-5          [-1, 64, 32, 32]          --\n",
      "|    |    |    └─ReLU: 4-6                    [-1, 64, 32, 32]          --\n",
      "|    └─Downsampler: 2-3                       [-1, 128, 16, 16]         --\n",
      "|    |    └─Sequential: 3-3                   [-1, 128, 16, 16]         --\n",
      "|    |    |    └─Conv2d: 4-7                  [-1, 128, 16, 16]         204,928\n",
      "|    |    |    └─InstanceNorm2d: 4-8          [-1, 128, 16, 16]         --\n",
      "|    |    |    └─ReLU: 4-9                    [-1, 128, 16, 16]         --\n",
      "|    └─Downsampler: 2-4                       [-1, 256, 8, 8]           --\n",
      "|    |    └─Sequential: 3-4                   [-1, 256, 8, 8]           --\n",
      "|    |    |    └─Conv2d: 4-10                 [-1, 256, 8, 8]           819,456\n",
      "|    |    |    └─InstanceNorm2d: 4-11         [-1, 256, 8, 8]           --\n",
      "|    |    |    └─ReLU: 4-12                   [-1, 256, 8, 8]           --\n",
      "|    └─Upsampler: 2-5                         [-1, 256, 16, 16]         --\n",
      "|    |    └─Sequential: 3-5                   [-1, 128, 16, 16]         --\n",
      "|    |    |    └─Upsample: 4-13               [-1, 256, 16, 16]         --\n",
      "|    |    |    └─Conv2d: 4-14                 [-1, 128, 16, 16]         819,328\n",
      "|    |    |    └─InstanceNorm2d: 4-15         [-1, 128, 16, 16]         --\n",
      "|    |    |    └─ReLU: 4-16                   [-1, 128, 16, 16]         --\n",
      "|    └─Upsampler: 2-6                         [-1, 128, 32, 32]         --\n",
      "|    |    └─Sequential: 3-6                   [-1, 64, 32, 32]          --\n",
      "|    |    |    └─Upsample: 4-17               [-1, 256, 32, 32]         --\n",
      "|    |    |    └─Conv2d: 4-18                 [-1, 64, 32, 32]          409,664\n",
      "|    |    |    └─InstanceNorm2d: 4-19         [-1, 64, 32, 32]          --\n",
      "|    |    |    └─ReLU: 4-20                   [-1, 64, 32, 32]          --\n",
      "|    └─Upsampler: 2-7                         [-1, 64, 64, 64]          --\n",
      "|    |    └─Sequential: 3-7                   [-1, 32, 64, 64]          --\n",
      "|    |    |    └─Upsample: 4-21               [-1, 128, 64, 64]         --\n",
      "|    |    |    └─Conv2d: 4-22                 [-1, 32, 64, 64]          102,432\n",
      "|    |    |    └─InstanceNorm2d: 4-23         [-1, 32, 64, 64]          --\n",
      "|    |    |    └─ReLU: 4-24                   [-1, 32, 64, 64]          --\n",
      "|    └─Upsample: 2-8                          [-1, 64, 128, 128]        --\n",
      "|    └─Conv2d: 2-9                            [-1, 3, 128, 128]         4,803\n",
      "|    └─Tanh: 2-10                             [-1, 3, 128, 128]         --\n",
      "===============================================================================================\n",
      "Total params: 2,414,307\n",
      "Trainable params: 2,414,307\n",
      "Non-trainable params: 0\n",
      "Total mult-adds (G): 1.30\n",
      "===============================================================================================\n",
      "Input size (MB): 0.19\n",
      "Forward/backward pass size (MB): 4.00\n",
      "Params size (MB): 9.21\n",
      "Estimated Total Size (MB): 13.40\n",
      "===============================================================================================\n"
     ]
    },
    {
     "data": {
      "text/plain": [
       "===============================================================================================\n",
       "Layer (type:depth-idx)                        Output Shape              Param #\n",
       "===============================================================================================\n",
       "├─Sequential: 1-1                             [-1, 3, 128, 128]         --\n",
       "|    └─Downsampler: 2-1                       [-1, 32, 64, 64]          --\n",
       "|    |    └─Sequential: 3-1                   [-1, 32, 64, 64]          --\n",
       "|    |    |    └─Conv2d: 4-1                  [-1, 32, 64, 64]          2,432\n",
       "|    |    |    └─InstanceNorm2d: 4-2          [-1, 32, 64, 64]          --\n",
       "|    |    |    └─ReLU: 4-3                    [-1, 32, 64, 64]          --\n",
       "|    └─Downsampler: 2-2                       [-1, 64, 32, 32]          --\n",
       "|    |    └─Sequential: 3-2                   [-1, 64, 32, 32]          --\n",
       "|    |    |    └─Conv2d: 4-4                  [-1, 64, 32, 32]          51,264\n",
       "|    |    |    └─InstanceNorm2d: 4-5          [-1, 64, 32, 32]          --\n",
       "|    |    |    └─ReLU: 4-6                    [-1, 64, 32, 32]          --\n",
       "|    └─Downsampler: 2-3                       [-1, 128, 16, 16]         --\n",
       "|    |    └─Sequential: 3-3                   [-1, 128, 16, 16]         --\n",
       "|    |    |    └─Conv2d: 4-7                  [-1, 128, 16, 16]         204,928\n",
       "|    |    |    └─InstanceNorm2d: 4-8          [-1, 128, 16, 16]         --\n",
       "|    |    |    └─ReLU: 4-9                    [-1, 128, 16, 16]         --\n",
       "|    └─Downsampler: 2-4                       [-1, 256, 8, 8]           --\n",
       "|    |    └─Sequential: 3-4                   [-1, 256, 8, 8]           --\n",
       "|    |    |    └─Conv2d: 4-10                 [-1, 256, 8, 8]           819,456\n",
       "|    |    |    └─InstanceNorm2d: 4-11         [-1, 256, 8, 8]           --\n",
       "|    |    |    └─ReLU: 4-12                   [-1, 256, 8, 8]           --\n",
       "|    └─Upsampler: 2-5                         [-1, 256, 16, 16]         --\n",
       "|    |    └─Sequential: 3-5                   [-1, 128, 16, 16]         --\n",
       "|    |    |    └─Upsample: 4-13               [-1, 256, 16, 16]         --\n",
       "|    |    |    └─Conv2d: 4-14                 [-1, 128, 16, 16]         819,328\n",
       "|    |    |    └─InstanceNorm2d: 4-15         [-1, 128, 16, 16]         --\n",
       "|    |    |    └─ReLU: 4-16                   [-1, 128, 16, 16]         --\n",
       "|    └─Upsampler: 2-6                         [-1, 128, 32, 32]         --\n",
       "|    |    └─Sequential: 3-6                   [-1, 64, 32, 32]          --\n",
       "|    |    |    └─Upsample: 4-17               [-1, 256, 32, 32]         --\n",
       "|    |    |    └─Conv2d: 4-18                 [-1, 64, 32, 32]          409,664\n",
       "|    |    |    └─InstanceNorm2d: 4-19         [-1, 64, 32, 32]          --\n",
       "|    |    |    └─ReLU: 4-20                   [-1, 64, 32, 32]          --\n",
       "|    └─Upsampler: 2-7                         [-1, 64, 64, 64]          --\n",
       "|    |    └─Sequential: 3-7                   [-1, 32, 64, 64]          --\n",
       "|    |    |    └─Upsample: 4-21               [-1, 128, 64, 64]         --\n",
       "|    |    |    └─Conv2d: 4-22                 [-1, 32, 64, 64]          102,432\n",
       "|    |    |    └─InstanceNorm2d: 4-23         [-1, 32, 64, 64]          --\n",
       "|    |    |    └─ReLU: 4-24                   [-1, 32, 64, 64]          --\n",
       "|    └─Upsample: 2-8                          [-1, 64, 128, 128]        --\n",
       "|    └─Conv2d: 2-9                            [-1, 3, 128, 128]         4,803\n",
       "|    └─Tanh: 2-10                             [-1, 3, 128, 128]         --\n",
       "===============================================================================================\n",
       "Total params: 2,414,307\n",
       "Trainable params: 2,414,307\n",
       "Non-trainable params: 0\n",
       "Total mult-adds (G): 1.30\n",
       "===============================================================================================\n",
       "Input size (MB): 0.19\n",
       "Forward/backward pass size (MB): 4.00\n",
       "Params size (MB): 9.21\n",
       "Estimated Total Size (MB): 13.40\n",
       "==============================================================================================="
      ]
     },
     "execution_count": 5,
     "metadata": {},
     "output_type": "execute_result"
    }
   ],
   "source": [
    "summary(generator, (3, 128, 128), depth=4)"
   ]
  },
  {
   "cell_type": "code",
   "execution_count": 6,
   "id": "suitable-cable",
   "metadata": {},
   "outputs": [],
   "source": [
    "discriminator = DiscriminatorUNet(input_shape=[3, 128, 128],\n",
    "                                  filters=[32, 64, 128, 256],\n",
    "                                  kernel_size=5\n",
    "                                 )"
   ]
  },
  {
   "cell_type": "code",
   "execution_count": 7,
   "id": "gothic-stevens",
   "metadata": {},
   "outputs": [
    {
     "name": "stdout",
     "output_type": "stream",
     "text": [
      "==========================================================================================\n",
      "Layer (type:depth-idx)                   Output Shape              Param #\n",
      "==========================================================================================\n",
      "├─Sequential: 1-1                        [-1, 1, 16, 16]           --\n",
      "|    └─Conv2d: 2-1                       [-1, 32, 64, 64]          2,432\n",
      "|    └─LeakyReLU: 2-2                    [-1, 32, 64, 64]          --\n",
      "|    └─Conv2d: 2-3                       [-1, 64, 32, 32]          51,264\n",
      "|    └─InstanceNorm2d: 2-4               [-1, 64, 32, 32]          --\n",
      "|    └─LeakyReLU: 2-5                    [-1, 64, 32, 32]          --\n",
      "|    └─Conv2d: 2-6                       [-1, 128, 16, 16]         204,928\n",
      "|    └─InstanceNorm2d: 2-7               [-1, 128, 16, 16]         --\n",
      "|    └─LeakyReLU: 2-8                    [-1, 128, 16, 16]         --\n",
      "|    └─Conv2d: 2-9                       [-1, 256, 16, 16]         819,456\n",
      "|    └─InstanceNorm2d: 2-10              [-1, 256, 16, 16]         --\n",
      "|    └─LeakyReLU: 2-11                   [-1, 256, 16, 16]         --\n",
      "|    └─Conv2d: 2-12                      [-1, 1, 16, 16]           6,401\n",
      "==========================================================================================\n",
      "Total params: 1,084,481\n",
      "Trainable params: 1,084,481\n",
      "Non-trainable params: 0\n",
      "Total mult-adds (M): 327.13\n",
      "==========================================================================================\n",
      "Input size (MB): 0.19\n",
      "Forward/backward pass size (MB): 2.25\n",
      "Params size (MB): 4.14\n",
      "Estimated Total Size (MB): 6.58\n",
      "==========================================================================================\n"
     ]
    },
    {
     "data": {
      "text/plain": [
       "==========================================================================================\n",
       "Layer (type:depth-idx)                   Output Shape              Param #\n",
       "==========================================================================================\n",
       "├─Sequential: 1-1                        [-1, 1, 16, 16]           --\n",
       "|    └─Conv2d: 2-1                       [-1, 32, 64, 64]          2,432\n",
       "|    └─LeakyReLU: 2-2                    [-1, 32, 64, 64]          --\n",
       "|    └─Conv2d: 2-3                       [-1, 64, 32, 32]          51,264\n",
       "|    └─InstanceNorm2d: 2-4               [-1, 64, 32, 32]          --\n",
       "|    └─LeakyReLU: 2-5                    [-1, 64, 32, 32]          --\n",
       "|    └─Conv2d: 2-6                       [-1, 128, 16, 16]         204,928\n",
       "|    └─InstanceNorm2d: 2-7               [-1, 128, 16, 16]         --\n",
       "|    └─LeakyReLU: 2-8                    [-1, 128, 16, 16]         --\n",
       "|    └─Conv2d: 2-9                       [-1, 256, 16, 16]         819,456\n",
       "|    └─InstanceNorm2d: 2-10              [-1, 256, 16, 16]         --\n",
       "|    └─LeakyReLU: 2-11                   [-1, 256, 16, 16]         --\n",
       "|    └─Conv2d: 2-12                      [-1, 1, 16, 16]           6,401\n",
       "==========================================================================================\n",
       "Total params: 1,084,481\n",
       "Trainable params: 1,084,481\n",
       "Non-trainable params: 0\n",
       "Total mult-adds (M): 327.13\n",
       "==========================================================================================\n",
       "Input size (MB): 0.19\n",
       "Forward/backward pass size (MB): 2.25\n",
       "Params size (MB): 4.14\n",
       "Estimated Total Size (MB): 6.58\n",
       "=========================================================================================="
      ]
     },
     "execution_count": 7,
     "metadata": {},
     "output_type": "execute_result"
    }
   ],
   "source": [
    "summary(discriminator, (3, 128, 128))"
   ]
  }
 ],
 "metadata": {
  "kernelspec": {
   "display_name": "Python 3",
   "language": "python",
   "name": "python3"
  },
  "language_info": {
   "codemirror_mode": {
    "name": "ipython",
    "version": 3
   },
   "file_extension": ".py",
   "mimetype": "text/x-python",
   "name": "python",
   "nbconvert_exporter": "python",
   "pygments_lexer": "ipython3",
   "version": "3.8.5"
  }
 },
 "nbformat": 4,
 "nbformat_minor": 5
}
