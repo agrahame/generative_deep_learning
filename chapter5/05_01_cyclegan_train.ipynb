{
 "cells": [
  {
   "cell_type": "code",
   "execution_count": null,
   "id": "special-headquarters",
   "metadata": {},
   "outputs": [],
   "source": [
    "import fastai\n",
    "from fastai.vision.all import *\n",
    "from fastdownload import FastDownload\n",
    "from models.CycleGan import GeneratorUNet, DiscriminatorUNet\n",
    "from torchsummary import summary\n",
    "from IPython.core.debugger import set_trace"
   ]
  },
  {
   "cell_type": "code",
   "execution_count": null,
   "id": "complimentary-serbia",
   "metadata": {},
   "outputs": [],
   "source": [
    "path = Path('data')\n",
    "Path.BASE_PATH = path"
   ]
  },
  {
   "cell_type": "code",
   "execution_count": null,
   "id": "parental-setting",
   "metadata": {},
   "outputs": [],
   "source": [
    "if not (path/'archive').exists():\n",
    "    loader = FastDownload(base=path.name, data='extracted', module=fastai.data)\n",
    "    loader.get(\"https://people.eecs.berkeley.edu/~taesung_park/CycleGAN/datasets/apple2orange.zip\")"
   ]
  },
  {
   "cell_type": "code",
   "execution_count": null,
   "id": "continued-penny",
   "metadata": {},
   "outputs": [],
   "source": [
    "generator = GeneratorUNet(input_shape=[3, 128, 128],\n",
    "                          filters=[32, 64, 128, 256],\n",
    "                          ds_kernel_size=5,\n",
    "                          us_kernel_size=5,\n",
    "                          ds_stride=2,\n",
    "                          us_stride=1\n",
    "                         )"
   ]
  },
  {
   "cell_type": "code",
   "execution_count": null,
   "id": "spatial-samuel",
   "metadata": {},
   "outputs": [],
   "source": [
    "summary(generator, (3, 128, 128), depth=4)"
   ]
  },
  {
   "cell_type": "code",
   "execution_count": null,
   "id": "entertaining-festival",
   "metadata": {},
   "outputs": [],
   "source": [
    "discriminator = DiscriminatorUNet(input_shape=[3, 128, 128],\n",
    "                                  filters=[32, 64, 128, 256],\n",
    "                                  kernel_size=5\n",
    "                                 )"
   ]
  },
  {
   "cell_type": "code",
   "execution_count": null,
   "id": "mounted-norway",
   "metadata": {},
   "outputs": [],
   "source": [
    "summary(discriminator, (3, 128, 128))"
   ]
  },
  {
   "cell_type": "code",
   "execution_count": null,
   "id": "otherwise-definition",
   "metadata": {},
   "outputs": [],
   "source": [
    "train_path = path/'extracted/apple2orange'"
   ]
  },
  {
   "cell_type": "code",
   "execution_count": null,
   "id": "proprietary-comment",
   "metadata": {},
   "outputs": [],
   "source": [
    "# Idea from Siamese tutorial: https://docs.fast.ai/tutorial.siamese.html\n",
    "class ImageTuple(fastuple):\n",
    "    \n",
    "    @classmethod\n",
    "    def create(cls, paths):\n",
    "        return cls(tuple(PILImage.create(p) for p in paths))\n",
    "    \n",
    "    def show(self, ctx=None, **kwargs): \n",
    "        t1,t2 = self\n",
    "        if not isinstance(t1, Tensor) or not isinstance(t2, Tensor) or t1.shape != t2.shape: return ctx\n",
    "        line = t1.new_zeros(t1.shape[0], t1.shape[1], 10)\n",
    "        return show_image(torch.cat([t1,line,t2], dim=2), ctx=ctx, **kwargs)\n",
    "\n",
    "    \n",
    "def ImageTupleBlock():\n",
    "    return TransformBlock(type_tfms=ImageTuple.create, batch_tfms=IntToFloatTensor)"
   ]
  },
  {
   "cell_type": "code",
   "execution_count": null,
   "id": "eleven-suicide",
   "metadata": {},
   "outputs": [],
   "source": [
    "def get_image_tuples(path: Path, domain_a: str = 'trainA', domain_b: str = 'trainB'):\n",
    "    imgs_a = get_image_files(path/domain_a)\n",
    "    imgs_b = get_image_files(path/domain_b)\n",
    "    \n",
    "    return list(map(lambda x: list(x + ('apple_orange',)), zip(imgs_a, imgs_b)))\n",
    "\n",
    "def get_x(tup):\n",
    "    return tup[:2]\n",
    "\n",
    "def get_y(tup):\n",
    "    return tup[2]"
   ]
  },
  {
   "cell_type": "code",
   "execution_count": null,
   "id": "polyphonic-archive",
   "metadata": {},
   "outputs": [],
   "source": [
    "datablock = DataBlock(blocks=(ImageTupleBlock, CategoryBlock),\n",
    "                      get_items=get_image_tuples,\n",
    "                      get_x=get_x,\n",
    "                      get_y=get_y,\n",
    "                      splitter=RandomSplitter(seed=42)\n",
    "                     )"
   ]
  },
  {
   "cell_type": "code",
   "execution_count": null,
   "id": "loved-greece",
   "metadata": {},
   "outputs": [],
   "source": [
    "dataloaders = datablock.dataloaders(train_path)"
   ]
  },
  {
   "cell_type": "code",
   "execution_count": null,
   "id": "floral-structure",
   "metadata": {},
   "outputs": [],
   "source": [
    "dataloaders.show_batch(max_n=4)"
   ]
  },
  {
   "cell_type": "code",
   "execution_count": null,
   "id": "satellite-premium",
   "metadata": {},
   "outputs": [],
   "source": []
  }
 ],
 "metadata": {
  "kernelspec": {
   "display_name": "Python 3",
   "language": "python",
   "name": "python3"
  },
  "language_info": {
   "codemirror_mode": {
    "name": "ipython",
    "version": 3
   },
   "file_extension": ".py",
   "mimetype": "text/x-python",
   "name": "python",
   "nbconvert_exporter": "python",
   "pygments_lexer": "ipython3",
   "version": "3.8.5"
  }
 },
 "nbformat": 4,
 "nbformat_minor": 5
}
